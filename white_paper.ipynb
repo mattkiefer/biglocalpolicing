{
 "cells": [
  {
   "cell_type": "markdown",
   "metadata": {},
   "source": [
    "# Policing Reservations: White Paper\n",
    "\n",
    "### This document is intended to walk you through the analysis that was completed in support of this story. The raw code and outcomes are shown below, each including a brief explanation of their relevance to the analysis."
   ]
  },
  {
   "cell_type": "markdown",
   "metadata": {},
   "source": [
    "### Setup"
   ]
  },
  {
   "cell_type": "code",
   "execution_count": 2,
   "metadata": {},
   "outputs": [
    {
     "name": "stderr",
     "output_type": "stream",
     "text": [
      "── \u001b[1mAttaching packages\u001b[22m ─────────────────────────────────────── tidyverse 1.2.1 ──\n",
      "\u001b[32m✔\u001b[39m \u001b[34mggplot2\u001b[39m 3.2.0     \u001b[32m✔\u001b[39m \u001b[34mpurrr  \u001b[39m 0.3.3\n",
      "\u001b[32m✔\u001b[39m \u001b[34mtibble \u001b[39m 2.1.3     \u001b[32m✔\u001b[39m \u001b[34mdplyr  \u001b[39m 0.8.3\n",
      "\u001b[32m✔\u001b[39m \u001b[34mtidyr  \u001b[39m 0.8.3     \u001b[32m✔\u001b[39m \u001b[34mstringr\u001b[39m 1.4.0\n",
      "\u001b[32m✔\u001b[39m \u001b[34mreadr  \u001b[39m 1.3.1     \u001b[32m✔\u001b[39m \u001b[34mforcats\u001b[39m 0.4.0\n",
      "── \u001b[1mConflicts\u001b[22m ────────────────────────────────────────── tidyverse_conflicts() ──\n",
      "\u001b[31m✖\u001b[39m \u001b[34mdplyr\u001b[39m::\u001b[32mfilter()\u001b[39m masks \u001b[34mstats\u001b[39m::filter()\n",
      "\u001b[31m✖\u001b[39m \u001b[34mdplyr\u001b[39m::\u001b[32mlag()\u001b[39m    masks \u001b[34mstats\u001b[39m::lag()\n",
      "\n",
      "Attaching package: ‘lubridate’\n",
      "\n",
      "The following object is masked from ‘package:base’:\n",
      "\n",
      "    date\n",
      "\n"
     ]
    }
   ],
   "source": [
    "# Libraries\n",
    "\n",
    "library(tidyverse)\n",
    "library(lubridate)"
   ]
  },
  {
   "cell_type": "code",
   "execution_count": 54,
   "metadata": {},
   "outputs": [],
   "source": [
    "# Parameters\n",
    "\n",
    "### File paths\n",
    "mt_path <- \"data/hp256wp2687_mt_statewide_2019_08_13.rds\"\n",
    "\n",
    "mt_path_clean <- \"data_cleaning/cleaned_mt_records.csv\" # Cleaned data with violations grouped into type\n",
    "\n",
    "flathead_counties <- c(\n",
    "    'Flathead County', \n",
    "    'Lincoln County', \n",
    "    'Lake County', \n",
    "    'Mineral County', \n",
    "    'Missoula County', \n",
    "    'Ravalli County', \n",
    "    'Sanders County', \n",
    "    'Salish & Kootenai County'\n",
    "    )"
   ]
  },
  {
   "cell_type": "code",
   "execution_count": 55,
   "metadata": {},
   "outputs": [
    {
     "name": "stderr",
     "output_type": "stream",
     "text": [
      "Parsed with column specification:\n",
      "cols(\n",
      "  date = \u001b[34mcol_date(format = \"\")\u001b[39m,\n",
      "  time = \u001b[32mcol_double()\u001b[39m,\n",
      "  year = \u001b[32mcol_double()\u001b[39m,\n",
      "  lat = \u001b[32mcol_double()\u001b[39m,\n",
      "  lng = \u001b[32mcol_double()\u001b[39m,\n",
      "  subject_race = \u001b[31mcol_character()\u001b[39m,\n",
      "  search_conducted = \u001b[33mcol_logical()\u001b[39m,\n",
      "  reason_for_stop = \u001b[31mcol_character()\u001b[39m,\n",
      "  violation_type = \u001b[31mcol_character()\u001b[39m,\n",
      "  consent_search_conducted = \u001b[33mcol_logical()\u001b[39m,\n",
      "  raw_search_type = \u001b[31mcol_character()\u001b[39m\n",
      ")\n"
     ]
    }
   ],
   "source": [
    "# Load Data\n",
    "\n",
    "data <-\n",
    "    mt_path %>%\n",
    "    read_rds() %>%\n",
    "    mutate(\n",
    "        year = year(date)\n",
    "    ) %>%\n",
    "    filter(year >= 2010)\n",
    "\n",
    "#Load cleaned data\n",
    "data_clean <-\n",
    "    mt_path_clean %>%\n",
    "    read_csv() %>%\n",
    "    mutate(\n",
    "        year = year(date)\n",
    "    ) %>%\n",
    "    filter(year >= 2010)"
   ]
  },
  {
   "cell_type": "markdown",
   "metadata": {},
   "source": [
    "#### Here you can see an example of what the raw data looks like:"
   ]
  },
  {
   "cell_type": "code",
   "execution_count": 10,
   "metadata": {},
   "outputs": [
    {
     "data": {
      "text/html": [
       "<table>\n",
       "<caption>A tibble: 6 × 30</caption>\n",
       "<thead>\n",
       "\t<tr><th scope=col>raw_row_number</th><th scope=col>date</th><th scope=col>time</th><th scope=col>location</th><th scope=col>lat</th><th scope=col>lng</th><th scope=col>county_name</th><th scope=col>subject_age</th><th scope=col>subject_race</th><th scope=col>subject_sex</th><th scope=col>⋯</th><th scope=col>reason_for_stop</th><th scope=col>vehicle_make</th><th scope=col>vehicle_model</th><th scope=col>vehicle_type</th><th scope=col>vehicle_registration_state</th><th scope=col>vehicle_year</th><th scope=col>raw_Race</th><th scope=col>raw_Ethnicity</th><th scope=col>raw_SearchType</th><th scope=col>year</th></tr>\n",
       "\t<tr><th scope=col>&lt;chr&gt;</th><th scope=col>&lt;date&gt;</th><th scope=col>&lt;drtn&gt;</th><th scope=col>&lt;chr&gt;</th><th scope=col>&lt;dbl&gt;</th><th scope=col>&lt;dbl&gt;</th><th scope=col>&lt;chr&gt;</th><th scope=col>&lt;int&gt;</th><th scope=col>&lt;fct&gt;</th><th scope=col>&lt;fct&gt;</th><th scope=col>⋯</th><th scope=col>&lt;chr&gt;</th><th scope=col>&lt;chr&gt;</th><th scope=col>&lt;chr&gt;</th><th scope=col>&lt;chr&gt;</th><th scope=col>&lt;fct&gt;</th><th scope=col>&lt;int&gt;</th><th scope=col>&lt;chr&gt;</th><th scope=col>&lt;chr&gt;</th><th scope=col>&lt;chr&gt;</th><th scope=col>&lt;dbl&gt;</th></tr>\n",
       "</thead>\n",
       "<tbody>\n",
       "\t<tr><td>53   </td><td>2015-08-28</td><td>07:24:10</td><td>I-90 EB MMM 418            </td><td>45.59977</td><td>-109.0627</td><td>Stillwater County</td><td>27</td><td>white</td><td>male  </td><td>⋯</td><td>--- - SPEED OVER LEGAL                 </td><td>FORD (FORD)</td><td>F35       </td><td>PICKUP   </td><td>MT</td><td>1996</td><td>W</td><td>N</td><td>NO SEARCH REQUESTED</td><td>2015</td></tr>\n",
       "\t<tr><td>18438</td><td>2010-01-01</td><td>00:03:09</td><td>WASHINGTON ST AND FIRST AVE</td><td>48.77944</td><td>-104.5611</td><td>Sheridan County  </td><td>58</td><td>white</td><td>male  </td><td>⋯</td><td>--- - FAIL TO / IMPROPER SIGNAL        </td><td>FORD       </td><td>F25 STYLE </td><td>PICKUP   </td><td>MT</td><td>1999</td><td>W</td><td>N</td><td>NO SEARCH REQUESTED</td><td>2010</td></tr>\n",
       "\t<tr><td>18439</td><td>2010-01-01</td><td>00:08:56</td><td>PINE AT BIG SKY SPUR       </td><td>45.26102</td><td>-111.3094</td><td>Gallatin County  </td><td>37</td><td>white</td><td>female</td><td>⋯</td><td>--- - FAIL TO STOP - SIGN OR LIGHT     </td><td>FORD       </td><td>FSY Style </td><td>CROSSOVER</td><td>MT</td><td>2005</td><td>W</td><td>N</td><td>NO SEARCH REQUESTED</td><td>2010</td></tr>\n",
       "\t<tr><td>18440</td><td>2010-01-01</td><td>00:10:56</td><td>I90 MM 299EB               </td><td>45.75969</td><td>-111.1610</td><td>Gallatin County  </td><td>55</td><td>white</td><td>female</td><td>⋯</td><td>--- - LIGHT VIOLATIONS                 </td><td>TOYOTA     </td><td>CAMRY     </td><td>SEDAN    </td><td>MT</td><td>2001</td><td>W</td><td>N</td><td>NO SEARCH REQUESTED</td><td>2010</td></tr>\n",
       "\t<tr><td>18441</td><td>2010-01-01</td><td>00:12:28</td><td>100 E FIRST AVE            </td><td>48.77335</td><td>-104.5598</td><td>Sheridan County  </td><td>40</td><td>white</td><td>male  </td><td>⋯</td><td>--- - DISPLAYING ONLY ONE LICENSE PLATE</td><td>FORD       </td><td>F350 SUPER</td><td>PICKUP   </td><td>MT</td><td>2001</td><td>W</td><td>N</td><td>NO SEARCH REQUESTED</td><td>2010</td></tr>\n",
       "\t<tr><td>18442</td><td>2010-01-01</td><td>00:15:30</td><td>HWY 93 MP 178 SB-35 ZONE   </td><td>48.87421</td><td>-115.0429</td><td>Lincoln County   </td><td>27</td><td>white</td><td>male  </td><td>⋯</td><td>--- - SPEED OVER LEGAL                 </td><td>ROVER      </td><td>LR2       </td><td>CROSSOVER</td><td>NA</td><td>2008</td><td>W</td><td>N</td><td>NO SEARCH REQUESTED</td><td>2010</td></tr>\n",
       "</tbody>\n",
       "</table>\n"
      ],
      "text/latex": [
       "A tibble: 6 × 30\n",
       "\\begin{tabular}{r|llllllllllllllllllllllllllllll}\n",
       " raw\\_row\\_number & date & time & location & lat & lng & county\\_name & subject\\_age & subject\\_race & subject\\_sex & department\\_name & type & violation & arrest\\_made & citation\\_issued & warning\\_issued & outcome & frisk\\_performed & search\\_conducted & search\\_basis & reason\\_for\\_stop & vehicle\\_make & vehicle\\_model & vehicle\\_type & vehicle\\_registration\\_state & vehicle\\_year & raw\\_Race & raw\\_Ethnicity & raw\\_SearchType & year\\\\\n",
       " <chr> & <date> & <drtn> & <chr> & <dbl> & <dbl> & <chr> & <int> & <fct> & <fct> & <chr> & <fct> & <chr> & <lgl> & <lgl> & <lgl> & <fct> & <lgl> & <lgl> & <fct> & <chr> & <chr> & <chr> & <chr> & <fct> & <int> & <chr> & <chr> & <chr> & <dbl>\\\\\n",
       "\\hline\n",
       "\t 53    & 2015-08-28 & 07:24:10 & I-90 EB MMM 418             & 45.59977 & -109.0627 & Stillwater County & 27 & white & male   & Montana Highway Patrol & vehicular & 111 - SPEED OVER LEGAL\\textbar{}240 - INSURANCE\\textbar{}206 - VEHICLE LICENSE & FALSE &  TRUE & TRUE & citation & FALSE & FALSE & NA & --- - SPEED OVER LEGAL                  & FORD (FORD) & F35        & PICKUP    & MT & 1996 & W & N & NO SEARCH REQUESTED & 2015\\\\\n",
       "\t 18438 & 2010-01-01 & 00:03:09 & WASHINGTON ST AND FIRST AVE & 48.77944 & -104.5611 & Sheridan County   & 58 & white & male   & Montana Highway Patrol & vehicular & 135 - FAIL TO / IMPROPER SIGL\\textbar{}206 - VEHICLE LICENSE          & FALSE & FALSE & TRUE & warning  & FALSE & FALSE & NA & --- - FAIL TO / IMPROPER SIGNAL         & FORD        & F25 STYLE  & PICKUP    & MT & 1999 & W & N & NO SEARCH REQUESTED & 2010\\\\\n",
       "\t 18439 & 2010-01-01 & 00:08:56 & PINE AT BIG SKY SPUR        & 45.26102 & -111.3094 & Gallatin County   & 37 & white & female & Montana Highway Patrol & vehicular & 145 - FAIL TO STOP - SIGN OR LIGHT\\textbar{}202 - DRIVERS LICENSE     & FALSE & FALSE & TRUE & warning  & FALSE & FALSE & NA & --- - FAIL TO STOP - SIGN OR LIGHT      & FORD        & FSY Style  & CROSSOVER & MT & 2005 & W & N & NO SEARCH REQUESTED & 2010\\\\\n",
       "\t 18440 & 2010-01-01 & 00:10:56 & I90 MM 299EB                & 45.75969 & -111.1610 & Gallatin County   & 55 & white & female & Montana Highway Patrol & vehicular & 160 - LIGHT VIOLATIONS                                       & FALSE & FALSE & TRUE & warning  & FALSE & FALSE & NA & --- - LIGHT VIOLATIONS                  & TOYOTA      & CAMRY      & SEDAN     & MT & 2001 & W & N & NO SEARCH REQUESTED & 2010\\\\\n",
       "\t 18441 & 2010-01-01 & 00:12:28 & 100 E FIRST AVE             & 48.77335 & -104.5598 & Sheridan County   & 40 & white & male   & Montana Highway Patrol & vehicular & 207 - DISPLAYING ONLY ONE LICENSE PLATE                      & FALSE & FALSE & TRUE & warning  & FALSE & FALSE & NA & --- - DISPLAYING ONLY ONE LICENSE PLATE & FORD        & F350 SUPER & PICKUP    & MT & 2001 & W & N & NO SEARCH REQUESTED & 2010\\\\\n",
       "\t 18442 & 2010-01-01 & 00:15:30 & HWY 93 MP 178 SB-35 ZONE    & 48.87421 & -115.0429 & Lincoln County    & 27 & white & male   & Montana Highway Patrol & vehicular & 111 - SPEED OVER LEGAL\\textbar{}202 - DRIVERS LICENSE                 & FALSE & FALSE & TRUE & warning  & FALSE & FALSE & NA & --- - SPEED OVER LEGAL                  & ROVER       & LR2        & CROSSOVER & NA & 2008 & W & N & NO SEARCH REQUESTED & 2010\\\\\n",
       "\\end{tabular}\n"
      ],
      "text/markdown": [
       "\n",
       "A tibble: 6 × 30\n",
       "\n",
       "| raw_row_number &lt;chr&gt; | date &lt;date&gt; | time &lt;drtn&gt; | location &lt;chr&gt; | lat &lt;dbl&gt; | lng &lt;dbl&gt; | county_name &lt;chr&gt; | subject_age &lt;int&gt; | subject_race &lt;fct&gt; | subject_sex &lt;fct&gt; | ⋯ ⋯ | reason_for_stop &lt;chr&gt; | vehicle_make &lt;chr&gt; | vehicle_model &lt;chr&gt; | vehicle_type &lt;chr&gt; | vehicle_registration_state &lt;fct&gt; | vehicle_year &lt;int&gt; | raw_Race &lt;chr&gt; | raw_Ethnicity &lt;chr&gt; | raw_SearchType &lt;chr&gt; | year &lt;dbl&gt; |\n",
       "|---|---|---|---|---|---|---|---|---|---|---|---|---|---|---|---|---|---|---|---|---|\n",
       "| 53    | 2015-08-28 | 07:24:10 | I-90 EB MMM 418             | 45.59977 | -109.0627 | Stillwater County | 27 | white | male   | ⋯ | --- - SPEED OVER LEGAL                  | FORD (FORD) | F35        | PICKUP    | MT | 1996 | W | N | NO SEARCH REQUESTED | 2015 |\n",
       "| 18438 | 2010-01-01 | 00:03:09 | WASHINGTON ST AND FIRST AVE | 48.77944 | -104.5611 | Sheridan County   | 58 | white | male   | ⋯ | --- - FAIL TO / IMPROPER SIGNAL         | FORD        | F25 STYLE  | PICKUP    | MT | 1999 | W | N | NO SEARCH REQUESTED | 2010 |\n",
       "| 18439 | 2010-01-01 | 00:08:56 | PINE AT BIG SKY SPUR        | 45.26102 | -111.3094 | Gallatin County   | 37 | white | female | ⋯ | --- - FAIL TO STOP - SIGN OR LIGHT      | FORD        | FSY Style  | CROSSOVER | MT | 2005 | W | N | NO SEARCH REQUESTED | 2010 |\n",
       "| 18440 | 2010-01-01 | 00:10:56 | I90 MM 299EB                | 45.75969 | -111.1610 | Gallatin County   | 55 | white | female | ⋯ | --- - LIGHT VIOLATIONS                  | TOYOTA      | CAMRY      | SEDAN     | MT | 2001 | W | N | NO SEARCH REQUESTED | 2010 |\n",
       "| 18441 | 2010-01-01 | 00:12:28 | 100 E FIRST AVE             | 48.77335 | -104.5598 | Sheridan County   | 40 | white | male   | ⋯ | --- - DISPLAYING ONLY ONE LICENSE PLATE | FORD        | F350 SUPER | PICKUP    | MT | 2001 | W | N | NO SEARCH REQUESTED | 2010 |\n",
       "| 18442 | 2010-01-01 | 00:15:30 | HWY 93 MP 178 SB-35 ZONE    | 48.87421 | -115.0429 | Lincoln County    | 27 | white | male   | ⋯ | --- - SPEED OVER LEGAL                  | ROVER       | LR2        | CROSSOVER | NA | 2008 | W | N | NO SEARCH REQUESTED | 2010 |\n",
       "\n"
      ],
      "text/plain": [
       "  raw_row_number date       time     location                    lat     \n",
       "1 53             2015-08-28 07:24:10 I-90 EB MMM 418             45.59977\n",
       "2 18438          2010-01-01 00:03:09 WASHINGTON ST AND FIRST AVE 48.77944\n",
       "3 18439          2010-01-01 00:08:56 PINE AT BIG SKY SPUR        45.26102\n",
       "4 18440          2010-01-01 00:10:56 I90 MM 299EB                45.75969\n",
       "5 18441          2010-01-01 00:12:28 100 E FIRST AVE             48.77335\n",
       "6 18442          2010-01-01 00:15:30 HWY 93 MP 178 SB-35 ZONE    48.87421\n",
       "  lng       county_name       subject_age subject_race subject_sex ⋯\n",
       "1 -109.0627 Stillwater County 27          white        male        ⋯\n",
       "2 -104.5611 Sheridan County   58          white        male        ⋯\n",
       "3 -111.3094 Gallatin County   37          white        female      ⋯\n",
       "4 -111.1610 Gallatin County   55          white        female      ⋯\n",
       "5 -104.5598 Sheridan County   40          white        male        ⋯\n",
       "6 -115.0429 Lincoln County    27          white        male        ⋯\n",
       "  reason_for_stop                         vehicle_make vehicle_model\n",
       "1 --- - SPEED OVER LEGAL                  FORD (FORD)  F35          \n",
       "2 --- - FAIL TO / IMPROPER SIGNAL         FORD         F25 STYLE    \n",
       "3 --- - FAIL TO STOP - SIGN OR LIGHT      FORD         FSY Style    \n",
       "4 --- - LIGHT VIOLATIONS                  TOYOTA       CAMRY        \n",
       "5 --- - DISPLAYING ONLY ONE LICENSE PLATE FORD         F350 SUPER   \n",
       "6 --- - SPEED OVER LEGAL                  ROVER        LR2          \n",
       "  vehicle_type vehicle_registration_state vehicle_year raw_Race raw_Ethnicity\n",
       "1 PICKUP       MT                         1996         W        N            \n",
       "2 PICKUP       MT                         1999         W        N            \n",
       "3 CROSSOVER    MT                         2005         W        N            \n",
       "4 SEDAN        MT                         2001         W        N            \n",
       "5 PICKUP       MT                         2001         W        N            \n",
       "6 CROSSOVER    NA                         2008         W        N            \n",
       "  raw_SearchType      year\n",
       "1 NO SEARCH REQUESTED 2015\n",
       "2 NO SEARCH REQUESTED 2010\n",
       "3 NO SEARCH REQUESTED 2010\n",
       "4 NO SEARCH REQUESTED 2010\n",
       "5 NO SEARCH REQUESTED 2010\n",
       "6 NO SEARCH REQUESTED 2010"
      ]
     },
     "metadata": {},
     "output_type": "display_data"
    }
   ],
   "source": [
    "head(data)"
   ]
  },
  {
   "cell_type": "markdown",
   "metadata": {},
   "source": [
    "#### Here you can see all of the columns that were present in the data. These include descriptive details such as time and place of the stop, as well as details about the officer, vehicle, violation, and more."
   ]
  },
  {
   "cell_type": "code",
   "execution_count": 11,
   "metadata": {},
   "outputs": [
    {
     "data": {
      "text/html": [
       "<ol class=list-inline>\n",
       "\t<li>'raw_row_number'</li>\n",
       "\t<li>'date'</li>\n",
       "\t<li>'time'</li>\n",
       "\t<li>'location'</li>\n",
       "\t<li>'lat'</li>\n",
       "\t<li>'lng'</li>\n",
       "\t<li>'county_name'</li>\n",
       "\t<li>'subject_age'</li>\n",
       "\t<li>'subject_race'</li>\n",
       "\t<li>'subject_sex'</li>\n",
       "\t<li>'department_name'</li>\n",
       "\t<li>'type'</li>\n",
       "\t<li>'violation'</li>\n",
       "\t<li>'arrest_made'</li>\n",
       "\t<li>'citation_issued'</li>\n",
       "\t<li>'warning_issued'</li>\n",
       "\t<li>'outcome'</li>\n",
       "\t<li>'frisk_performed'</li>\n",
       "\t<li>'search_conducted'</li>\n",
       "\t<li>'search_basis'</li>\n",
       "\t<li>'reason_for_stop'</li>\n",
       "\t<li>'vehicle_make'</li>\n",
       "\t<li>'vehicle_model'</li>\n",
       "\t<li>'vehicle_type'</li>\n",
       "\t<li>'vehicle_registration_state'</li>\n",
       "\t<li>'vehicle_year'</li>\n",
       "\t<li>'raw_Race'</li>\n",
       "\t<li>'raw_Ethnicity'</li>\n",
       "\t<li>'raw_SearchType'</li>\n",
       "\t<li>'year'</li>\n",
       "</ol>\n"
      ],
      "text/latex": [
       "\\begin{enumerate*}\n",
       "\\item 'raw\\_row\\_number'\n",
       "\\item 'date'\n",
       "\\item 'time'\n",
       "\\item 'location'\n",
       "\\item 'lat'\n",
       "\\item 'lng'\n",
       "\\item 'county\\_name'\n",
       "\\item 'subject\\_age'\n",
       "\\item 'subject\\_race'\n",
       "\\item 'subject\\_sex'\n",
       "\\item 'department\\_name'\n",
       "\\item 'type'\n",
       "\\item 'violation'\n",
       "\\item 'arrest\\_made'\n",
       "\\item 'citation\\_issued'\n",
       "\\item 'warning\\_issued'\n",
       "\\item 'outcome'\n",
       "\\item 'frisk\\_performed'\n",
       "\\item 'search\\_conducted'\n",
       "\\item 'search\\_basis'\n",
       "\\item 'reason\\_for\\_stop'\n",
       "\\item 'vehicle\\_make'\n",
       "\\item 'vehicle\\_model'\n",
       "\\item 'vehicle\\_type'\n",
       "\\item 'vehicle\\_registration\\_state'\n",
       "\\item 'vehicle\\_year'\n",
       "\\item 'raw\\_Race'\n",
       "\\item 'raw\\_Ethnicity'\n",
       "\\item 'raw\\_SearchType'\n",
       "\\item 'year'\n",
       "\\end{enumerate*}\n"
      ],
      "text/markdown": [
       "1. 'raw_row_number'\n",
       "2. 'date'\n",
       "3. 'time'\n",
       "4. 'location'\n",
       "5. 'lat'\n",
       "6. 'lng'\n",
       "7. 'county_name'\n",
       "8. 'subject_age'\n",
       "9. 'subject_race'\n",
       "10. 'subject_sex'\n",
       "11. 'department_name'\n",
       "12. 'type'\n",
       "13. 'violation'\n",
       "14. 'arrest_made'\n",
       "15. 'citation_issued'\n",
       "16. 'warning_issued'\n",
       "17. 'outcome'\n",
       "18. 'frisk_performed'\n",
       "19. 'search_conducted'\n",
       "20. 'search_basis'\n",
       "21. 'reason_for_stop'\n",
       "22. 'vehicle_make'\n",
       "23. 'vehicle_model'\n",
       "24. 'vehicle_type'\n",
       "25. 'vehicle_registration_state'\n",
       "26. 'vehicle_year'\n",
       "27. 'raw_Race'\n",
       "28. 'raw_Ethnicity'\n",
       "29. 'raw_SearchType'\n",
       "30. 'year'\n",
       "\n",
       "\n"
      ],
      "text/plain": [
       " [1] \"raw_row_number\"             \"date\"                      \n",
       " [3] \"time\"                       \"location\"                  \n",
       " [5] \"lat\"                        \"lng\"                       \n",
       " [7] \"county_name\"                \"subject_age\"               \n",
       " [9] \"subject_race\"               \"subject_sex\"               \n",
       "[11] \"department_name\"            \"type\"                      \n",
       "[13] \"violation\"                  \"arrest_made\"               \n",
       "[15] \"citation_issued\"            \"warning_issued\"            \n",
       "[17] \"outcome\"                    \"frisk_performed\"           \n",
       "[19] \"search_conducted\"           \"search_basis\"              \n",
       "[21] \"reason_for_stop\"            \"vehicle_make\"              \n",
       "[23] \"vehicle_model\"              \"vehicle_type\"              \n",
       "[25] \"vehicle_registration_state\" \"vehicle_year\"              \n",
       "[27] \"raw_Race\"                   \"raw_Ethnicity\"             \n",
       "[29] \"raw_SearchType\"             \"year\"                      "
      ]
     },
     "metadata": {},
     "output_type": "display_data"
    }
   ],
   "source": [
    "data %>% colnames()"
   ]
  },
  {
   "cell_type": "markdown",
   "metadata": {},
   "source": [
    "#### Here you can see how many searches of each type were in the data. Consent searches were of most interest for the analysis due to their utility in examining potential bias. You'll notice that there are a lot of stops didn't result in searches of the vehicle. These are denoted by \"NA\" below."
   ]
  },
  {
   "cell_type": "code",
   "execution_count": 12,
   "metadata": {},
   "outputs": [
    {
     "name": "stderr",
     "output_type": "stream",
     "text": [
      "Warning message:\n",
      "“Factor `search_basis` contains implicit NA, consider using `forcats::fct_explicit_na`”"
     ]
    },
    {
     "data": {
      "text/html": [
       "<table>\n",
       "<caption>A tibble: 5 × 2</caption>\n",
       "<thead>\n",
       "\t<tr><th scope=col>search_basis</th><th scope=col>Count</th></tr>\n",
       "\t<tr><th scope=col>&lt;fct&gt;</th><th scope=col>&lt;int&gt;</th></tr>\n",
       "</thead>\n",
       "<tbody>\n",
       "\t<tr><td>plain view    </td><td>   132</td></tr>\n",
       "\t<tr><td>consent       </td><td>  2197</td></tr>\n",
       "\t<tr><td>probable cause</td><td>    43</td></tr>\n",
       "\t<tr><td>other         </td><td>   575</td></tr>\n",
       "\t<tr><td>NA            </td><td>803726</td></tr>\n",
       "</tbody>\n",
       "</table>\n"
      ],
      "text/latex": [
       "A tibble: 5 × 2\n",
       "\\begin{tabular}{r|ll}\n",
       " search\\_basis & Count\\\\\n",
       " <fct> & <int>\\\\\n",
       "\\hline\n",
       "\t plain view     &    132\\\\\n",
       "\t consent        &   2197\\\\\n",
       "\t probable cause &     43\\\\\n",
       "\t other          &    575\\\\\n",
       "\t NA             & 803726\\\\\n",
       "\\end{tabular}\n"
      ],
      "text/markdown": [
       "\n",
       "A tibble: 5 × 2\n",
       "\n",
       "| search_basis &lt;fct&gt; | Count &lt;int&gt; |\n",
       "|---|---|\n",
       "| plain view     |    132 |\n",
       "| consent        |   2197 |\n",
       "| probable cause |     43 |\n",
       "| other          |    575 |\n",
       "| NA             | 803726 |\n",
       "\n"
      ],
      "text/plain": [
       "  search_basis   Count \n",
       "1 plain view        132\n",
       "2 consent          2197\n",
       "3 probable cause     43\n",
       "4 other             575\n",
       "5 NA             803726"
      ]
     },
     "metadata": {},
     "output_type": "display_data"
    }
   ],
   "source": [
    "data %>% count(search_basis, name = \"Count\") "
   ]
  },
  {
   "cell_type": "markdown",
   "metadata": {},
   "source": [
    "#### Upon deciding to analyze the consent search rate, out next question was to understand if certain races were searched at a disproportionate rate. If such a disparity existed, it could indicate bias in officers judgement of who to search. The numbers appears low, but that is because consent searches tend to be fairly rare across every stop. Notably, the rate for Native American drivers is almost 4x as high as it is for White drivers."
   ]
  },
  {
   "cell_type": "code",
   "execution_count": 39,
   "metadata": {},
   "outputs": [
    {
     "data": {
      "text/html": [
       "<table>\n",
       "<caption>A tibble: 4 × 4</caption>\n",
       "<thead>\n",
       "\t<tr><th scope=col>Race</th><th scope=col>total_stops</th><th scope=col>total_consent_searches</th><th scope=col>consent_search_rate</th></tr>\n",
       "\t<tr><th scope=col>&lt;chr&gt;</th><th scope=col>&lt;int&gt;</th><th scope=col>&lt;int&gt;</th><th scope=col>&lt;chr&gt;</th></tr>\n",
       "</thead>\n",
       "<tbody>\n",
       "\t<tr><td>Asian Drivers          </td><td>  6588</td><td>  31</td><td>0.47%</td></tr>\n",
       "\t<tr><td>Black Drivers          </td><td>  8655</td><td>  92</td><td>1.06%</td></tr>\n",
       "\t<tr><td>Native American Drivers</td><td> 37882</td><td> 386</td><td>1.02%</td></tr>\n",
       "\t<tr><td>White Drivers          </td><td>750944</td><td>1686</td><td>0.22%</td></tr>\n",
       "</tbody>\n",
       "</table>\n"
      ],
      "text/latex": [
       "A tibble: 4 × 4\n",
       "\\begin{tabular}{r|llll}\n",
       " Race & total\\_stops & total\\_consent\\_searches & consent\\_search\\_rate\\\\\n",
       " <chr> & <int> & <int> & <chr>\\\\\n",
       "\\hline\n",
       "\t Asian Drivers           &   6588 &   31 & 0.47\\%\\\\\n",
       "\t Black Drivers           &   8655 &   92 & 1.06\\%\\\\\n",
       "\t Native American Drivers &  37882 &  386 & 1.02\\%\\\\\n",
       "\t White Drivers           & 750944 & 1686 & 0.22\\%\\\\\n",
       "\\end{tabular}\n"
      ],
      "text/markdown": [
       "\n",
       "A tibble: 4 × 4\n",
       "\n",
       "| Race &lt;chr&gt; | total_stops &lt;int&gt; | total_consent_searches &lt;int&gt; | consent_search_rate &lt;chr&gt; |\n",
       "|---|---|---|---|\n",
       "| Asian Drivers           |   6588 |   31 | 0.47% |\n",
       "| Black Drivers           |   8655 |   92 | 1.06% |\n",
       "| Native American Drivers |  37882 |  386 | 1.02% |\n",
       "| White Drivers           | 750944 | 1686 | 0.22% |\n",
       "\n"
      ],
      "text/plain": [
       "  Race                    total_stops total_consent_searches\n",
       "1 Asian Drivers             6588        31                  \n",
       "2 Black Drivers             8655        92                  \n",
       "3 Native American Drivers  37882       386                  \n",
       "4 White Drivers           750944      1686                  \n",
       "  consent_search_rate\n",
       "1 0.47%              \n",
       "2 1.06%              \n",
       "3 1.02%              \n",
       "4 0.22%              "
      ]
     },
     "metadata": {},
     "output_type": "display_data"
    }
   ],
   "source": [
    "data %>%\n",
    "    group_by(raw_Race) %>%\n",
    "    filter(raw_Race != \"NA\", raw_Race != \"U\") %>%\n",
    "    summarise(\n",
    "        total_stops = n(),\n",
    "        consent_searches = sum(search_basis == \"consent\", na.rm = TRUE),\n",
    "        consent_search_rate = (consent_searches/total_stops) * 100\n",
    "    ) %>%\n",
    "    transmute(\n",
    "        Race = case_when(\n",
    "            raw_Race == \"A\" ~ \"Asian Drivers\",\n",
    "            raw_Race == \"B\" ~ \"Black Drivers\",\n",
    "            raw_Race == \"I\" ~ \"Native American Drivers\",\n",
    "            raw_Race == \"W\" ~ \"White Drivers\"\n",
    "        ),\n",
    "        total_stops,\n",
    "        total_consent_searches = consent_searches,\n",
    "        consent_search_rate = consent_search_rate %>% round(digits = 2) %>% as.character() %>% paste0(\"%\")\n",
    "    )"
   ]
  },
  {
   "cell_type": "markdown",
   "metadata": {},
   "source": [
    "#### Upon seeing this result, we had many questions. One of them was whether or not this rate was consistent over time. For instance, it could have been due to an anomalous year. We dug in to find out. You'll see that in every year from 2010 - 2016, Native American drivers seemed to be searched more frequently than White drivers."
   ]
  },
  {
   "cell_type": "code",
   "execution_count": 76,
   "metadata": {},
   "outputs": [
    {
     "data": {
      "text/html": [
       "<table>\n",
       "<caption>A tibble: 7 × 4</caption>\n",
       "<thead>\n",
       "\t<tr><th scope=col>year</th><th scope=col>How Much More Often Were Native Drivers Searched</th><th scope=col>native_american_search_rate</th><th scope=col>white_search_rate</th></tr>\n",
       "\t<tr><th scope=col>&lt;dbl&gt;</th><th scope=col>&lt;chr&gt;</th><th scope=col>&lt;chr&gt;</th><th scope=col>&lt;chr&gt;</th></tr>\n",
       "</thead>\n",
       "<tbody>\n",
       "\t<tr><td>2010</td><td>1.2x</td><td>0.21%</td><td>0.17%</td></tr>\n",
       "\t<tr><td>2011</td><td>2.8x</td><td>0.41%</td><td>0.15%</td></tr>\n",
       "\t<tr><td>2012</td><td>2.3x</td><td>0.34%</td><td>0.15%</td></tr>\n",
       "\t<tr><td>2013</td><td>3.2x</td><td>0.6% </td><td>0.19%</td></tr>\n",
       "\t<tr><td>2014</td><td>6.2x</td><td>1.87%</td><td>0.3% </td></tr>\n",
       "\t<tr><td>2015</td><td>4.9x</td><td>1.59%</td><td>0.32%</td></tr>\n",
       "\t<tr><td>2016</td><td>6.1x</td><td>1.94%</td><td>0.32%</td></tr>\n",
       "</tbody>\n",
       "</table>\n"
      ],
      "text/latex": [
       "A tibble: 7 × 4\n",
       "\\begin{tabular}{r|llll}\n",
       " year & How Much More Often Were Native Drivers Searched & native\\_american\\_search\\_rate & white\\_search\\_rate\\\\\n",
       " <dbl> & <chr> & <chr> & <chr>\\\\\n",
       "\\hline\n",
       "\t 2010 & 1.2x & 0.21\\% & 0.17\\%\\\\\n",
       "\t 2011 & 2.8x & 0.41\\% & 0.15\\%\\\\\n",
       "\t 2012 & 2.3x & 0.34\\% & 0.15\\%\\\\\n",
       "\t 2013 & 3.2x & 0.6\\%  & 0.19\\%\\\\\n",
       "\t 2014 & 6.2x & 1.87\\% & 0.3\\% \\\\\n",
       "\t 2015 & 4.9x & 1.59\\% & 0.32\\%\\\\\n",
       "\t 2016 & 6.1x & 1.94\\% & 0.32\\%\\\\\n",
       "\\end{tabular}\n"
      ],
      "text/markdown": [
       "\n",
       "A tibble: 7 × 4\n",
       "\n",
       "| year &lt;dbl&gt; | How Much More Often Were Native Drivers Searched &lt;chr&gt; | native_american_search_rate &lt;chr&gt; | white_search_rate &lt;chr&gt; |\n",
       "|---|---|---|---|\n",
       "| 2010 | 1.2x | 0.21% | 0.17% |\n",
       "| 2011 | 2.8x | 0.41% | 0.15% |\n",
       "| 2012 | 2.3x | 0.34% | 0.15% |\n",
       "| 2013 | 3.2x | 0.6%  | 0.19% |\n",
       "| 2014 | 6.2x | 1.87% | 0.3%  |\n",
       "| 2015 | 4.9x | 1.59% | 0.32% |\n",
       "| 2016 | 6.1x | 1.94% | 0.32% |\n",
       "\n"
      ],
      "text/plain": [
       "  year How Much More Often Were Native Drivers Searched\n",
       "1 2010 1.2x                                            \n",
       "2 2011 2.8x                                            \n",
       "3 2012 2.3x                                            \n",
       "4 2013 3.2x                                            \n",
       "5 2014 6.2x                                            \n",
       "6 2015 4.9x                                            \n",
       "7 2016 6.1x                                            \n",
       "  native_american_search_rate white_search_rate\n",
       "1 0.21%                       0.17%            \n",
       "2 0.41%                       0.15%            \n",
       "3 0.34%                       0.15%            \n",
       "4 0.6%                        0.19%            \n",
       "5 1.87%                       0.3%             \n",
       "6 1.59%                       0.32%            \n",
       "7 1.94%                       0.32%            "
      ]
     },
     "metadata": {},
     "output_type": "display_data"
    }
   ],
   "source": [
    "data %>%\n",
    "    group_by(year, raw_Race) %>%\n",
    "    filter(raw_Race %in% c(\"W\", \"I\"), !is.na(year)) %>%\n",
    "    summarise(\n",
    "        total_stops = n(),\n",
    "        consent_searches = sum(search_basis == \"consent\", na.rm = TRUE),\n",
    "        consent_search_rate = (consent_searches/total_stops) * 100\n",
    "    ) %>%\n",
    "    select(-total_stops, -consent_searches) %>%\n",
    "    spread(key = raw_Race, value = consent_search_rate) %>%\n",
    "    ungroup() %>%\n",
    "    transmute(\n",
    "        year,\n",
    "        'How Much More Often Were Native Drivers Searched' = round(I/W, digits = 1) %>% as.character() %>% paste0(\"x\"),\n",
    "        native_american_search_rate = I %>% round(digits = 2) %>% as.character() %>% paste0(\"%\"),\n",
    "        white_search_rate = W %>% round(digits = 2) %>% as.character() %>% paste0(\"%\")\n",
    "    )"
   ]
  },
  {
   "cell_type": "markdown",
   "metadata": {},
   "source": [
    "#### Realizing that this disparity is consistent over time, we turned out attention to geographic differences. Below, we analyze the search rate disparity in and around the Flathead Reservation. We were curious to know if biased practices seemed to increase when policing in and around the reservation. We found that they did and the Native drivers were searched roughly 11x as often as White drivers in this area."
   ]
  },
  {
   "cell_type": "code",
   "execution_count": 75,
   "metadata": {},
   "outputs": [
    {
     "data": {
      "text/html": [
       "<table>\n",
       "<caption>A tibble: 1 × 3</caption>\n",
       "<thead>\n",
       "\t<tr><th scope=col>How Much More Often Were Native Drivers Searched</th><th scope=col>native_american_search_rate</th><th scope=col>white_search_rate</th></tr>\n",
       "\t<tr><th scope=col>&lt;chr&gt;</th><th scope=col>&lt;chr&gt;</th><th scope=col>&lt;chr&gt;</th></tr>\n",
       "</thead>\n",
       "<tbody>\n",
       "\t<tr><td>11.5x</td><td>3.02%</td><td>0.26%</td></tr>\n",
       "</tbody>\n",
       "</table>\n"
      ],
      "text/latex": [
       "A tibble: 1 × 3\n",
       "\\begin{tabular}{r|lll}\n",
       " How Much More Often Were Native Drivers Searched & native\\_american\\_search\\_rate & white\\_search\\_rate\\\\\n",
       " <chr> & <chr> & <chr>\\\\\n",
       "\\hline\n",
       "\t 11.5x & 3.02\\% & 0.26\\%\\\\\n",
       "\\end{tabular}\n"
      ],
      "text/markdown": [
       "\n",
       "A tibble: 1 × 3\n",
       "\n",
       "| How Much More Often Were Native Drivers Searched &lt;chr&gt; | native_american_search_rate &lt;chr&gt; | white_search_rate &lt;chr&gt; |\n",
       "|---|---|---|\n",
       "| 11.5x | 3.02% | 0.26% |\n",
       "\n"
      ],
      "text/plain": [
       "  How Much More Often Were Native Drivers Searched native_american_search_rate\n",
       "1 11.5x                                            3.02%                      \n",
       "  white_search_rate\n",
       "1 0.26%            "
      ]
     },
     "metadata": {},
     "output_type": "display_data"
    }
   ],
   "source": [
    "data %>%\n",
    "    group_by(raw_Race) %>%\n",
    "    filter(raw_Race %in% c(\"W\", \"I\"), county_name %in% flathead_counties) %>%\n",
    "    summarise(\n",
    "        total_stops = n(),\n",
    "        consent_searches = sum(search_basis == \"consent\", na.rm = TRUE),\n",
    "        consent_search_rate = (consent_searches/total_stops) * 100\n",
    "    ) %>%\n",
    "    select(-total_stops, -consent_searches) %>%\n",
    "    spread(key = raw_Race, value = consent_search_rate) %>%\n",
    "    ungroup() %>%\n",
    "    transmute(\n",
    "        'How Much More Often Were Native Drivers Searched' = round(I/W, digits = 1) %>% as.character() %>% paste0(\"x\"),\n",
    "        native_american_search_rate = I %>% round(digits = 2) %>% as.character() %>% paste0(\"%\"),\n",
    "        white_search_rate = W %>% round(digits = 2) %>% as.character() %>% paste0(\"%\")\n",
    "    )"
   ]
  },
  {
   "cell_type": "markdown",
   "metadata": {},
   "source": [
    "#### Next we wanted to chose to explore nuances in the stop data. What was it that was leading officers to search Native American drivers more? Perhaps the nature of the stop and the related violation had something to do with it. Below we analyze that data and find that each race seems to be stopped for very similar things."
   ]
  },
  {
   "cell_type": "code",
   "execution_count": 70,
   "metadata": {},
   "outputs": [
    {
     "data": {
      "text/html": [
       "<table>\n",
       "<caption>A tibble: 8 × 3</caption>\n",
       "<thead>\n",
       "\t<tr><th scope=col>Race</th><th scope=col>top_violations</th><th scope=col>total_stops</th></tr>\n",
       "\t<tr><th scope=col>&lt;chr&gt;</th><th scope=col>&lt;chr&gt;</th><th scope=col>&lt;int&gt;</th></tr>\n",
       "</thead>\n",
       "<tbody>\n",
       "\t<tr><td>White Drivers          </td><td>motor vehicle hazardous       </td><td>585626</td></tr>\n",
       "\t<tr><td>White Drivers          </td><td>license/registration/insurance</td><td> 34039</td></tr>\n",
       "\t<tr><td>White Drivers          </td><td>commercial                    </td><td> 16343</td></tr>\n",
       "\t<tr><td>White Drivers          </td><td>equipment                     </td><td> 15235</td></tr>\n",
       "\t<tr><td>Native American Drivers</td><td>motor vehicle hazardous       </td><td> 27771</td></tr>\n",
       "\t<tr><td>Native American Drivers</td><td>license/registration/insurance</td><td>  2321</td></tr>\n",
       "\t<tr><td>Native American Drivers</td><td>equipment                     </td><td>  2001</td></tr>\n",
       "\t<tr><td>Native American Drivers</td><td>other                         </td><td>   609</td></tr>\n",
       "</tbody>\n",
       "</table>\n"
      ],
      "text/latex": [
       "A tibble: 8 × 3\n",
       "\\begin{tabular}{r|lll}\n",
       " Race & top\\_violations & total\\_stops\\\\\n",
       " <chr> & <chr> & <int>\\\\\n",
       "\\hline\n",
       "\t White Drivers           & motor vehicle hazardous        & 585626\\\\\n",
       "\t White Drivers           & license/registration/insurance &  34039\\\\\n",
       "\t White Drivers           & commercial                     &  16343\\\\\n",
       "\t White Drivers           & equipment                      &  15235\\\\\n",
       "\t Native American Drivers & motor vehicle hazardous        &  27771\\\\\n",
       "\t Native American Drivers & license/registration/insurance &   2321\\\\\n",
       "\t Native American Drivers & equipment                      &   2001\\\\\n",
       "\t Native American Drivers & other                          &    609\\\\\n",
       "\\end{tabular}\n"
      ],
      "text/markdown": [
       "\n",
       "A tibble: 8 × 3\n",
       "\n",
       "| Race &lt;chr&gt; | top_violations &lt;chr&gt; | total_stops &lt;int&gt; |\n",
       "|---|---|---|\n",
       "| White Drivers           | motor vehicle hazardous        | 585626 |\n",
       "| White Drivers           | license/registration/insurance |  34039 |\n",
       "| White Drivers           | commercial                     |  16343 |\n",
       "| White Drivers           | equipment                      |  15235 |\n",
       "| Native American Drivers | motor vehicle hazardous        |  27771 |\n",
       "| Native American Drivers | license/registration/insurance |   2321 |\n",
       "| Native American Drivers | equipment                      |   2001 |\n",
       "| Native American Drivers | other                          |    609 |\n",
       "\n"
      ],
      "text/plain": [
       "  Race                    top_violations                 total_stops\n",
       "1 White Drivers           motor vehicle hazardous        585626     \n",
       "2 White Drivers           license/registration/insurance  34039     \n",
       "3 White Drivers           commercial                      16343     \n",
       "4 White Drivers           equipment                       15235     \n",
       "5 Native American Drivers motor vehicle hazardous         27771     \n",
       "6 Native American Drivers license/registration/insurance   2321     \n",
       "7 Native American Drivers equipment                        2001     \n",
       "8 Native American Drivers other                             609     "
      ]
     },
     "metadata": {},
     "output_type": "display_data"
    }
   ],
   "source": [
    "data_clean %>%\n",
    "    filter(subject_race %in% c(\"white\", \"indigenous\"), !is.na(violation_type)) %>%\n",
    "    group_by(subject_race) %>%\n",
    "    count(violation_type) %>%\n",
    "    arrange(desc(subject_race), desc(n)) %>%\n",
    "    top_n(4, wt = n) %>%\n",
    "    ungroup() %>%\n",
    "    transmute(\n",
    "        Race = case_when(\n",
    "            subject_race == \"indigenous\" ~ \"Native American Drivers\",\n",
    "            subject_race == \"white\" ~ \"White Drivers\"\n",
    "        ),\n",
    "        top_violations = violation_type,\n",
    "        total_stops = n\n",
    "    )"
   ]
  },
  {
   "cell_type": "markdown",
   "metadata": {},
   "source": [
    "#### When looking at stops that incluided just these top violations, was there still a disparity in search rates? The answer is yes, indicating that though Native American drivers are being stopped for similar violations, they are still being searched at roughly 5x the rate of white drivers. Thus, the disparity doesn't seem to be related to differences in each demographic's violations."
   ]
  },
  {
   "cell_type": "code",
   "execution_count": 74,
   "metadata": {},
   "outputs": [
    {
     "data": {
      "text/html": [
       "<table>\n",
       "<caption>A tibble: 1 × 3</caption>\n",
       "<thead>\n",
       "\t<tr><th scope=col>How Much More Often Were Native Drivers Stopped</th><th scope=col>native_american_search_rate</th><th scope=col>white_search_rate</th></tr>\n",
       "\t<tr><th scope=col>&lt;chr&gt;</th><th scope=col>&lt;chr&gt;</th><th scope=col>&lt;chr&gt;</th></tr>\n",
       "</thead>\n",
       "<tbody>\n",
       "\t<tr><td>5.1x</td><td>0.98%</td><td>0.19%</td></tr>\n",
       "</tbody>\n",
       "</table>\n"
      ],
      "text/latex": [
       "A tibble: 1 × 3\n",
       "\\begin{tabular}{r|lll}\n",
       " How Much More Often Were Native Drivers Stopped & native\\_american\\_search\\_rate & white\\_search\\_rate\\\\\n",
       " <chr> & <chr> & <chr>\\\\\n",
       "\\hline\n",
       "\t 5.1x & 0.98\\% & 0.19\\%\\\\\n",
       "\\end{tabular}\n"
      ],
      "text/markdown": [
       "\n",
       "A tibble: 1 × 3\n",
       "\n",
       "| How Much More Often Were Native Drivers Stopped &lt;chr&gt; | native_american_search_rate &lt;chr&gt; | white_search_rate &lt;chr&gt; |\n",
       "|---|---|---|\n",
       "| 5.1x | 0.98% | 0.19% |\n",
       "\n"
      ],
      "text/plain": [
       "  How Much More Often Were Native Drivers Stopped native_american_search_rate\n",
       "1 5.1x                                            0.98%                      \n",
       "  white_search_rate\n",
       "1 0.19%            "
      ]
     },
     "metadata": {},
     "output_type": "display_data"
    }
   ],
   "source": [
    "data_clean %>%\n",
    "    group_by(subject_race) %>%\n",
    "    filter(subject_race %in% c(\"white\", \"indigenous\"), violation_type %in% c(\"motor vehicle hazardous\", \"license/registration/insurance\", \"equipment\")) %>%\n",
    "    summarise(\n",
    "        total_stops = n(),\n",
    "        consent_searches = sum(raw_search_type == \"CONSENT SEARCH CONDUCTED\", na.rm = TRUE),\n",
    "        consent_search_rate = (consent_searches/total_stops) * 100\n",
    "    ) %>%\n",
    "    select(-total_stops, -consent_searches) %>%\n",
    "    spread(key = subject_race, value = consent_search_rate) %>%\n",
    "    ungroup() %>%\n",
    "    transmute(\n",
    "        'How Much More Often Were Native Drivers Searched' = round(indigenous/white, digits = 1) %>% as.character() %>% paste0(\"x\"),\n",
    "        native_american_search_rate = indigenous %>% round(digits = 2) %>% as.character() %>% paste0(\"%\"),\n",
    "        white_search_rate = white %>% round(digits = 2) %>% as.character() %>% paste0(\"%\")\n",
    "    )"
   ]
  },
  {
   "cell_type": "code",
   "execution_count": 73,
   "metadata": {},
   "outputs": [
    {
     "data": {
      "text/html": [
       "<table>\n",
       "<caption>A tibble: 11 × 2</caption>\n",
       "<thead>\n",
       "\t<tr><th scope=col>raw_search_type</th><th scope=col>n</th></tr>\n",
       "\t<tr><th scope=col>&lt;chr&gt;</th><th scope=col>&lt;int&gt;</th></tr>\n",
       "</thead>\n",
       "<tbody>\n",
       "\t<tr><td>CONSENT SEARCH CONDUCTED                         </td><td>  2197</td></tr>\n",
       "\t<tr><td>INVENTORY                                        </td><td>     8</td></tr>\n",
       "\t<tr><td>NO SEARCH / CONSENT DENIED                       </td><td>   374</td></tr>\n",
       "\t<tr><td>NO SEARCH REQUESTED                              </td><td>803340</td></tr>\n",
       "\t<tr><td>PLAIN VIEW                                       </td><td>   132</td></tr>\n",
       "\t<tr><td>PROBABLE CAUSE                                   </td><td>    43</td></tr>\n",
       "\t<tr><td>PROBATION/PAROLE OFFICER CONSENT                 </td><td>    57</td></tr>\n",
       "\t<tr><td>SEARCH INCIDENT TO ARREST                        </td><td>   136</td></tr>\n",
       "\t<tr><td>SEARCH WARRANT                                   </td><td>   374</td></tr>\n",
       "\t<tr><td>STOP AND FRISK (OFFICER SAFETY) (S.901.151, F.S.)</td><td>    11</td></tr>\n",
       "\t<tr><td>NA                                               </td><td>     1</td></tr>\n",
       "</tbody>\n",
       "</table>\n"
      ],
      "text/latex": [
       "A tibble: 11 × 2\n",
       "\\begin{tabular}{r|ll}\n",
       " raw\\_search\\_type & n\\\\\n",
       " <chr> & <int>\\\\\n",
       "\\hline\n",
       "\t CONSENT SEARCH CONDUCTED                          &   2197\\\\\n",
       "\t INVENTORY                                         &      8\\\\\n",
       "\t NO SEARCH / CONSENT DENIED                        &    374\\\\\n",
       "\t NO SEARCH REQUESTED                               & 803340\\\\\n",
       "\t PLAIN VIEW                                        &    132\\\\\n",
       "\t PROBABLE CAUSE                                    &     43\\\\\n",
       "\t PROBATION/PAROLE OFFICER CONSENT                  &     57\\\\\n",
       "\t SEARCH INCIDENT TO ARREST                         &    136\\\\\n",
       "\t SEARCH WARRANT                                    &    374\\\\\n",
       "\t STOP AND FRISK (OFFICER SAFETY) (S.901.151, F.S.) &     11\\\\\n",
       "\t NA                                                &      1\\\\\n",
       "\\end{tabular}\n"
      ],
      "text/markdown": [
       "\n",
       "A tibble: 11 × 2\n",
       "\n",
       "| raw_search_type &lt;chr&gt; | n &lt;int&gt; |\n",
       "|---|---|\n",
       "| CONSENT SEARCH CONDUCTED                          |   2197 |\n",
       "| INVENTORY                                         |      8 |\n",
       "| NO SEARCH / CONSENT DENIED                        |    374 |\n",
       "| NO SEARCH REQUESTED                               | 803340 |\n",
       "| PLAIN VIEW                                        |    132 |\n",
       "| PROBABLE CAUSE                                    |     43 |\n",
       "| PROBATION/PAROLE OFFICER CONSENT                  |     57 |\n",
       "| SEARCH INCIDENT TO ARREST                         |    136 |\n",
       "| SEARCH WARRANT                                    |    374 |\n",
       "| STOP AND FRISK (OFFICER SAFETY) (S.901.151, F.S.) |     11 |\n",
       "| NA                                                |      1 |\n",
       "\n"
      ],
      "text/plain": [
       "   raw_search_type                                   n     \n",
       "1  CONSENT SEARCH CONDUCTED                            2197\n",
       "2  INVENTORY                                              8\n",
       "3  NO SEARCH / CONSENT DENIED                           374\n",
       "4  NO SEARCH REQUESTED                               803340\n",
       "5  PLAIN VIEW                                           132\n",
       "6  PROBABLE CAUSE                                        43\n",
       "7  PROBATION/PAROLE OFFICER CONSENT                      57\n",
       "8  SEARCH INCIDENT TO ARREST                            136\n",
       "9  SEARCH WARRANT                                       374\n",
       "10 STOP AND FRISK (OFFICER SAFETY) (S.901.151, F.S.)     11\n",
       "11 NA                                                     1"
      ]
     },
     "metadata": {},
     "output_type": "display_data"
    }
   ],
   "source": [
    "data_clean %>% count(raw_search_type)"
   ]
  },
  {
   "cell_type": "markdown",
   "metadata": {},
   "source": [
    "### Review"
   ]
  },
  {
   "cell_type": "markdown",
   "metadata": {},
   "source": [
    "#### 1) Native American & White Consent Search Rate for 2010-2016"
   ]
  },
  {
   "cell_type": "markdown",
   "metadata": {},
   "source": [
    "SENTENCE: \"Between 2010 and 2016, officers searched 10 of every 1,000 Native American drivers they stopped — more than four times the rate at which they searched white drivers.\"\n",
    "\n",
    "CHECKING:\n",
    "* NA consent search rate\n",
    "* White consent search rate"
   ]
  },
  {
   "cell_type": "code",
   "execution_count": 21,
   "metadata": {},
   "outputs": [
    {
     "data": {
      "text/html": [
       "<table>\n",
       "<thead><tr><th scope=col>raw_Race</th><th scope=col>total_stops</th><th scope=col>consent_searches</th><th scope=col>consent_search_rate</th></tr></thead>\n",
       "<tbody>\n",
       "\t<tr><td>NA        </td><td>     8    </td><td>   0      </td><td>0.00000000</td></tr>\n",
       "\t<tr><td>A         </td><td>  6700    </td><td>  33      </td><td>0.49253731</td></tr>\n",
       "\t<tr><td>B         </td><td>  8806    </td><td>  93      </td><td>1.05609811</td></tr>\n",
       "\t<tr><td>I         </td><td> 38795    </td><td> 388      </td><td>1.00012888</td></tr>\n",
       "\t<tr><td>U         </td><td>  2634    </td><td>   2      </td><td>0.07593014</td></tr>\n",
       "\t<tr><td>W         </td><td>768175    </td><td>1724      </td><td>0.22442803</td></tr>\n",
       "</tbody>\n",
       "</table>\n"
      ],
      "text/latex": [
       "\\begin{tabular}{r|llll}\n",
       " raw\\_Race & total\\_stops & consent\\_searches & consent\\_search\\_rate\\\\\n",
       "\\hline\n",
       "\t NA         &      8     &    0       & 0.00000000\\\\\n",
       "\t A          &   6700     &   33       & 0.49253731\\\\\n",
       "\t B          &   8806     &   93       & 1.05609811\\\\\n",
       "\t I          &  38795     &  388       & 1.00012888\\\\\n",
       "\t U          &   2634     &    2       & 0.07593014\\\\\n",
       "\t W          & 768175     & 1724       & 0.22442803\\\\\n",
       "\\end{tabular}\n"
      ],
      "text/markdown": [
       "\n",
       "| raw_Race | total_stops | consent_searches | consent_search_rate |\n",
       "|---|---|---|---|\n",
       "| NA         |      8     |    0       | 0.00000000 |\n",
       "| A          |   6700     |   33       | 0.49253731 |\n",
       "| B          |   8806     |   93       | 1.05609811 |\n",
       "| I          |  38795     |  388       | 1.00012888 |\n",
       "| U          |   2634     |    2       | 0.07593014 |\n",
       "| W          | 768175     | 1724       | 0.22442803 |\n",
       "\n"
      ],
      "text/plain": [
       "  raw_Race total_stops consent_searches consent_search_rate\n",
       "1 NA            8         0             0.00000000         \n",
       "2 A          6700        33             0.49253731         \n",
       "3 B          8806        93             1.05609811         \n",
       "4 I         38795       388             1.00012888         \n",
       "5 U          2634         2             0.07593014         \n",
       "6 W        768175      1724             0.22442803         "
      ]
     },
     "metadata": {},
     "output_type": "display_data"
    }
   ],
   "source": [
    "one_data <- \n",
    "    data %>%\n",
    "    group_by(raw_Race) %>%\n",
    "    summarise(\n",
    "        total_stops = n(),\n",
    "        consent_searches = sum(search_basis == \"consent\", na.rm = TRUE),\n",
    "        consent_search_rate = (consent_searches/total_stops) * 100\n",
    "    )\n",
    "\n",
    "one_data"
   ]
  },
  {
   "cell_type": "code",
   "execution_count": 22,
   "metadata": {},
   "outputs": [],
   "source": [
    "one_na_csearch_rate <-\n",
    "    one_data %>%\n",
    "    filter(raw_Race == \"I\") %>%\n",
    "    pull(consent_search_rate) %>%\n",
    "    round(digits = 4)\n",
    "\n",
    "one_w_csearch_rate <-\n",
    "    one_data %>%\n",
    "    filter(raw_Race == \"W\") %>%\n",
    "    pull(consent_search_rate) %>%\n",
    "    round(digits = 4)"
   ]
  },
  {
   "cell_type": "markdown",
   "metadata": {},
   "source": [
    "#### Findings"
   ]
  },
  {
   "cell_type": "code",
   "execution_count": 23,
   "metadata": {},
   "outputs": [
    {
     "data": {
      "text/html": [
       "'Native American Consent Search Rate: 1.0001%'"
      ],
      "text/latex": [
       "'Native American Consent Search Rate: 1.0001\\%'"
      ],
      "text/markdown": [
       "'Native American Consent Search Rate: 1.0001%'"
      ],
      "text/plain": [
       "[1] \"Native American Consent Search Rate: 1.0001%\""
      ]
     },
     "metadata": {},
     "output_type": "display_data"
    },
    {
     "data": {
      "text/html": [
       "'White Consent Search Rate: 0.2244%'"
      ],
      "text/latex": [
       "'White Consent Search Rate: 0.2244\\%'"
      ],
      "text/markdown": [
       "'White Consent Search Rate: 0.2244%'"
      ],
      "text/plain": [
       "[1] \"White Consent Search Rate: 0.2244%\""
      ]
     },
     "metadata": {},
     "output_type": "display_data"
    },
    {
     "data": {
      "text/html": [
       "'Native American drivers are subjected to consent searches 4.5x more often than White drivers.'"
      ],
      "text/latex": [
       "'Native American drivers are subjected to consent searches 4.5x more often than White drivers.'"
      ],
      "text/markdown": [
       "'Native American drivers are subjected to consent searches 4.5x more often than White drivers.'"
      ],
      "text/plain": [
       "[1] \"Native American drivers are subjected to consent searches 4.5x more often than White drivers.\""
      ]
     },
     "metadata": {},
     "output_type": "display_data"
    }
   ],
   "source": [
    "paste0(\"Native American Consent Search Rate: \", one_na_csearch_rate, \"%\")\n",
    "paste0(\"White Consent Search Rate: \", one_w_csearch_rate, \"%\")\n",
    "\n",
    "paste0(\n",
    "    \"Native American drivers are subjected to consent searches \",\n",
    "    round(one_na_csearch_rate/one_w_csearch_rate, digits = 1), \n",
    "    \"x more often than White drivers.\"\n",
    ")"
   ]
  },
  {
   "cell_type": "markdown",
   "metadata": {},
   "source": [
    "#### 2) Change in Native American & White Consent Search Rate from 2010 to 2016"
   ]
  },
  {
   "cell_type": "markdown",
   "metadata": {},
   "source": [
    "SENTENCE: \"While search rates for Native American and white drivers were closer together in 2010, by 2016, the two search rates had diverged sharply: The search rate of Native American drivers across the state was six times the search rate of white drivers.\"\n",
    "\n",
    "CHECKING:\n",
    "* NA and White consent search rate in 2010\n",
    "* NA and White consent search rate in 2016"
   ]
  },
  {
   "cell_type": "code",
   "execution_count": 24,
   "metadata": {},
   "outputs": [
    {
     "data": {
      "text/html": [
       "<table>\n",
       "<thead><tr><th scope=col>year</th><th scope=col>raw_Race</th><th scope=col>total_stops</th><th scope=col>consent_searches</th><th scope=col>consent_search_rate</th></tr></thead>\n",
       "<tbody>\n",
       "\t<tr><td>2009     </td><td>I        </td><td>   913   </td><td>  2      </td><td>0.2190581</td></tr>\n",
       "\t<tr><td>2009     </td><td>W        </td><td> 17220   </td><td> 38      </td><td>0.2206736</td></tr>\n",
       "\t<tr><td>2010     </td><td>I        </td><td>  5702   </td><td> 12      </td><td>0.2104525</td></tr>\n",
       "\t<tr><td>2010     </td><td>W        </td><td>116418   </td><td>203      </td><td>0.1743717</td></tr>\n",
       "\t<tr><td>2011     </td><td>I        </td><td>  5113   </td><td> 21      </td><td>0.4107178</td></tr>\n",
       "\t<tr><td>2011     </td><td>W        </td><td>115694   </td><td>172      </td><td>0.1486680</td></tr>\n",
       "\t<tr><td>2012     </td><td>I        </td><td>  5035   </td><td> 17      </td><td>0.3376365</td></tr>\n",
       "\t<tr><td>2012     </td><td>W        </td><td>110193   </td><td>162      </td><td>0.1470148</td></tr>\n",
       "\t<tr><td>2013     </td><td>I        </td><td>  4812   </td><td> 29      </td><td>0.6026600</td></tr>\n",
       "\t<tr><td>2013     </td><td>W        </td><td>107109   </td><td>200      </td><td>0.1867257</td></tr>\n",
       "\t<tr><td>2014     </td><td>I        </td><td>  5344   </td><td>100      </td><td>1.8712575</td></tr>\n",
       "\t<tr><td>2014     </td><td>W        </td><td>101912   </td><td>309      </td><td>0.3032028</td></tr>\n",
       "\t<tr><td>2015     </td><td>I        </td><td>  6605   </td><td>105      </td><td>1.5897048</td></tr>\n",
       "\t<tr><td>2015     </td><td>W        </td><td>106086   </td><td>341      </td><td>0.3214373</td></tr>\n",
       "\t<tr><td>2016     </td><td>I        </td><td>  5271   </td><td>102      </td><td>1.9351167</td></tr>\n",
       "\t<tr><td>2016     </td><td>W        </td><td> 93532   </td><td>299      </td><td>0.3196767</td></tr>\n",
       "</tbody>\n",
       "</table>\n"
      ],
      "text/latex": [
       "\\begin{tabular}{r|lllll}\n",
       " year & raw\\_Race & total\\_stops & consent\\_searches & consent\\_search\\_rate\\\\\n",
       "\\hline\n",
       "\t 2009      & I         &    913    &   2       & 0.2190581\\\\\n",
       "\t 2009      & W         &  17220    &  38       & 0.2206736\\\\\n",
       "\t 2010      & I         &   5702    &  12       & 0.2104525\\\\\n",
       "\t 2010      & W         & 116418    & 203       & 0.1743717\\\\\n",
       "\t 2011      & I         &   5113    &  21       & 0.4107178\\\\\n",
       "\t 2011      & W         & 115694    & 172       & 0.1486680\\\\\n",
       "\t 2012      & I         &   5035    &  17       & 0.3376365\\\\\n",
       "\t 2012      & W         & 110193    & 162       & 0.1470148\\\\\n",
       "\t 2013      & I         &   4812    &  29       & 0.6026600\\\\\n",
       "\t 2013      & W         & 107109    & 200       & 0.1867257\\\\\n",
       "\t 2014      & I         &   5344    & 100       & 1.8712575\\\\\n",
       "\t 2014      & W         & 101912    & 309       & 0.3032028\\\\\n",
       "\t 2015      & I         &   6605    & 105       & 1.5897048\\\\\n",
       "\t 2015      & W         & 106086    & 341       & 0.3214373\\\\\n",
       "\t 2016      & I         &   5271    & 102       & 1.9351167\\\\\n",
       "\t 2016      & W         &  93532    & 299       & 0.3196767\\\\\n",
       "\\end{tabular}\n"
      ],
      "text/markdown": [
       "\n",
       "| year | raw_Race | total_stops | consent_searches | consent_search_rate |\n",
       "|---|---|---|---|---|\n",
       "| 2009      | I         |    913    |   2       | 0.2190581 |\n",
       "| 2009      | W         |  17220    |  38       | 0.2206736 |\n",
       "| 2010      | I         |   5702    |  12       | 0.2104525 |\n",
       "| 2010      | W         | 116418    | 203       | 0.1743717 |\n",
       "| 2011      | I         |   5113    |  21       | 0.4107178 |\n",
       "| 2011      | W         | 115694    | 172       | 0.1486680 |\n",
       "| 2012      | I         |   5035    |  17       | 0.3376365 |\n",
       "| 2012      | W         | 110193    | 162       | 0.1470148 |\n",
       "| 2013      | I         |   4812    |  29       | 0.6026600 |\n",
       "| 2013      | W         | 107109    | 200       | 0.1867257 |\n",
       "| 2014      | I         |   5344    | 100       | 1.8712575 |\n",
       "| 2014      | W         | 101912    | 309       | 0.3032028 |\n",
       "| 2015      | I         |   6605    | 105       | 1.5897048 |\n",
       "| 2015      | W         | 106086    | 341       | 0.3214373 |\n",
       "| 2016      | I         |   5271    | 102       | 1.9351167 |\n",
       "| 2016      | W         |  93532    | 299       | 0.3196767 |\n",
       "\n"
      ],
      "text/plain": [
       "   year raw_Race total_stops consent_searches consent_search_rate\n",
       "1  2009 I           913        2              0.2190581          \n",
       "2  2009 W         17220       38              0.2206736          \n",
       "3  2010 I          5702       12              0.2104525          \n",
       "4  2010 W        116418      203              0.1743717          \n",
       "5  2011 I          5113       21              0.4107178          \n",
       "6  2011 W        115694      172              0.1486680          \n",
       "7  2012 I          5035       17              0.3376365          \n",
       "8  2012 W        110193      162              0.1470148          \n",
       "9  2013 I          4812       29              0.6026600          \n",
       "10 2013 W        107109      200              0.1867257          \n",
       "11 2014 I          5344      100              1.8712575          \n",
       "12 2014 W        101912      309              0.3032028          \n",
       "13 2015 I          6605      105              1.5897048          \n",
       "14 2015 W        106086      341              0.3214373          \n",
       "15 2016 I          5271      102              1.9351167          \n",
       "16 2016 W         93532      299              0.3196767          "
      ]
     },
     "metadata": {},
     "output_type": "display_data"
    },
    {
     "data": {
      "text/html": [
       "<table>\n",
       "<thead><tr><th scope=col>year</th><th scope=col>I</th><th scope=col>W</th><th scope=col>na_to_white_search_proportion</th></tr></thead>\n",
       "<tbody>\n",
       "\t<tr><td>2009     </td><td>0.2190581</td><td>0.2206736</td><td>1.0      </td></tr>\n",
       "\t<tr><td>2010     </td><td>0.2104525</td><td>0.1743717</td><td>1.2      </td></tr>\n",
       "\t<tr><td>2011     </td><td>0.4107178</td><td>0.1486680</td><td>2.8      </td></tr>\n",
       "\t<tr><td>2012     </td><td>0.3376365</td><td>0.1470148</td><td>2.3      </td></tr>\n",
       "\t<tr><td>2013     </td><td>0.6026600</td><td>0.1867257</td><td>3.2      </td></tr>\n",
       "\t<tr><td>2014     </td><td>1.8712575</td><td>0.3032028</td><td>6.2      </td></tr>\n",
       "\t<tr><td>2015     </td><td>1.5897048</td><td>0.3214373</td><td>4.9      </td></tr>\n",
       "\t<tr><td>2016     </td><td>1.9351167</td><td>0.3196767</td><td>6.1      </td></tr>\n",
       "</tbody>\n",
       "</table>\n"
      ],
      "text/latex": [
       "\\begin{tabular}{r|llll}\n",
       " year & I & W & na\\_to\\_white\\_search\\_proportion\\\\\n",
       "\\hline\n",
       "\t 2009      & 0.2190581 & 0.2206736 & 1.0      \\\\\n",
       "\t 2010      & 0.2104525 & 0.1743717 & 1.2      \\\\\n",
       "\t 2011      & 0.4107178 & 0.1486680 & 2.8      \\\\\n",
       "\t 2012      & 0.3376365 & 0.1470148 & 2.3      \\\\\n",
       "\t 2013      & 0.6026600 & 0.1867257 & 3.2      \\\\\n",
       "\t 2014      & 1.8712575 & 0.3032028 & 6.2      \\\\\n",
       "\t 2015      & 1.5897048 & 0.3214373 & 4.9      \\\\\n",
       "\t 2016      & 1.9351167 & 0.3196767 & 6.1      \\\\\n",
       "\\end{tabular}\n"
      ],
      "text/markdown": [
       "\n",
       "| year | I | W | na_to_white_search_proportion |\n",
       "|---|---|---|---|\n",
       "| 2009      | 0.2190581 | 0.2206736 | 1.0       |\n",
       "| 2010      | 0.2104525 | 0.1743717 | 1.2       |\n",
       "| 2011      | 0.4107178 | 0.1486680 | 2.8       |\n",
       "| 2012      | 0.3376365 | 0.1470148 | 2.3       |\n",
       "| 2013      | 0.6026600 | 0.1867257 | 3.2       |\n",
       "| 2014      | 1.8712575 | 0.3032028 | 6.2       |\n",
       "| 2015      | 1.5897048 | 0.3214373 | 4.9       |\n",
       "| 2016      | 1.9351167 | 0.3196767 | 6.1       |\n",
       "\n"
      ],
      "text/plain": [
       "  year I         W         na_to_white_search_proportion\n",
       "1 2009 0.2190581 0.2206736 1.0                          \n",
       "2 2010 0.2104525 0.1743717 1.2                          \n",
       "3 2011 0.4107178 0.1486680 2.8                          \n",
       "4 2012 0.3376365 0.1470148 2.3                          \n",
       "5 2013 0.6026600 0.1867257 3.2                          \n",
       "6 2014 1.8712575 0.3032028 6.2                          \n",
       "7 2015 1.5897048 0.3214373 4.9                          \n",
       "8 2016 1.9351167 0.3196767 6.1                          "
      ]
     },
     "metadata": {},
     "output_type": "display_data"
    }
   ],
   "source": [
    "data %>%\n",
    "    group_by(year, raw_Race) %>%\n",
    "    filter(raw_Race %in% c(\"W\", \"I\"), !is.na(year)) %>%\n",
    "    summarise(\n",
    "        total_stops = n(),\n",
    "        consent_searches = sum(search_basis == \"consent\", na.rm = TRUE),\n",
    "        consent_search_rate = (consent_searches/total_stops) * 100\n",
    "    ) \n",
    "\n",
    "two_data <-\n",
    "    data %>%\n",
    "    group_by(year, raw_Race) %>%\n",
    "    filter(raw_Race %in% c(\"W\", \"I\"), !is.na(year)) %>%\n",
    "    summarise(\n",
    "        total_stops = n(),\n",
    "        consent_searches = sum(search_basis == \"consent\", na.rm = TRUE),\n",
    "        consent_search_rate = (consent_searches/total_stops) * 100\n",
    "    ) %>%\n",
    "    select(-total_stops, -consent_searches) %>%\n",
    "    spread(key = raw_Race, value = consent_search_rate) %>%\n",
    "    mutate(na_to_white_search_proportion = round(I/W, digits = 1))\n",
    "\n",
    "two_data"
   ]
  },
  {
   "cell_type": "markdown",
   "metadata": {},
   "source": [
    "#### Findings"
   ]
  },
  {
   "cell_type": "code",
   "execution_count": 25,
   "metadata": {},
   "outputs": [
    {
     "name": "stdout",
     "output_type": "stream",
     "text": [
      "[1] \"In 2009 Native Americans were searched at 1x the rate that white drivers were searched at.\"\n",
      "[1] \"In 2010 Native Americans were searched at 1.2x the rate that white drivers were searched at.\"\n",
      "[1] \"In 2011 Native Americans were searched at 2.8x the rate that white drivers were searched at.\"\n",
      "[1] \"In 2012 Native Americans were searched at 2.3x the rate that white drivers were searched at.\"\n",
      "[1] \"In 2013 Native Americans were searched at 3.2x the rate that white drivers were searched at.\"\n",
      "[1] \"In 2014 Native Americans were searched at 6.2x the rate that white drivers were searched at.\"\n",
      "[1] \"In 2015 Native Americans were searched at 4.9x the rate that white drivers were searched at.\"\n",
      "[1] \"In 2016 Native Americans were searched at 6.1x the rate that white drivers were searched at.\"\n"
     ]
    }
   ],
   "source": [
    "for (y in two_data$year) {\n",
    "    \n",
    "    two_na_csearch_rate <- two_data %>% filter(year == y) %>% pull(na_to_white_search_proportion)\n",
    "    \n",
    "    paste0(\"In \", y, \" Native Americans were searched at \", two_na_csearch_rate, \"x the rate that white drivers were searched at.\") %>% print()\n",
    "    \n",
    "}"
   ]
  },
  {
   "cell_type": "code",
   "execution_count": 26,
   "metadata": {},
   "outputs": [
    {
     "data": {
      "image/png": "[encoded data removed]",
      "text/plain": [
       "plot without title"
      ]
     },
     "metadata": {},
     "output_type": "display_data"
    }
   ],
   "source": [
    "two_data %>%\n",
    "    ggplot(aes(x = year, y = na_to_white_search_proportion)) +\n",
    "    geom_point() +\n",
    "    geom_line() +\n",
    "    theme_bw() +\n",
    "    scale_x_continuous(\n",
    "    labels = two_data$year %>% as.character(),\n",
    "    breaks = two_data$year\n",
    "    ) +\n",
    "    annotate(geom = \"text\", x = 2013, y = 5.5, label = \"Sudden Increase\\nin 2014\") +\n",
    "    scale_y_continuous(\n",
    "        labels = c(1:6) %>% as.character(),\n",
    "        breaks = c(1:6)\n",
    "    ) +\n",
    "    labs(\n",
    "        title = \"Increase in Relative Rate at Which Native American Drivers\\nare Searched in Montana\",\n",
    "        x = \"Year\",\n",
    "        y = \"Relative Number of Native American Drivers Subjected To\\nConsent Searches for Every White Driver Searched\"\n",
    "    )"
   ]
  },
  {
   "cell_type": "markdown",
   "metadata": {},
   "source": [
    "#### 3) Native American and White Consent Search Rate On and Near Flathead Indian Reservation"
   ]
  },
  {
   "cell_type": "markdown",
   "metadata": {},
   "source": [
    "SENTENCE: \"In the highway patrol districts covering the Flathead Indian Reservation, a 1,900-square-mile expanse near the western border of the state, officers searched 30 of every 1,000 Native American drivers they stopped but only three of every 1,000 white drivers.\"\n",
    "\n",
    "CHECKING:\n",
    "* NA and White consent search rate in counties in/surrounding Flathead Indian Reservation"
   ]
  },
  {
   "cell_type": "code",
   "execution_count": 27,
   "metadata": {},
   "outputs": [
    {
     "data": {
      "text/html": [
       "<table>\n",
       "<thead><tr><th scope=col>raw_Race</th><th scope=col>total_stops</th><th scope=col>consent_searches</th><th scope=col>consent_search_rate</th></tr></thead>\n",
       "<tbody>\n",
       "\t<tr><td>I        </td><td>  7143   </td><td>209      </td><td>2.9259415</td></tr>\n",
       "\t<tr><td>W        </td><td>214210   </td><td>553      </td><td>0.2581579</td></tr>\n",
       "</tbody>\n",
       "</table>\n"
      ],
      "text/latex": [
       "\\begin{tabular}{r|llll}\n",
       " raw\\_Race & total\\_stops & consent\\_searches & consent\\_search\\_rate\\\\\n",
       "\\hline\n",
       "\t I         &   7143    & 209       & 2.9259415\\\\\n",
       "\t W         & 214210    & 553       & 0.2581579\\\\\n",
       "\\end{tabular}\n"
      ],
      "text/markdown": [
       "\n",
       "| raw_Race | total_stops | consent_searches | consent_search_rate |\n",
       "|---|---|---|---|\n",
       "| I         |   7143    | 209       | 2.9259415 |\n",
       "| W         | 214210    | 553       | 0.2581579 |\n",
       "\n"
      ],
      "text/plain": [
       "  raw_Race total_stops consent_searches consent_search_rate\n",
       "1 I          7143      209              2.9259415          \n",
       "2 W        214210      553              0.2581579          "
      ]
     },
     "metadata": {},
     "output_type": "display_data"
    }
   ],
   "source": [
    "three_data <-\n",
    "    data %>%\n",
    "    group_by(raw_Race) %>%\n",
    "    filter(raw_Race %in% c(\"W\", \"I\"), county_name %in% flathead_counties) %>%\n",
    "    summarise(\n",
    "        total_stops = n(),\n",
    "        consent_searches = sum(search_basis == \"consent\", na.rm = TRUE),\n",
    "        consent_search_rate = (consent_searches/total_stops) * 100\n",
    "    )\n",
    "\n",
    "three_data"
   ]
  },
  {
   "cell_type": "code",
   "execution_count": 28,
   "metadata": {},
   "outputs": [],
   "source": [
    "three_na_csearch_rate <-\n",
    "    three_data %>%\n",
    "    filter(raw_Race == \"I\") %>%\n",
    "    pull(consent_search_rate) %>%\n",
    "    round(digits = 4)\n",
    "\n",
    "three_w_csearch_rate <-\n",
    "    three_data %>%\n",
    "    filter(raw_Race == \"W\") %>%\n",
    "    pull(consent_search_rate) %>%\n",
    "    round(digits = 4)"
   ]
  },
  {
   "cell_type": "markdown",
   "metadata": {},
   "source": [
    "#### Findings"
   ]
  },
  {
   "cell_type": "code",
   "execution_count": 29,
   "metadata": {},
   "outputs": [
    {
     "data": {
      "text/html": [
       "'Native American Consent Search Rate Around Flathead: 2.9259%'"
      ],
      "text/latex": [
       "'Native American Consent Search Rate Around Flathead: 2.9259\\%'"
      ],
      "text/markdown": [
       "'Native American Consent Search Rate Around Flathead: 2.9259%'"
      ],
      "text/plain": [
       "[1] \"Native American Consent Search Rate Around Flathead: 2.9259%\""
      ]
     },
     "metadata": {},
     "output_type": "display_data"
    },
    {
     "data": {
      "text/html": [
       "'White Consent Search Rate Around Flathead: 0.2582%'"
      ],
      "text/latex": [
       "'White Consent Search Rate Around Flathead: 0.2582\\%'"
      ],
      "text/markdown": [
       "'White Consent Search Rate Around Flathead: 0.2582%'"
      ],
      "text/plain": [
       "[1] \"White Consent Search Rate Around Flathead: 0.2582%\""
      ]
     },
     "metadata": {},
     "output_type": "display_data"
    },
    {
     "data": {
      "text/html": [
       "'Native American drivers are subjected to consent searches 11.3x more often than White drivers around Flathead Indian Reservation.'"
      ],
      "text/latex": [
       "'Native American drivers are subjected to consent searches 11.3x more often than White drivers around Flathead Indian Reservation.'"
      ],
      "text/markdown": [
       "'Native American drivers are subjected to consent searches 11.3x more often than White drivers around Flathead Indian Reservation.'"
      ],
      "text/plain": [
       "[1] \"Native American drivers are subjected to consent searches 11.3x more often than White drivers around Flathead Indian Reservation.\""
      ]
     },
     "metadata": {},
     "output_type": "display_data"
    }
   ],
   "source": [
    "paste0(\"Native American Consent Search Rate Around Flathead: \", three_na_csearch_rate, \"%\")\n",
    "paste0(\"White Consent Search Rate Around Flathead: \", three_w_csearch_rate, \"%\")\n",
    "\n",
    "paste0(\n",
    "    \"Native American drivers are subjected to consent searches \",\n",
    "    round(three_na_csearch_rate/three_w_csearch_rate, digits = 1), \n",
    "    \"x more often than White drivers around Flathead Indian Reservation.\"\n",
    ")"
   ]
  },
  {
   "cell_type": "markdown",
   "metadata": {},
   "source": [
    "### 4) Proportion of Data Made up by Native Americans\n",
    "\n",
    "SENTENCE: \"Native American drivers made up less than 5% of Montana Highway Patrol traffic stops but more than 17% of consent searches in the state.\"\n",
    "\n",
    "CHECKING:\n",
    "* Proportion of Native Americans in the stops data\n",
    "* Proportion of Native Americans in the consent search data"
   ]
  },
  {
   "cell_type": "code",
   "execution_count": 49,
   "metadata": {},
   "outputs": [
    {
     "data": {
      "text/html": [
       "<table>\n",
       "<thead><tr><th scope=col>raw_Race</th><th scope=col>n</th><th scope=col>prop_stops</th></tr></thead>\n",
       "<tbody>\n",
       "\t<tr><td>NA          </td><td>     8      </td><td>9.917278e-06</td></tr>\n",
       "\t<tr><td>A           </td><td>  6588      </td><td>8.166878e-03</td></tr>\n",
       "\t<tr><td>B           </td><td>  8655      </td><td>1.072925e-02</td></tr>\n",
       "\t<tr><td>I           </td><td> 37882      </td><td>4.696079e-02</td></tr>\n",
       "\t<tr><td>U           </td><td>  2596      </td><td>3.218157e-03</td></tr>\n",
       "\t<tr><td>W           </td><td>750944      </td><td>9.309150e-01</td></tr>\n",
       "</tbody>\n",
       "</table>\n"
      ],
      "text/latex": [
       "\\begin{tabular}{r|lll}\n",
       " raw\\_Race & n & prop\\_stops\\\\\n",
       "\\hline\n",
       "\t NA           &      8       & 9.917278e-06\\\\\n",
       "\t A            &   6588       & 8.166878e-03\\\\\n",
       "\t B            &   8655       & 1.072925e-02\\\\\n",
       "\t I            &  37882       & 4.696079e-02\\\\\n",
       "\t U            &   2596       & 3.218157e-03\\\\\n",
       "\t W            & 750944       & 9.309150e-01\\\\\n",
       "\\end{tabular}\n"
      ],
      "text/markdown": [
       "\n",
       "| raw_Race | n | prop_stops |\n",
       "|---|---|---|\n",
       "| NA           |      8       | 9.917278e-06 |\n",
       "| A            |   6588       | 8.166878e-03 |\n",
       "| B            |   8655       | 1.072925e-02 |\n",
       "| I            |  37882       | 4.696079e-02 |\n",
       "| U            |   2596       | 3.218157e-03 |\n",
       "| W            | 750944       | 9.309150e-01 |\n",
       "\n"
      ],
      "text/plain": [
       "  raw_Race n      prop_stops  \n",
       "1 NA            8 9.917278e-06\n",
       "2 A          6588 8.166878e-03\n",
       "3 B          8655 1.072925e-02\n",
       "4 I         37882 4.696079e-02\n",
       "5 U          2596 3.218157e-03\n",
       "6 W        750944 9.309150e-01"
      ]
     },
     "metadata": {},
     "output_type": "display_data"
    }
   ],
   "source": [
    "#Proportion of each race in the stops data\n",
    "data <- filter(data, year(date) > 2009)\n",
    "data %>% \n",
    "  count(raw_Race) %>% \n",
    "  mutate(prop_stops = n / sum(n))"
   ]
  },
  {
   "cell_type": "code",
   "execution_count": 36,
   "metadata": {},
   "outputs": [
    {
     "data": {
      "text/html": [
       "<table>\n",
       "<thead><tr><th scope=col>raw_Race</th><th scope=col>n</th><th scope=col>prop_consent</th></tr></thead>\n",
       "<tbody>\n",
       "\t<tr><td>A           </td><td>  31        </td><td>0.0141101502</td></tr>\n",
       "\t<tr><td>B           </td><td>  92        </td><td>0.0418752845</td></tr>\n",
       "\t<tr><td>I           </td><td> 386        </td><td>0.1756941284</td></tr>\n",
       "\t<tr><td>U           </td><td>   2        </td><td>0.0009103323</td></tr>\n",
       "\t<tr><td>W           </td><td>1686        </td><td>0.7674101047</td></tr>\n",
       "</tbody>\n",
       "</table>\n"
      ],
      "text/latex": [
       "\\begin{tabular}{r|lll}\n",
       " raw\\_Race & n & prop\\_consent\\\\\n",
       "\\hline\n",
       "\t A            &   31         & 0.0141101502\\\\\n",
       "\t B            &   92         & 0.0418752845\\\\\n",
       "\t I            &  386         & 0.1756941284\\\\\n",
       "\t U            &    2         & 0.0009103323\\\\\n",
       "\t W            & 1686         & 0.7674101047\\\\\n",
       "\\end{tabular}\n"
      ],
      "text/markdown": [
       "\n",
       "| raw_Race | n | prop_consent |\n",
       "|---|---|---|\n",
       "| A            |   31         | 0.0141101502 |\n",
       "| B            |   92         | 0.0418752845 |\n",
       "| I            |  386         | 0.1756941284 |\n",
       "| U            |    2         | 0.0009103323 |\n",
       "| W            | 1686         | 0.7674101047 |\n",
       "\n"
      ],
      "text/plain": [
       "  raw_Race n    prop_consent\n",
       "1 A          31 0.0141101502\n",
       "2 B          92 0.0418752845\n",
       "3 I         386 0.1756941284\n",
       "4 U           2 0.0009103323\n",
       "5 W        1686 0.7674101047"
      ]
     },
     "metadata": {},
     "output_type": "display_data"
    }
   ],
   "source": [
    "#Proportion of each race after filtering to just consent searches\n",
    "\n",
    "consent_searches_data <- data %>% filter(search_basis == 'consent')\n",
    "consent_searches_data %>% \n",
    "  count(raw_Race) %>% \n",
    "  mutate(prop_consent = n / sum(n))"
   ]
  },
  {
   "cell_type": "markdown",
   "metadata": {},
   "source": [
    "### 5) Arrest Rates\n",
    "\n",
    "SENTENCE: \"An analysis of the 500 arrests made following consent searches found a higher arrest rate for Native American drivers than white drivers. Three of every ten Native American drivers subject to a consent search were arrested, compared to only two of every ten white drivers subject to a consent search.\"\n",
    "\n",
    "CHECKING:\n",
    "* Arrest Rate for Native American drivers who were consent searched\n",
    "* Arrest Rate for white drivers who were consent searched"
   ]
  },
  {
   "cell_type": "code",
   "execution_count": 33,
   "metadata": {},
   "outputs": [
    {
     "data": {
      "text/html": [
       "<table>\n",
       "<thead><tr><th scope=col>raw_Race</th><th scope=col>arrest_rate</th></tr></thead>\n",
       "<tbody>\n",
       "\t<tr><td>A         </td><td>0.06060606</td></tr>\n",
       "\t<tr><td>B         </td><td>0.12903226</td></tr>\n",
       "\t<tr><td>I         </td><td>0.31958763</td></tr>\n",
       "\t<tr><td>U         </td><td>0.50000000</td></tr>\n",
       "\t<tr><td>W         </td><td>0.21461717</td></tr>\n",
       "</tbody>\n",
       "</table>\n"
      ],
      "text/latex": [
       "\\begin{tabular}{r|ll}\n",
       " raw\\_Race & arrest\\_rate\\\\\n",
       "\\hline\n",
       "\t A          & 0.06060606\\\\\n",
       "\t B          & 0.12903226\\\\\n",
       "\t I          & 0.31958763\\\\\n",
       "\t U          & 0.50000000\\\\\n",
       "\t W          & 0.21461717\\\\\n",
       "\\end{tabular}\n"
      ],
      "text/markdown": [
       "\n",
       "| raw_Race | arrest_rate |\n",
       "|---|---|\n",
       "| A          | 0.06060606 |\n",
       "| B          | 0.12903226 |\n",
       "| I          | 0.31958763 |\n",
       "| U          | 0.50000000 |\n",
       "| W          | 0.21461717 |\n",
       "\n"
      ],
      "text/plain": [
       "  raw_Race arrest_rate\n",
       "1 A        0.06060606 \n",
       "2 B        0.12903226 \n",
       "3 I        0.31958763 \n",
       "4 U        0.50000000 \n",
       "5 W        0.21461717 "
      ]
     },
     "metadata": {},
     "output_type": "display_data"
    }
   ],
   "source": [
    "consent_searches_data %>% \n",
    "  group_by(raw_Race) %>% \n",
    "  summarize(\n",
    "    arrest_rate = mean(arrest_made, na.rm = T),\n",
    "  )"
   ]
  },
  {
   "cell_type": "markdown",
   "metadata": {},
   "source": [
    "### 6) Consent Search Rate Around Flathead\n",
    "\n",
    "SENTENCE: \"Two patrol districts — District 1 and District 6 — bisect the Flathead Indian Reservation. Between 2010 and 2016, the search rate for Native American drivers in those districts was three times higher than the statewide search rate for Native American drivers. Meanwhile, officers searched white drivers travelling in the same territory at a rate consistent with the statewide trend.\"\n",
    "\n",
    "CHECKING:\n",
    "* Statewide consent search rate for Native American drivers\n",
    "* Consent search rate for Native American drivers around Flathead\n",
    "* Statewide consent search rate for white drivers\n",
    "* Consent search rate for white drivvers around Flathead"
   ]
  },
  {
   "cell_type": "code",
   "execution_count": 50,
   "metadata": {},
   "outputs": [
    {
     "data": {
      "text/html": [
       "<table>\n",
       "<thead><tr><th scope=col>raw_Race</th><th scope=col>total_stops</th><th scope=col>consent_searches</th><th scope=col>consent_search_rate</th></tr></thead>\n",
       "<tbody>\n",
       "\t<tr><td>NA         </td><td>     8     </td><td>   0       </td><td>0.000000000</td></tr>\n",
       "\t<tr><td>A          </td><td>  6588     </td><td>  31       </td><td>0.004705525</td></tr>\n",
       "\t<tr><td>B          </td><td>  8655     </td><td>  92       </td><td>0.010629694</td></tr>\n",
       "\t<tr><td>I          </td><td> 37882     </td><td> 386       </td><td>0.010189536</td></tr>\n",
       "\t<tr><td>U          </td><td>  2596     </td><td>   2       </td><td>0.000770416</td></tr>\n",
       "\t<tr><td>W          </td><td>750944     </td><td>1686       </td><td>0.002245174</td></tr>\n",
       "</tbody>\n",
       "</table>\n"
      ],
      "text/latex": [
       "\\begin{tabular}{r|llll}\n",
       " raw\\_Race & total\\_stops & consent\\_searches & consent\\_search\\_rate\\\\\n",
       "\\hline\n",
       "\t NA          &      8      &    0        & 0.000000000\\\\\n",
       "\t A           &   6588      &   31        & 0.004705525\\\\\n",
       "\t B           &   8655      &   92        & 0.010629694\\\\\n",
       "\t I           &  37882      &  386        & 0.010189536\\\\\n",
       "\t U           &   2596      &    2        & 0.000770416\\\\\n",
       "\t W           & 750944      & 1686        & 0.002245174\\\\\n",
       "\\end{tabular}\n"
      ],
      "text/markdown": [
       "\n",
       "| raw_Race | total_stops | consent_searches | consent_search_rate |\n",
       "|---|---|---|---|\n",
       "| NA          |      8      |    0        | 0.000000000 |\n",
       "| A           |   6588      |   31        | 0.004705525 |\n",
       "| B           |   8655      |   92        | 0.010629694 |\n",
       "| I           |  37882      |  386        | 0.010189536 |\n",
       "| U           |   2596      |    2        | 0.000770416 |\n",
       "| W           | 750944      | 1686        | 0.002245174 |\n",
       "\n"
      ],
      "text/plain": [
       "  raw_Race total_stops consent_searches consent_search_rate\n",
       "1 NA            8         0             0.000000000        \n",
       "2 A          6588        31             0.004705525        \n",
       "3 B          8655        92             0.010629694        \n",
       "4 I         37882       386             0.010189536        \n",
       "5 U          2596         2             0.000770416        \n",
       "6 W        750944      1686             0.002245174        "
      ]
     },
     "metadata": {},
     "output_type": "display_data"
    }
   ],
   "source": [
    "#Statewide consent search rate for all races\n",
    "\n",
    "data %>%\n",
    "group_by(raw_Race) %>%\n",
    "summarize(\n",
    "    total_stops = n(),\n",
    "    consent_searches = sum(search_basis == \"consent\", na.rm = T),\n",
    "    consent_search_rate = (consent_searches/total_stops)\n",
    ")"
   ]
  },
  {
   "cell_type": "code",
   "execution_count": 51,
   "metadata": {},
   "outputs": [
    {
     "data": {
      "text/html": [
       "<table>\n",
       "<thead><tr><th scope=col>raw_Race</th><th scope=col>total_stops</th><th scope=col>consent_searches</th><th scope=col>consent_search_rate</th></tr></thead>\n",
       "<tbody>\n",
       "\t<tr><td>NA         </td><td>     2     </td><td>  0        </td><td>0.000000000</td></tr>\n",
       "\t<tr><td>A          </td><td>  1347     </td><td>  7        </td><td>0.005196733</td></tr>\n",
       "\t<tr><td>B          </td><td>  1361     </td><td> 21        </td><td>0.015429831</td></tr>\n",
       "\t<tr><td>I          </td><td>  6883     </td><td>208        </td><td>0.030219381</td></tr>\n",
       "\t<tr><td>U          </td><td>   537     </td><td>  2        </td><td>0.003724395</td></tr>\n",
       "\t<tr><td>W          </td><td>208580     </td><td>549        </td><td>0.002632084</td></tr>\n",
       "</tbody>\n",
       "</table>\n"
      ],
      "text/latex": [
       "\\begin{tabular}{r|llll}\n",
       " raw\\_Race & total\\_stops & consent\\_searches & consent\\_search\\_rate\\\\\n",
       "\\hline\n",
       "\t NA          &      2      &   0         & 0.000000000\\\\\n",
       "\t A           &   1347      &   7         & 0.005196733\\\\\n",
       "\t B           &   1361      &  21         & 0.015429831\\\\\n",
       "\t I           &   6883      & 208         & 0.030219381\\\\\n",
       "\t U           &    537      &   2         & 0.003724395\\\\\n",
       "\t W           & 208580      & 549         & 0.002632084\\\\\n",
       "\\end{tabular}\n"
      ],
      "text/markdown": [
       "\n",
       "| raw_Race | total_stops | consent_searches | consent_search_rate |\n",
       "|---|---|---|---|\n",
       "| NA          |      2      |   0         | 0.000000000 |\n",
       "| A           |   1347      |   7         | 0.005196733 |\n",
       "| B           |   1361      |  21         | 0.015429831 |\n",
       "| I           |   6883      | 208         | 0.030219381 |\n",
       "| U           |    537      |   2         | 0.003724395 |\n",
       "| W           | 208580      | 549         | 0.002632084 |\n",
       "\n"
      ],
      "text/plain": [
       "  raw_Race total_stops consent_searches consent_search_rate\n",
       "1 NA            2        0              0.000000000        \n",
       "2 A          1347        7              0.005196733        \n",
       "3 B          1361       21              0.015429831        \n",
       "4 I          6883      208              0.030219381        \n",
       "5 U           537        2              0.003724395        \n",
       "6 W        208580      549              0.002632084        "
      ]
     },
     "metadata": {},
     "output_type": "display_data"
    }
   ],
   "source": [
    "#Flathead consent search rate for all races\n",
    "\n",
    "flat_head_data <- data %>% filter(county_name %in% flathead_counties)\n",
    "\n",
    "flat_head_data %>%\n",
    "group_by(raw_Race) %>%\n",
    "summarize(\n",
    "    total_stops = n(),\n",
    "    consent_searches = sum(search_basis == \"consent\", na.rm = T),\n",
    "    consent_search_rate = (consent_searches/total_stops)\n",
    ")"
   ]
  },
  {
   "cell_type": "markdown",
   "metadata": {},
   "source": [
    "### 7) Number of Consent Searches of Native Americans in 2013 and 2014 near Flathead\n",
    "\n",
    "SENTENCE: \"Officers searched Native Americans 11 times in 2013 and 72 times the following year, outpacing a smaller increase in searches among white drivers.\"\n",
    "\n",
    "CHECKING:\n",
    "* Number of Native American consent searches in 2013 near Flathead\n",
    "* Number of Native American consent searches in 2014 near Flathead\n",
    "* Number of white consent searches in 2013 near Flathead\n",
    "* Number of white consent searches in 2014 near Flathead"
   ]
  },
  {
   "cell_type": "code",
   "execution_count": 55,
   "metadata": {},
   "outputs": [
    {
     "data": {
      "text/html": [
       "<table>\n",
       "<thead><tr><th scope=col>raw_Race</th><th scope=col>n</th></tr></thead>\n",
       "<tbody>\n",
       "\t<tr><td>B </td><td> 2</td></tr>\n",
       "\t<tr><td>I </td><td>11</td></tr>\n",
       "\t<tr><td>W </td><td>51</td></tr>\n",
       "</tbody>\n",
       "</table>\n"
      ],
      "text/latex": [
       "\\begin{tabular}{r|ll}\n",
       " raw\\_Race & n\\\\\n",
       "\\hline\n",
       "\t B  &  2\\\\\n",
       "\t I  & 11\\\\\n",
       "\t W  & 51\\\\\n",
       "\\end{tabular}\n"
      ],
      "text/markdown": [
       "\n",
       "| raw_Race | n |\n",
       "|---|---|\n",
       "| B  |  2 |\n",
       "| I  | 11 |\n",
       "| W  | 51 |\n",
       "\n"
      ],
      "text/plain": [
       "  raw_Race n \n",
       "1 B         2\n",
       "2 I        11\n",
       "3 W        51"
      ]
     },
     "metadata": {},
     "output_type": "display_data"
    }
   ],
   "source": [
    "#Number of consent searches around Flathead in 2013\n",
    "\n",
    "data_2013 <- data %>% filter(year(date) == 2013, search_basis == \"consent\", county_name %in% flathead_counties)\n",
    "\n",
    "data_2013 %>%\n",
    "count(raw_Race)"
   ]
  },
  {
   "cell_type": "code",
   "execution_count": 56,
   "metadata": {},
   "outputs": [
    {
     "data": {
      "text/html": [
       "<table>\n",
       "<thead><tr><th scope=col>raw_Race</th><th scope=col>n</th></tr></thead>\n",
       "<tbody>\n",
       "\t<tr><td>A  </td><td>  3</td></tr>\n",
       "\t<tr><td>B  </td><td>  6</td></tr>\n",
       "\t<tr><td>I  </td><td> 72</td></tr>\n",
       "\t<tr><td>U  </td><td>  1</td></tr>\n",
       "\t<tr><td>W  </td><td>140</td></tr>\n",
       "</tbody>\n",
       "</table>\n"
      ],
      "text/latex": [
       "\\begin{tabular}{r|ll}\n",
       " raw\\_Race & n\\\\\n",
       "\\hline\n",
       "\t A   &   3\\\\\n",
       "\t B   &   6\\\\\n",
       "\t I   &  72\\\\\n",
       "\t U   &   1\\\\\n",
       "\t W   & 140\\\\\n",
       "\\end{tabular}\n"
      ],
      "text/markdown": [
       "\n",
       "| raw_Race | n |\n",
       "|---|---|\n",
       "| A   |   3 |\n",
       "| B   |   6 |\n",
       "| I   |  72 |\n",
       "| U   |   1 |\n",
       "| W   | 140 |\n",
       "\n"
      ],
      "text/plain": [
       "  raw_Race n  \n",
       "1 A          3\n",
       "2 B          6\n",
       "3 I         72\n",
       "4 U          1\n",
       "5 W        140"
      ]
     },
     "metadata": {},
     "output_type": "display_data"
    }
   ],
   "source": [
    "#Number of consent searches around Flathead in 2014\n",
    "\n",
    "data_2014 <- data %>% filter(year(date) == 2014, search_basis == \"consent\", county_name %in% flathead_counties)\n",
    "\n",
    "data_2014 %>%\n",
    "count(raw_Race)"
   ]
  },
  {
   "cell_type": "code",
   "execution_count": null,
   "metadata": {},
   "outputs": [],
   "source": []
  }
 ],
 "metadata": {
  "kernelspec": {
   "display_name": "R",
   "language": "R",
   "name": "ir"
  },
  "language_info": {
   "codemirror_mode": "r",
   "file_extension": ".r",
   "mimetype": "text/x-r-source",
   "name": "R",
   "pygments_lexer": "r",
   "version": "3.6.0"
  }
 },
 "nbformat": 4,
 "nbformat_minor": 4
}
