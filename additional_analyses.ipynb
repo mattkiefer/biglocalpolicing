{
 "cells": [
  {
   "cell_type": "markdown",
   "metadata": {},
   "source": [
    "# Additional Analyses of Montana Policing Data"
   ]
  },
  {
   "cell_type": "markdown",
   "metadata": {},
   "source": [
    "## Setup"
   ]
  },
  {
   "cell_type": "code",
   "execution_count": 2,
   "metadata": {},
   "outputs": [
    {
     "name": "stderr",
     "output_type": "stream",
     "text": [
      "Registered S3 methods overwritten by 'ggplot2':\n",
      "  method         from \n",
      "  [.quosures     rlang\n",
      "  c.quosures     rlang\n",
      "  print.quosures rlang\n",
      "Registered S3 method overwritten by 'rvest':\n",
      "  method            from\n",
      "  read_xml.response xml2\n",
      "-- Attaching packages --------------------------------------- tidyverse 1.2.1 --\n",
      "v ggplot2 3.1.1       v purrr   0.3.2  \n",
      "v tibble  2.1.1       v dplyr   0.8.0.1\n",
      "v tidyr   0.8.3       v stringr 1.4.0  \n",
      "v readr   1.3.1       v forcats 0.4.0  \n",
      "-- Conflicts ------------------------------------------ tidyverse_conflicts() --\n",
      "x dplyr::filter() masks stats::filter()\n",
      "x dplyr::lag()    masks stats::lag()\n",
      "\n",
      "Attaching package: 'lubridate'\n",
      "\n",
      "The following object is masked from 'package:base':\n",
      "\n",
      "    date\n",
      "\n"
     ]
    }
   ],
   "source": [
    "#Import libraries\n",
    "\n",
    "library(tidyverse)\n",
    "library(lubridate)"
   ]
  },
  {
   "cell_type": "code",
   "execution_count": 3,
   "metadata": {},
   "outputs": [
    {
     "name": "stderr",
     "output_type": "stream",
     "text": [
      "Parsed with column specification:\n",
      "cols(\n",
      "  date = col_date(format = \"\"),\n",
      "  time = col_double(),\n",
      "  year = col_double(),\n",
      "  lat = col_double(),\n",
      "  lng = col_double(),\n",
      "  subject_race = col_character(),\n",
      "  search_conducted = col_logical(),\n",
      "  reason_for_stop = col_character(),\n",
      "  violation_type = col_character(),\n",
      "  consent_search_conducted = col_logical(),\n",
      "  raw_search_type = col_character()\n",
      ")\n"
     ]
    },
    {
     "data": {
      "text/html": [
       "<table>\n",
       "<thead><tr><th scope=col>raw_row_number</th><th scope=col>date</th><th scope=col>time</th><th scope=col>location</th><th scope=col>lat</th><th scope=col>lng</th><th scope=col>county_name</th><th scope=col>subject_age</th><th scope=col>subject_race</th><th scope=col>subject_sex</th><th scope=col>...</th><th scope=col>search_basis</th><th scope=col>reason_for_stop</th><th scope=col>vehicle_make</th><th scope=col>vehicle_model</th><th scope=col>vehicle_type</th><th scope=col>vehicle_registration_state</th><th scope=col>vehicle_year</th><th scope=col>raw_Race</th><th scope=col>raw_Ethnicity</th><th scope=col>raw_SearchType</th></tr></thead>\n",
       "<tbody>\n",
       "\t<tr><td>1                                </td><td>2009-01-01                       </td><td>02:10:53                         </td><td>US 89 N MM10 (SB)                </td><td>47.57274                         </td><td>-111.8029                        </td><td>Cascade County                   </td><td>16                               </td><td>white                            </td><td>female                           </td><td>...                              </td><td>NA                               </td><td>--- - HIT AND RUN                </td><td>FORD                             </td><td>EXPLORER                         </td><td>SPORT UTILITY                    </td><td>MT                               </td><td>1994                             </td><td>W                                </td><td>N                                </td><td>NO SEARCH REQUESTED              </td></tr>\n",
       "\t<tr><td>2                                </td><td>2009-01-02                       </td><td>11:34:19                         </td><td>HWY 93 SO AND ANNS LANE S/B      </td><td>46.76123                         </td><td>-114.0811                        </td><td>Missoula County                  </td><td>19                               </td><td>white                            </td><td>male                             </td><td>...                              </td><td>NA                               </td><td>EXPIRED TAG ( - MONTHS OR LESS ) </td><td>GMC                              </td><td>TK                               </td><td>TRUCK                            </td><td>MT                               </td><td>1996                             </td><td>W                                </td><td>N                                </td><td>NO SEARCH REQUESTED              </td></tr>\n",
       "\t<tr><td>3                                </td><td>2009-01-03                       </td><td>11:36:42                         </td><td>P007 HWY 93 MM 77 N/B            </td><td>46.69468                         </td><td>-114.0735                        </td><td>Missoula County                  </td><td>17                               </td><td>white                            </td><td>male                             </td><td>...                              </td><td>NA                               </td><td>SPEED                            </td><td>GMC                              </td><td>YUKON                            </td><td>SPORT UTILITY                    </td><td>MT                               </td><td>1999                             </td><td>W                                </td><td>N                                </td><td>NO SEARCH REQUESTED              </td></tr>\n",
       "\t<tr><td>4                                </td><td>2009-01-04                       </td><td>10:33:11                         </td><td>P007 HWY 93 MM 81 S/B            </td><td>46.72739                         </td><td>-114.0790                        </td><td>Missoula County                  </td><td>17                               </td><td>NA                               </td><td>female                           </td><td>...                              </td><td>NA                               </td><td>SPEED                            </td><td>HOND                             </td><td>CR-V                             </td><td>SPORT UTILITY                    </td><td>MT                               </td><td>2002                             </td><td>W                                </td><td>NA                               </td><td>NA                               </td></tr>\n",
       "\t<tr><td>5                                </td><td>2009-01-04                       </td><td>10:46:43                         </td><td>P007 HWY 93 MM 81 N/B            </td><td>46.72952                         </td><td>-114.0791                        </td><td>Missoula County                  </td><td>31                               </td><td>NA                               </td><td>male                             </td><td>...                              </td><td>NA                               </td><td>SPEED                            </td><td>TOYT                             </td><td>TERCEL                           </td><td>SEDAN                            </td><td>MT                               </td><td>1992                             </td><td>I                                </td><td>NA                               </td><td>NA                               </td></tr>\n",
       "\t<tr><td>6                                </td><td>2009-01-04                       </td><td>14:41:57                         </td><td>P007 HWY 93 MM 67 S/B            </td><td>46.53228                         </td><td>-114.1107                        </td><td>Ravalli County                   </td><td>20                               </td><td>NA                               </td><td>male                             </td><td>...                              </td><td>NA                               </td><td>OTHER TAG/REGISTRATION VIOLATIONS</td><td>JEEP                             </td><td>CHE                              </td><td>SPORT UTILITY                    </td><td>MT                               </td><td>1998                             </td><td>W                                </td><td>NA                               </td><td>NA                               </td></tr>\n",
       "</tbody>\n",
       "</table>\n"
      ],
      "text/latex": [
       "\\begin{tabular}{r|lllllllllllllllllllllllllllll}\n",
       " raw\\_row\\_number & date & time & location & lat & lng & county\\_name & subject\\_age & subject\\_race & subject\\_sex & ... & search\\_basis & reason\\_for\\_stop & vehicle\\_make & vehicle\\_model & vehicle\\_type & vehicle\\_registration\\_state & vehicle\\_year & raw\\_Race & raw\\_Ethnicity & raw\\_SearchType\\\\\n",
       "\\hline\n",
       "\t 1                                 & 2009-01-01                        & 02:10:53                          & US 89 N MM10 (SB)                 & 47.57274                          & -111.8029                         & Cascade County                    & 16                                & white                             & female                            & ...                               & NA                                & --- - HIT AND RUN                 & FORD                              & EXPLORER                          & SPORT UTILITY                     & MT                                & 1994                              & W                                 & N                                 & NO SEARCH REQUESTED              \\\\\n",
       "\t 2                                 & 2009-01-02                        & 11:34:19                          & HWY 93 SO AND ANNS LANE S/B       & 46.76123                          & -114.0811                         & Missoula County                   & 19                                & white                             & male                              & ...                               & NA                                & EXPIRED TAG ( - MONTHS OR LESS )  & GMC                               & TK                                & TRUCK                             & MT                                & 1996                              & W                                 & N                                 & NO SEARCH REQUESTED              \\\\\n",
       "\t 3                                 & 2009-01-03                        & 11:36:42                          & P007 HWY 93 MM 77 N/B             & 46.69468                          & -114.0735                         & Missoula County                   & 17                                & white                             & male                              & ...                               & NA                                & SPEED                             & GMC                               & YUKON                             & SPORT UTILITY                     & MT                                & 1999                              & W                                 & N                                 & NO SEARCH REQUESTED              \\\\\n",
       "\t 4                                 & 2009-01-04                        & 10:33:11                          & P007 HWY 93 MM 81 S/B             & 46.72739                          & -114.0790                         & Missoula County                   & 17                                & NA                                & female                            & ...                               & NA                                & SPEED                             & HOND                              & CR-V                              & SPORT UTILITY                     & MT                                & 2002                              & W                                 & NA                                & NA                               \\\\\n",
       "\t 5                                 & 2009-01-04                        & 10:46:43                          & P007 HWY 93 MM 81 N/B             & 46.72952                          & -114.0791                         & Missoula County                   & 31                                & NA                                & male                              & ...                               & NA                                & SPEED                             & TOYT                              & TERCEL                            & SEDAN                             & MT                                & 1992                              & I                                 & NA                                & NA                               \\\\\n",
       "\t 6                                 & 2009-01-04                        & 14:41:57                          & P007 HWY 93 MM 67 S/B             & 46.53228                          & -114.1107                         & Ravalli County                    & 20                                & NA                                & male                              & ...                               & NA                                & OTHER TAG/REGISTRATION VIOLATIONS & JEEP                              & CHE                               & SPORT UTILITY                     & MT                                & 1998                              & W                                 & NA                                & NA                               \\\\\n",
       "\\end{tabular}\n"
      ],
      "text/markdown": [
       "\n",
       "| raw_row_number | date | time | location | lat | lng | county_name | subject_age | subject_race | subject_sex | ... | search_basis | reason_for_stop | vehicle_make | vehicle_model | vehicle_type | vehicle_registration_state | vehicle_year | raw_Race | raw_Ethnicity | raw_SearchType |\n",
       "|---|---|---|---|---|---|---|---|---|---|---|---|---|---|---|---|---|---|---|---|---|\n",
       "| 1                                 | 2009-01-01                        | 02:10:53                          | US 89 N MM10 (SB)                 | 47.57274                          | -111.8029                         | Cascade County                    | 16                                | white                             | female                            | ...                               | NA                                | --- - HIT AND RUN                 | FORD                              | EXPLORER                          | SPORT UTILITY                     | MT                                | 1994                              | W                                 | N                                 | NO SEARCH REQUESTED               |\n",
       "| 2                                 | 2009-01-02                        | 11:34:19                          | HWY 93 SO AND ANNS LANE S/B       | 46.76123                          | -114.0811                         | Missoula County                   | 19                                | white                             | male                              | ...                               | NA                                | EXPIRED TAG ( - MONTHS OR LESS )  | GMC                               | TK                                | TRUCK                             | MT                                | 1996                              | W                                 | N                                 | NO SEARCH REQUESTED               |\n",
       "| 3                                 | 2009-01-03                        | 11:36:42                          | P007 HWY 93 MM 77 N/B             | 46.69468                          | -114.0735                         | Missoula County                   | 17                                | white                             | male                              | ...                               | NA                                | SPEED                             | GMC                               | YUKON                             | SPORT UTILITY                     | MT                                | 1999                              | W                                 | N                                 | NO SEARCH REQUESTED               |\n",
       "| 4                                 | 2009-01-04                        | 10:33:11                          | P007 HWY 93 MM 81 S/B             | 46.72739                          | -114.0790                         | Missoula County                   | 17                                | NA                                | female                            | ...                               | NA                                | SPEED                             | HOND                              | CR-V                              | SPORT UTILITY                     | MT                                | 2002                              | W                                 | NA                                | NA                                |\n",
       "| 5                                 | 2009-01-04                        | 10:46:43                          | P007 HWY 93 MM 81 N/B             | 46.72952                          | -114.0791                         | Missoula County                   | 31                                | NA                                | male                              | ...                               | NA                                | SPEED                             | TOYT                              | TERCEL                            | SEDAN                             | MT                                | 1992                              | I                                 | NA                                | NA                                |\n",
       "| 6                                 | 2009-01-04                        | 14:41:57                          | P007 HWY 93 MM 67 S/B             | 46.53228                          | -114.1107                         | Ravalli County                    | 20                                | NA                                | male                              | ...                               | NA                                | OTHER TAG/REGISTRATION VIOLATIONS | JEEP                              | CHE                               | SPORT UTILITY                     | MT                                | 1998                              | W                                 | NA                                | NA                                |\n",
       "\n"
      ],
      "text/plain": [
       "  raw_row_number date       time     location                    lat     \n",
       "1 1              2009-01-01 02:10:53 US 89 N MM10 (SB)           47.57274\n",
       "2 2              2009-01-02 11:34:19 HWY 93 SO AND ANNS LANE S/B 46.76123\n",
       "3 3              2009-01-03 11:36:42 P007 HWY 93 MM 77 N/B       46.69468\n",
       "4 4              2009-01-04 10:33:11 P007 HWY 93 MM 81 S/B       46.72739\n",
       "5 5              2009-01-04 10:46:43 P007 HWY 93 MM 81 N/B       46.72952\n",
       "6 6              2009-01-04 14:41:57 P007 HWY 93 MM 67 S/B       46.53228\n",
       "  lng       county_name     subject_age subject_race subject_sex ...\n",
       "1 -111.8029 Cascade County  16          white        female      ...\n",
       "2 -114.0811 Missoula County 19          white        male        ...\n",
       "3 -114.0735 Missoula County 17          white        male        ...\n",
       "4 -114.0790 Missoula County 17          NA           female      ...\n",
       "5 -114.0791 Missoula County 31          NA           male        ...\n",
       "6 -114.1107 Ravalli County  20          NA           male        ...\n",
       "  search_basis reason_for_stop                   vehicle_make vehicle_model\n",
       "1 NA           --- - HIT AND RUN                 FORD         EXPLORER     \n",
       "2 NA           EXPIRED TAG ( - MONTHS OR LESS )  GMC          TK           \n",
       "3 NA           SPEED                             GMC          YUKON        \n",
       "4 NA           SPEED                             HOND         CR-V         \n",
       "5 NA           SPEED                             TOYT         TERCEL       \n",
       "6 NA           OTHER TAG/REGISTRATION VIOLATIONS JEEP         CHE          \n",
       "  vehicle_type  vehicle_registration_state vehicle_year raw_Race raw_Ethnicity\n",
       "1 SPORT UTILITY MT                         1994         W        N            \n",
       "2 TRUCK         MT                         1996         W        N            \n",
       "3 SPORT UTILITY MT                         1999         W        N            \n",
       "4 SPORT UTILITY MT                         2002         W        NA           \n",
       "5 SEDAN         MT                         1992         I        NA           \n",
       "6 SPORT UTILITY MT                         1998         W        NA           \n",
       "  raw_SearchType     \n",
       "1 NO SEARCH REQUESTED\n",
       "2 NO SEARCH REQUESTED\n",
       "3 NO SEARCH REQUESTED\n",
       "4 NA                 \n",
       "5 NA                 \n",
       "6 NA                 "
      ]
     },
     "metadata": {},
     "output_type": "display_data"
    },
    {
     "data": {
      "text/html": [
       "<table>\n",
       "<thead><tr><th scope=col>date</th><th scope=col>time</th><th scope=col>year</th><th scope=col>lat</th><th scope=col>lng</th><th scope=col>subject_race</th><th scope=col>search_conducted</th><th scope=col>reason_for_stop</th><th scope=col>violation_type</th><th scope=col>consent_search_conducted</th><th scope=col>raw_search_type</th></tr></thead>\n",
       "<tbody>\n",
       "\t<tr><td>2009-01-01                       </td><td>1                                </td><td>2009                             </td><td>47.57274                         </td><td>-111.8029                        </td><td>white                            </td><td>FALSE                            </td><td>hit and run                      </td><td>motor vehicle serious            </td><td>FALSE                            </td><td>NO SEARCH REQUESTED              </td></tr>\n",
       "\t<tr><td>2009-01-02                       </td><td>2                                </td><td>2009                             </td><td>46.76123                         </td><td>-114.0811                        </td><td>white                            </td><td>FALSE                            </td><td>expired tag 4 months or less     </td><td>license/registration/insurance   </td><td>FALSE                            </td><td>NO SEARCH REQUESTED              </td></tr>\n",
       "\t<tr><td>2009-01-03                       </td><td>3                                </td><td>2009                             </td><td>46.69468                         </td><td>-114.0735                        </td><td>white                            </td><td>FALSE                            </td><td>speed                            </td><td>motor vehicle hazardous          </td><td>FALSE                            </td><td>NO SEARCH REQUESTED              </td></tr>\n",
       "\t<tr><td>2009-01-04                       </td><td>4                                </td><td>2009                             </td><td>46.72739                         </td><td>-114.0790                        </td><td>NA                               </td><td> TRUE                            </td><td>speed                            </td><td>motor vehicle hazardous          </td><td>   NA                            </td><td>NA                               </td></tr>\n",
       "\t<tr><td>2009-01-04                       </td><td>5                                </td><td>2009                             </td><td>46.72952                         </td><td>-114.0791                        </td><td>NA                               </td><td> TRUE                            </td><td>speed                            </td><td>motor vehicle hazardous          </td><td>   NA                            </td><td>NA                               </td></tr>\n",
       "\t<tr><td>2009-01-04                       </td><td>6                                </td><td>2009                             </td><td>46.53228                         </td><td>-114.1107                        </td><td>NA                               </td><td> TRUE                            </td><td>other tag/registration violations</td><td>license/registration/insurance   </td><td>   NA                            </td><td>NA                               </td></tr>\n",
       "</tbody>\n",
       "</table>\n"
      ],
      "text/latex": [
       "\\begin{tabular}{r|lllllllllll}\n",
       " date & time & year & lat & lng & subject\\_race & search\\_conducted & reason\\_for\\_stop & violation\\_type & consent\\_search\\_conducted & raw\\_search\\_type\\\\\n",
       "\\hline\n",
       "\t 2009-01-01                        & 1                                 & 2009                              & 47.57274                          & -111.8029                         & white                             & FALSE                             & hit and run                       & motor vehicle serious             & FALSE                             & NO SEARCH REQUESTED              \\\\\n",
       "\t 2009-01-02                        & 2                                 & 2009                              & 46.76123                          & -114.0811                         & white                             & FALSE                             & expired tag 4 months or less      & license/registration/insurance    & FALSE                             & NO SEARCH REQUESTED              \\\\\n",
       "\t 2009-01-03                        & 3                                 & 2009                              & 46.69468                          & -114.0735                         & white                             & FALSE                             & speed                             & motor vehicle hazardous           & FALSE                             & NO SEARCH REQUESTED              \\\\\n",
       "\t 2009-01-04                        & 4                                 & 2009                              & 46.72739                          & -114.0790                         & NA                                &  TRUE                             & speed                             & motor vehicle hazardous           &    NA                             & NA                               \\\\\n",
       "\t 2009-01-04                        & 5                                 & 2009                              & 46.72952                          & -114.0791                         & NA                                &  TRUE                             & speed                             & motor vehicle hazardous           &    NA                             & NA                               \\\\\n",
       "\t 2009-01-04                        & 6                                 & 2009                              & 46.53228                          & -114.1107                         & NA                                &  TRUE                             & other tag/registration violations & license/registration/insurance    &    NA                             & NA                               \\\\\n",
       "\\end{tabular}\n"
      ],
      "text/markdown": [
       "\n",
       "| date | time | year | lat | lng | subject_race | search_conducted | reason_for_stop | violation_type | consent_search_conducted | raw_search_type |\n",
       "|---|---|---|---|---|---|---|---|---|---|---|\n",
       "| 2009-01-01                        | 1                                 | 2009                              | 47.57274                          | -111.8029                         | white                             | FALSE                             | hit and run                       | motor vehicle serious             | FALSE                             | NO SEARCH REQUESTED               |\n",
       "| 2009-01-02                        | 2                                 | 2009                              | 46.76123                          | -114.0811                         | white                             | FALSE                             | expired tag 4 months or less      | license/registration/insurance    | FALSE                             | NO SEARCH REQUESTED               |\n",
       "| 2009-01-03                        | 3                                 | 2009                              | 46.69468                          | -114.0735                         | white                             | FALSE                             | speed                             | motor vehicle hazardous           | FALSE                             | NO SEARCH REQUESTED               |\n",
       "| 2009-01-04                        | 4                                 | 2009                              | 46.72739                          | -114.0790                         | NA                                |  TRUE                             | speed                             | motor vehicle hazardous           |    NA                             | NA                                |\n",
       "| 2009-01-04                        | 5                                 | 2009                              | 46.72952                          | -114.0791                         | NA                                |  TRUE                             | speed                             | motor vehicle hazardous           |    NA                             | NA                                |\n",
       "| 2009-01-04                        | 6                                 | 2009                              | 46.53228                          | -114.1107                         | NA                                |  TRUE                             | other tag/registration violations | license/registration/insurance    |    NA                             | NA                                |\n",
       "\n"
      ],
      "text/plain": [
       "  date       time year lat      lng       subject_race search_conducted\n",
       "1 2009-01-01 1    2009 47.57274 -111.8029 white        FALSE           \n",
       "2 2009-01-02 2    2009 46.76123 -114.0811 white        FALSE           \n",
       "3 2009-01-03 3    2009 46.69468 -114.0735 white        FALSE           \n",
       "4 2009-01-04 4    2009 46.72739 -114.0790 NA            TRUE           \n",
       "5 2009-01-04 5    2009 46.72952 -114.0791 NA            TRUE           \n",
       "6 2009-01-04 6    2009 46.53228 -114.1107 NA            TRUE           \n",
       "  reason_for_stop                   violation_type                \n",
       "1 hit and run                       motor vehicle serious         \n",
       "2 expired tag 4 months or less      license/registration/insurance\n",
       "3 speed                             motor vehicle hazardous       \n",
       "4 speed                             motor vehicle hazardous       \n",
       "5 speed                             motor vehicle hazardous       \n",
       "6 other tag/registration violations license/registration/insurance\n",
       "  consent_search_conducted raw_search_type    \n",
       "1 FALSE                    NO SEARCH REQUESTED\n",
       "2 FALSE                    NO SEARCH REQUESTED\n",
       "3 FALSE                    NO SEARCH REQUESTED\n",
       "4    NA                    NA                 \n",
       "5    NA                    NA                 \n",
       "6    NA                    NA                 "
      ]
     },
     "metadata": {},
     "output_type": "display_data"
    }
   ],
   "source": [
    "#File path for raw data\n",
    "mt_path <- \"data/hp256wp2687_mt_statewide_2019_08_13.rds\"\n",
    "\n",
    "#File path for cleaned data\n",
    "\n",
    "mt_path_clean <- \"data_cleaning/cleaned_mt_records.csv\"\n",
    "\n",
    "#load raw data\n",
    "data <-\n",
    "    mt_path %>%\n",
    "    read_rds()\n",
    "\n",
    "#Load cleaned data\n",
    "data_clean <-\n",
    "    mt_path_clean %>%\n",
    "    read_csv()\n",
    "\n",
    "head(data)\n",
    "head(data_clean)"
   ]
  },
  {
   "cell_type": "code",
   "execution_count": 4,
   "metadata": {},
   "outputs": [],
   "source": [
    "#Flathead counties\n",
    "\n",
    "flathead_counties <- c(\n",
    "    'Flathead County', \n",
    "    'Lincoln County', \n",
    "    'Lake County', \n",
    "    'Mineral County', \n",
    "    'Missoula County', \n",
    "    'Ravalli County', \n",
    "    'Sanders County', \n",
    "    'Salish & Kootenai County'\n",
    "    )"
   ]
  },
  {
   "cell_type": "code",
   "execution_count": 5,
   "metadata": {},
   "outputs": [
    {
     "data": {
      "text/html": [
       "<ol class=list-inline>\n",
       "\t<li>'raw_row_number'</li>\n",
       "\t<li>'date'</li>\n",
       "\t<li>'time'</li>\n",
       "\t<li>'location'</li>\n",
       "\t<li>'lat'</li>\n",
       "\t<li>'lng'</li>\n",
       "\t<li>'county_name'</li>\n",
       "\t<li>'subject_age'</li>\n",
       "\t<li>'subject_race'</li>\n",
       "\t<li>'subject_sex'</li>\n",
       "\t<li>'department_name'</li>\n",
       "\t<li>'type'</li>\n",
       "\t<li>'violation'</li>\n",
       "\t<li>'arrest_made'</li>\n",
       "\t<li>'citation_issued'</li>\n",
       "\t<li>'warning_issued'</li>\n",
       "\t<li>'outcome'</li>\n",
       "\t<li>'frisk_performed'</li>\n",
       "\t<li>'search_conducted'</li>\n",
       "\t<li>'search_basis'</li>\n",
       "\t<li>'reason_for_stop'</li>\n",
       "\t<li>'vehicle_make'</li>\n",
       "\t<li>'vehicle_model'</li>\n",
       "\t<li>'vehicle_type'</li>\n",
       "\t<li>'vehicle_registration_state'</li>\n",
       "\t<li>'vehicle_year'</li>\n",
       "\t<li>'raw_Race'</li>\n",
       "\t<li>'raw_Ethnicity'</li>\n",
       "\t<li>'raw_SearchType'</li>\n",
       "</ol>\n"
      ],
      "text/latex": [
       "\\begin{enumerate*}\n",
       "\\item 'raw\\_row\\_number'\n",
       "\\item 'date'\n",
       "\\item 'time'\n",
       "\\item 'location'\n",
       "\\item 'lat'\n",
       "\\item 'lng'\n",
       "\\item 'county\\_name'\n",
       "\\item 'subject\\_age'\n",
       "\\item 'subject\\_race'\n",
       "\\item 'subject\\_sex'\n",
       "\\item 'department\\_name'\n",
       "\\item 'type'\n",
       "\\item 'violation'\n",
       "\\item 'arrest\\_made'\n",
       "\\item 'citation\\_issued'\n",
       "\\item 'warning\\_issued'\n",
       "\\item 'outcome'\n",
       "\\item 'frisk\\_performed'\n",
       "\\item 'search\\_conducted'\n",
       "\\item 'search\\_basis'\n",
       "\\item 'reason\\_for\\_stop'\n",
       "\\item 'vehicle\\_make'\n",
       "\\item 'vehicle\\_model'\n",
       "\\item 'vehicle\\_type'\n",
       "\\item 'vehicle\\_registration\\_state'\n",
       "\\item 'vehicle\\_year'\n",
       "\\item 'raw\\_Race'\n",
       "\\item 'raw\\_Ethnicity'\n",
       "\\item 'raw\\_SearchType'\n",
       "\\end{enumerate*}\n"
      ],
      "text/markdown": [
       "1. 'raw_row_number'\n",
       "2. 'date'\n",
       "3. 'time'\n",
       "4. 'location'\n",
       "5. 'lat'\n",
       "6. 'lng'\n",
       "7. 'county_name'\n",
       "8. 'subject_age'\n",
       "9. 'subject_race'\n",
       "10. 'subject_sex'\n",
       "11. 'department_name'\n",
       "12. 'type'\n",
       "13. 'violation'\n",
       "14. 'arrest_made'\n",
       "15. 'citation_issued'\n",
       "16. 'warning_issued'\n",
       "17. 'outcome'\n",
       "18. 'frisk_performed'\n",
       "19. 'search_conducted'\n",
       "20. 'search_basis'\n",
       "21. 'reason_for_stop'\n",
       "22. 'vehicle_make'\n",
       "23. 'vehicle_model'\n",
       "24. 'vehicle_type'\n",
       "25. 'vehicle_registration_state'\n",
       "26. 'vehicle_year'\n",
       "27. 'raw_Race'\n",
       "28. 'raw_Ethnicity'\n",
       "29. 'raw_SearchType'\n",
       "\n",
       "\n"
      ],
      "text/plain": [
       " [1] \"raw_row_number\"             \"date\"                      \n",
       " [3] \"time\"                       \"location\"                  \n",
       " [5] \"lat\"                        \"lng\"                       \n",
       " [7] \"county_name\"                \"subject_age\"               \n",
       " [9] \"subject_race\"               \"subject_sex\"               \n",
       "[11] \"department_name\"            \"type\"                      \n",
       "[13] \"violation\"                  \"arrest_made\"               \n",
       "[15] \"citation_issued\"            \"warning_issued\"            \n",
       "[17] \"outcome\"                    \"frisk_performed\"           \n",
       "[19] \"search_conducted\"           \"search_basis\"              \n",
       "[21] \"reason_for_stop\"            \"vehicle_make\"              \n",
       "[23] \"vehicle_model\"              \"vehicle_type\"              \n",
       "[25] \"vehicle_registration_state\" \"vehicle_year\"              \n",
       "[27] \"raw_Race\"                   \"raw_Ethnicity\"             \n",
       "[29] \"raw_SearchType\"            "
      ]
     },
     "metadata": {},
     "output_type": "display_data"
    },
    {
     "data": {
      "text/html": [
       "<ol class=list-inline>\n",
       "\t<li>'date'</li>\n",
       "\t<li>'time'</li>\n",
       "\t<li>'year'</li>\n",
       "\t<li>'lat'</li>\n",
       "\t<li>'lng'</li>\n",
       "\t<li>'subject_race'</li>\n",
       "\t<li>'search_conducted'</li>\n",
       "\t<li>'reason_for_stop'</li>\n",
       "\t<li>'violation_type'</li>\n",
       "\t<li>'consent_search_conducted'</li>\n",
       "\t<li>'raw_search_type'</li>\n",
       "</ol>\n"
      ],
      "text/latex": [
       "\\begin{enumerate*}\n",
       "\\item 'date'\n",
       "\\item 'time'\n",
       "\\item 'year'\n",
       "\\item 'lat'\n",
       "\\item 'lng'\n",
       "\\item 'subject\\_race'\n",
       "\\item 'search\\_conducted'\n",
       "\\item 'reason\\_for\\_stop'\n",
       "\\item 'violation\\_type'\n",
       "\\item 'consent\\_search\\_conducted'\n",
       "\\item 'raw\\_search\\_type'\n",
       "\\end{enumerate*}\n"
      ],
      "text/markdown": [
       "1. 'date'\n",
       "2. 'time'\n",
       "3. 'year'\n",
       "4. 'lat'\n",
       "5. 'lng'\n",
       "6. 'subject_race'\n",
       "7. 'search_conducted'\n",
       "8. 'reason_for_stop'\n",
       "9. 'violation_type'\n",
       "10. 'consent_search_conducted'\n",
       "11. 'raw_search_type'\n",
       "\n",
       "\n"
      ],
      "text/plain": [
       " [1] \"date\"                     \"time\"                    \n",
       " [3] \"year\"                     \"lat\"                     \n",
       " [5] \"lng\"                      \"subject_race\"            \n",
       " [7] \"search_conducted\"         \"reason_for_stop\"         \n",
       " [9] \"violation_type\"           \"consent_search_conducted\"\n",
       "[11] \"raw_search_type\"         "
      ]
     },
     "metadata": {},
     "output_type": "display_data"
    }
   ],
   "source": [
    "data %>% colnames()\n",
    "data_clean %>% colnames()"
   ]
  },
  {
   "cell_type": "markdown",
   "metadata": {},
   "source": [
    "### Compare the difference between consent search rates in Flathead and the rest of the state, not accounting for race"
   ]
  },
  {
   "cell_type": "code",
   "execution_count": 6,
   "metadata": {},
   "outputs": [
    {
     "data": {
      "text/html": [
       "<table>\n",
       "<thead><tr><th scope=col>total_stops</th><th scope=col>consent_searches</th><th scope=col>consent_search_rate</th></tr></thead>\n",
       "<tbody>\n",
       "\t<tr><td>825118     </td><td>2240       </td><td>0.002714763</td></tr>\n",
       "</tbody>\n",
       "</table>\n"
      ],
      "text/latex": [
       "\\begin{tabular}{r|lll}\n",
       " total\\_stops & consent\\_searches & consent\\_search\\_rate\\\\\n",
       "\\hline\n",
       "\t 825118      & 2240        & 0.002714763\\\\\n",
       "\\end{tabular}\n"
      ],
      "text/markdown": [
       "\n",
       "| total_stops | consent_searches | consent_search_rate |\n",
       "|---|---|---|\n",
       "| 825118      | 2240        | 0.002714763 |\n",
       "\n"
      ],
      "text/plain": [
       "  total_stops consent_searches consent_search_rate\n",
       "1 825118      2240             0.002714763        "
      ]
     },
     "metadata": {},
     "output_type": "display_data"
    }
   ],
   "source": [
    "## Consent search rate for all of Montana\n",
    "data %>%\n",
    "summarize(\n",
    "    total_stops = n(),\n",
    "    consent_searches = sum(search_basis == \"consent\", na.rm = T),\n",
    "    consent_search_rate = (consent_searches/total_stops)\n",
    ")"
   ]
  },
  {
   "cell_type": "code",
   "execution_count": 7,
   "metadata": {},
   "outputs": [
    {
     "data": {
      "text/html": [
       "<table>\n",
       "<thead><tr><th scope=col>total_stops</th><th scope=col>consent_searches</th><th scope=col>consent_search_rate</th></tr></thead>\n",
       "<tbody>\n",
       "\t<tr><td>224658     </td><td>792        </td><td>0.003525359</td></tr>\n",
       "</tbody>\n",
       "</table>\n"
      ],
      "text/latex": [
       "\\begin{tabular}{r|lll}\n",
       " total\\_stops & consent\\_searches & consent\\_search\\_rate\\\\\n",
       "\\hline\n",
       "\t 224658      & 792         & 0.003525359\\\\\n",
       "\\end{tabular}\n"
      ],
      "text/markdown": [
       "\n",
       "| total_stops | consent_searches | consent_search_rate |\n",
       "|---|---|---|\n",
       "| 224658      | 792         | 0.003525359 |\n",
       "\n"
      ],
      "text/plain": [
       "  total_stops consent_searches consent_search_rate\n",
       "1 224658      792              0.003525359        "
      ]
     },
     "metadata": {},
     "output_type": "display_data"
    }
   ],
   "source": [
    "## Consent search rate around Flathead\n",
    "\n",
    "flat_head_data <- data %>% filter(county_name %in% flathead_counties)\n",
    "\n",
    "flat_head_data %>%\n",
    "summarize(\n",
    "    total_stops = n(),\n",
    "    consent_searches = sum(search_basis == \"consent\", na.rm = T),\n",
    "    consent_search_rate = (consent_searches/total_stops)\n",
    ")"
   ]
  },
  {
   "cell_type": "markdown",
   "metadata": {},
   "source": [
    "### Do consent search rates differ by violation and race?"
   ]
  },
  {
   "cell_type": "code",
   "execution_count": 8,
   "metadata": {},
   "outputs": [
    {
     "data": {
      "text/html": [
       "<table>\n",
       "<thead><tr><th scope=col>subject_race</th><th scope=col>consent_search_rate_mvh</th></tr></thead>\n",
       "<tbody>\n",
       "\t<tr><td>NA         </td><td>0.000000000</td></tr>\n",
       "\t<tr><td>asian      </td><td>0.004629630</td></tr>\n",
       "\t<tr><td>black      </td><td>0.009473684</td></tr>\n",
       "\t<tr><td>hispanic   </td><td>0.008352932</td></tr>\n",
       "\t<tr><td>indigenous </td><td>0.006394940</td></tr>\n",
       "\t<tr><td>unknown    </td><td>0.000000000</td></tr>\n",
       "\t<tr><td>white      </td><td>0.001561814</td></tr>\n",
       "</tbody>\n",
       "</table>\n"
      ],
      "text/latex": [
       "\\begin{tabular}{r|ll}\n",
       " subject\\_race & consent\\_search\\_rate\\_mvh\\\\\n",
       "\\hline\n",
       "\t NA          & 0.000000000\\\\\n",
       "\t asian       & 0.004629630\\\\\n",
       "\t black       & 0.009473684\\\\\n",
       "\t hispanic    & 0.008352932\\\\\n",
       "\t indigenous  & 0.006394940\\\\\n",
       "\t unknown     & 0.000000000\\\\\n",
       "\t white       & 0.001561814\\\\\n",
       "\\end{tabular}\n"
      ],
      "text/markdown": [
       "\n",
       "| subject_race | consent_search_rate_mvh |\n",
       "|---|---|\n",
       "| NA          | 0.000000000 |\n",
       "| asian       | 0.004629630 |\n",
       "| black       | 0.009473684 |\n",
       "| hispanic    | 0.008352932 |\n",
       "| indigenous  | 0.006394940 |\n",
       "| unknown     | 0.000000000 |\n",
       "| white       | 0.001561814 |\n",
       "\n"
      ],
      "text/plain": [
       "  subject_race consent_search_rate_mvh\n",
       "1 NA           0.000000000            \n",
       "2 asian        0.004629630            \n",
       "3 black        0.009473684            \n",
       "4 hispanic     0.008352932            \n",
       "5 indigenous   0.006394940            \n",
       "6 unknown      0.000000000            \n",
       "7 white        0.001561814            "
      ]
     },
     "metadata": {},
     "output_type": "display_data"
    }
   ],
   "source": [
    "#Consent search rates for violation \"Motor Vehicle Hazardous\"\n",
    "data_clean_1 <- data_clean %>% filter (violation_type == \"motor vehicle hazardous\")\n",
    "\n",
    "\n",
    "data_clean_1 %>% \n",
    "  group_by(subject_race) %>% \n",
    "  summarize(\n",
    "    consent_search_rate_mvh = mean(consent_search_conducted, na.rm = T),\n",
    "  )"
   ]
  },
  {
   "cell_type": "code",
   "execution_count": 9,
   "metadata": {},
   "outputs": [
    {
     "data": {
      "text/html": [
       "<table>\n",
       "<thead><tr><th scope=col>subject_race</th><th scope=col>consent_search_rate_mvs</th></tr></thead>\n",
       "<tbody>\n",
       "\t<tr><td>NA         </td><td>        NaN</td></tr>\n",
       "\t<tr><td>asian      </td><td>0.000000000</td></tr>\n",
       "\t<tr><td>black      </td><td>0.030303030</td></tr>\n",
       "\t<tr><td>hispanic   </td><td>0.013201320</td></tr>\n",
       "\t<tr><td>indigenous </td><td>0.018108652</td></tr>\n",
       "\t<tr><td>unknown    </td><td>0.000000000</td></tr>\n",
       "\t<tr><td>white      </td><td>0.005740884</td></tr>\n",
       "</tbody>\n",
       "</table>\n"
      ],
      "text/latex": [
       "\\begin{tabular}{r|ll}\n",
       " subject\\_race & consent\\_search\\_rate\\_mvs\\\\\n",
       "\\hline\n",
       "\t NA          &         NaN\\\\\n",
       "\t asian       & 0.000000000\\\\\n",
       "\t black       & 0.030303030\\\\\n",
       "\t hispanic    & 0.013201320\\\\\n",
       "\t indigenous  & 0.018108652\\\\\n",
       "\t unknown     & 0.000000000\\\\\n",
       "\t white       & 0.005740884\\\\\n",
       "\\end{tabular}\n"
      ],
      "text/markdown": [
       "\n",
       "| subject_race | consent_search_rate_mvs |\n",
       "|---|---|\n",
       "| NA          |         NaN |\n",
       "| asian       | 0.000000000 |\n",
       "| black       | 0.030303030 |\n",
       "| hispanic    | 0.013201320 |\n",
       "| indigenous  | 0.018108652 |\n",
       "| unknown     | 0.000000000 |\n",
       "| white       | 0.005740884 |\n",
       "\n"
      ],
      "text/plain": [
       "  subject_race consent_search_rate_mvs\n",
       "1 NA                   NaN            \n",
       "2 asian        0.000000000            \n",
       "3 black        0.030303030            \n",
       "4 hispanic     0.013201320            \n",
       "5 indigenous   0.018108652            \n",
       "6 unknown      0.000000000            \n",
       "7 white        0.005740884            "
      ]
     },
     "metadata": {},
     "output_type": "display_data"
    }
   ],
   "source": [
    "#Consent search rates for violation \"Motor Vehicle Serious\"\n",
    "data_clean_2 <- data_clean %>% filter (violation_type == \"motor vehicle serious\")\n",
    "\n",
    "\n",
    "data_clean_2 %>% \n",
    "  group_by(subject_race) %>% \n",
    "  summarize(\n",
    "    consent_search_rate_mvs = mean(consent_search_conducted, na.rm = T),\n",
    "  )"
   ]
  },
  {
   "cell_type": "code",
   "execution_count": 10,
   "metadata": {},
   "outputs": [
    {
     "data": {
      "text/html": [
       "<table>\n",
       "<thead><tr><th scope=col>subject_race</th><th scope=col>consent_search_rate_e</th></tr></thead>\n",
       "<tbody>\n",
       "\t<tr><td>NA         </td><td>        NaN</td></tr>\n",
       "\t<tr><td>asian      </td><td>0.020408163</td></tr>\n",
       "\t<tr><td>black      </td><td>0.022727273</td></tr>\n",
       "\t<tr><td>hispanic   </td><td>0.005063291</td></tr>\n",
       "\t<tr><td>indigenous </td><td>0.027000491</td></tr>\n",
       "\t<tr><td>unknown    </td><td>0.000000000</td></tr>\n",
       "\t<tr><td>white      </td><td>0.006773320</td></tr>\n",
       "</tbody>\n",
       "</table>\n"
      ],
      "text/latex": [
       "\\begin{tabular}{r|ll}\n",
       " subject\\_race & consent\\_search\\_rate\\_e\\\\\n",
       "\\hline\n",
       "\t NA          &         NaN\\\\\n",
       "\t asian       & 0.020408163\\\\\n",
       "\t black       & 0.022727273\\\\\n",
       "\t hispanic    & 0.005063291\\\\\n",
       "\t indigenous  & 0.027000491\\\\\n",
       "\t unknown     & 0.000000000\\\\\n",
       "\t white       & 0.006773320\\\\\n",
       "\\end{tabular}\n"
      ],
      "text/markdown": [
       "\n",
       "| subject_race | consent_search_rate_e |\n",
       "|---|---|\n",
       "| NA          |         NaN |\n",
       "| asian       | 0.020408163 |\n",
       "| black       | 0.022727273 |\n",
       "| hispanic    | 0.005063291 |\n",
       "| indigenous  | 0.027000491 |\n",
       "| unknown     | 0.000000000 |\n",
       "| white       | 0.006773320 |\n",
       "\n"
      ],
      "text/plain": [
       "  subject_race consent_search_rate_e\n",
       "1 NA                   NaN          \n",
       "2 asian        0.020408163          \n",
       "3 black        0.022727273          \n",
       "4 hispanic     0.005063291          \n",
       "5 indigenous   0.027000491          \n",
       "6 unknown      0.000000000          \n",
       "7 white        0.006773320          "
      ]
     },
     "metadata": {},
     "output_type": "display_data"
    }
   ],
   "source": [
    "#Consent search rates for violation \"Equipment\"\n",
    "data_clean_3 <- data_clean %>% filter (violation_type == \"equipment\")\n",
    "\n",
    "\n",
    "data_clean_3 %>% \n",
    "  group_by(subject_race) %>% \n",
    "  summarize(\n",
    "    consent_search_rate_e = mean(consent_search_conducted, na.rm = T),\n",
    "  )"
   ]
  },
  {
   "cell_type": "code",
   "execution_count": 11,
   "metadata": {},
   "outputs": [
    {
     "data": {
      "text/html": [
       "<table>\n",
       "<thead><tr><th scope=col>subject_race</th><th scope=col>consent_search_rate_lri</th></tr></thead>\n",
       "<tbody>\n",
       "\t<tr><td>NA         </td><td>0.000000000</td></tr>\n",
       "\t<tr><td>asian      </td><td>0.000000000</td></tr>\n",
       "\t<tr><td>black      </td><td>0.030373832</td></tr>\n",
       "\t<tr><td>hispanic   </td><td>0.020539153</td></tr>\n",
       "\t<tr><td>indigenous </td><td>0.032855939</td></tr>\n",
       "\t<tr><td>unknown    </td><td>0.007246377</td></tr>\n",
       "\t<tr><td>white      </td><td>0.006246582</td></tr>\n",
       "</tbody>\n",
       "</table>\n"
      ],
      "text/latex": [
       "\\begin{tabular}{r|ll}\n",
       " subject\\_race & consent\\_search\\_rate\\_lri\\\\\n",
       "\\hline\n",
       "\t NA          & 0.000000000\\\\\n",
       "\t asian       & 0.000000000\\\\\n",
       "\t black       & 0.030373832\\\\\n",
       "\t hispanic    & 0.020539153\\\\\n",
       "\t indigenous  & 0.032855939\\\\\n",
       "\t unknown     & 0.007246377\\\\\n",
       "\t white       & 0.006246582\\\\\n",
       "\\end{tabular}\n"
      ],
      "text/markdown": [
       "\n",
       "| subject_race | consent_search_rate_lri |\n",
       "|---|---|\n",
       "| NA          | 0.000000000 |\n",
       "| asian       | 0.000000000 |\n",
       "| black       | 0.030373832 |\n",
       "| hispanic    | 0.020539153 |\n",
       "| indigenous  | 0.032855939 |\n",
       "| unknown     | 0.007246377 |\n",
       "| white       | 0.006246582 |\n",
       "\n"
      ],
      "text/plain": [
       "  subject_race consent_search_rate_lri\n",
       "1 NA           0.000000000            \n",
       "2 asian        0.000000000            \n",
       "3 black        0.030373832            \n",
       "4 hispanic     0.020539153            \n",
       "5 indigenous   0.032855939            \n",
       "6 unknown      0.007246377            \n",
       "7 white        0.006246582            "
      ]
     },
     "metadata": {},
     "output_type": "display_data"
    }
   ],
   "source": [
    "#Consent search rates for violation \"License/Registration/Insurance\"\n",
    "data_clean_4 <- data_clean %>% filter (violation_type == \"license/registration/insurance\")\n",
    "\n",
    "\n",
    "data_clean_4 %>% \n",
    "  group_by(subject_race) %>% \n",
    "  summarize(\n",
    "    consent_search_rate_lri = mean(consent_search_conducted, na.rm = T),\n",
    "  )"
   ]
  },
  {
   "cell_type": "code",
   "execution_count": 12,
   "metadata": {},
   "outputs": [
    {
     "data": {
      "text/html": [
       "<table>\n",
       "<thead><tr><th scope=col>subject_race</th><th scope=col>consent_search_rate_c</th></tr></thead>\n",
       "<tbody>\n",
       "\t<tr><td>asian       </td><td>0.0000000000</td></tr>\n",
       "\t<tr><td>black       </td><td>0.0000000000</td></tr>\n",
       "\t<tr><td>hispanic    </td><td>0.0097442144</td></tr>\n",
       "\t<tr><td>indigenous  </td><td>0.0000000000</td></tr>\n",
       "\t<tr><td>unknown     </td><td>0.0000000000</td></tr>\n",
       "\t<tr><td>white       </td><td>0.0006042296</td></tr>\n",
       "</tbody>\n",
       "</table>\n"
      ],
      "text/latex": [
       "\\begin{tabular}{r|ll}\n",
       " subject\\_race & consent\\_search\\_rate\\_c\\\\\n",
       "\\hline\n",
       "\t asian        & 0.0000000000\\\\\n",
       "\t black        & 0.0000000000\\\\\n",
       "\t hispanic     & 0.0097442144\\\\\n",
       "\t indigenous   & 0.0000000000\\\\\n",
       "\t unknown      & 0.0000000000\\\\\n",
       "\t white        & 0.0006042296\\\\\n",
       "\\end{tabular}\n"
      ],
      "text/markdown": [
       "\n",
       "| subject_race | consent_search_rate_c |\n",
       "|---|---|\n",
       "| asian        | 0.0000000000 |\n",
       "| black        | 0.0000000000 |\n",
       "| hispanic     | 0.0097442144 |\n",
       "| indigenous   | 0.0000000000 |\n",
       "| unknown      | 0.0000000000 |\n",
       "| white        | 0.0006042296 |\n",
       "\n"
      ],
      "text/plain": [
       "  subject_race consent_search_rate_c\n",
       "1 asian        0.0000000000         \n",
       "2 black        0.0000000000         \n",
       "3 hispanic     0.0097442144         \n",
       "4 indigenous   0.0000000000         \n",
       "5 unknown      0.0000000000         \n",
       "6 white        0.0006042296         "
      ]
     },
     "metadata": {},
     "output_type": "display_data"
    }
   ],
   "source": [
    "#Consent search rates for violation \"Commercial\"\n",
    "data_clean_5 <- data_clean %>% filter (violation_type == \"commercial\")\n",
    "\n",
    "\n",
    "data_clean_5 %>% \n",
    "  group_by(subject_race) %>% \n",
    "  summarize(\n",
    "    consent_search_rate_c = mean(consent_search_conducted, na.rm = T),\n",
    "  )"
   ]
  },
  {
   "cell_type": "code",
   "execution_count": 13,
   "metadata": {},
   "outputs": [
    {
     "data": {
      "text/html": [
       "<table>\n",
       "<thead><tr><th scope=col>subject_race</th><th scope=col>consent_search_rate_nmv</th></tr></thead>\n",
       "<tbody>\n",
       "\t<tr><td>asian      </td><td>0.000000000</td></tr>\n",
       "\t<tr><td>black      </td><td>0.000000000</td></tr>\n",
       "\t<tr><td>hispanic   </td><td>0.000000000</td></tr>\n",
       "\t<tr><td>indigenous </td><td>0.000000000</td></tr>\n",
       "\t<tr><td>white      </td><td>0.003703704</td></tr>\n",
       "</tbody>\n",
       "</table>\n"
      ],
      "text/latex": [
       "\\begin{tabular}{r|ll}\n",
       " subject\\_race & consent\\_search\\_rate\\_nmv\\\\\n",
       "\\hline\n",
       "\t asian       & 0.000000000\\\\\n",
       "\t black       & 0.000000000\\\\\n",
       "\t hispanic    & 0.000000000\\\\\n",
       "\t indigenous  & 0.000000000\\\\\n",
       "\t white       & 0.003703704\\\\\n",
       "\\end{tabular}\n"
      ],
      "text/markdown": [
       "\n",
       "| subject_race | consent_search_rate_nmv |\n",
       "|---|---|\n",
       "| asian       | 0.000000000 |\n",
       "| black       | 0.000000000 |\n",
       "| hispanic    | 0.000000000 |\n",
       "| indigenous  | 0.000000000 |\n",
       "| white       | 0.003703704 |\n",
       "\n"
      ],
      "text/plain": [
       "  subject_race consent_search_rate_nmv\n",
       "1 asian        0.000000000            \n",
       "2 black        0.000000000            \n",
       "3 hispanic     0.000000000            \n",
       "4 indigenous   0.000000000            \n",
       "5 white        0.003703704            "
      ]
     },
     "metadata": {},
     "output_type": "display_data"
    }
   ],
   "source": [
    "#Consent search rates for violation \"Non-Motor Vehicle\"\n",
    "data_clean_6 <- data_clean %>% filter (violation_type == \"non-motor vehicle\")\n",
    "\n",
    "\n",
    "data_clean_6 %>% \n",
    "  group_by(subject_race) %>% \n",
    "  summarize(\n",
    "    consent_search_rate_nmv = mean(consent_search_conducted, na.rm = T),\n",
    "  )"
   ]
  },
  {
   "cell_type": "code",
   "execution_count": 14,
   "metadata": {},
   "outputs": [
    {
     "data": {
      "text/html": [
       "<table>\n",
       "<thead><tr><th scope=col>subject_race</th><th scope=col>consent_search_rate_o</th></tr></thead>\n",
       "<tbody>\n",
       "\t<tr><td>NA         </td><td>0.000000000</td></tr>\n",
       "\t<tr><td>asian      </td><td>0.000000000</td></tr>\n",
       "\t<tr><td>black      </td><td>0.023076923</td></tr>\n",
       "\t<tr><td>hispanic   </td><td>0.013157895</td></tr>\n",
       "\t<tr><td>indigenous </td><td>0.025682183</td></tr>\n",
       "\t<tr><td>unknown    </td><td>0.000000000</td></tr>\n",
       "\t<tr><td>white      </td><td>0.005675643</td></tr>\n",
       "</tbody>\n",
       "</table>\n"
      ],
      "text/latex": [
       "\\begin{tabular}{r|ll}\n",
       " subject\\_race & consent\\_search\\_rate\\_o\\\\\n",
       "\\hline\n",
       "\t NA          & 0.000000000\\\\\n",
       "\t asian       & 0.000000000\\\\\n",
       "\t black       & 0.023076923\\\\\n",
       "\t hispanic    & 0.013157895\\\\\n",
       "\t indigenous  & 0.025682183\\\\\n",
       "\t unknown     & 0.000000000\\\\\n",
       "\t white       & 0.005675643\\\\\n",
       "\\end{tabular}\n"
      ],
      "text/markdown": [
       "\n",
       "| subject_race | consent_search_rate_o |\n",
       "|---|---|\n",
       "| NA          | 0.000000000 |\n",
       "| asian       | 0.000000000 |\n",
       "| black       | 0.023076923 |\n",
       "| hispanic    | 0.013157895 |\n",
       "| indigenous  | 0.025682183 |\n",
       "| unknown     | 0.000000000 |\n",
       "| white       | 0.005675643 |\n",
       "\n"
      ],
      "text/plain": [
       "  subject_race consent_search_rate_o\n",
       "1 NA           0.000000000          \n",
       "2 asian        0.000000000          \n",
       "3 black        0.023076923          \n",
       "4 hispanic     0.013157895          \n",
       "5 indigenous   0.025682183          \n",
       "6 unknown      0.000000000          \n",
       "7 white        0.005675643          "
      ]
     },
     "metadata": {},
     "output_type": "display_data"
    }
   ],
   "source": [
    "#Consent search rates for violation \"Other\"\n",
    "data_clean_7 <- data_clean %>% filter (violation_type == \"other\")\n",
    "\n",
    "\n",
    "data_clean_7 %>% \n",
    "  group_by(subject_race) %>% \n",
    "  summarize(\n",
    "    consent_search_rate_o = mean(consent_search_conducted, na.rm = T),\n",
    "  )"
   ]
  },
  {
   "cell_type": "markdown",
   "metadata": {},
   "source": [
    "# Violations by Percentage"
   ]
  },
  {
   "cell_type": "code",
   "execution_count": 21,
   "metadata": {},
   "outputs": [
    {
     "data": {
      "text/html": [
       "<table>\n",
       "<thead><tr><th scope=col>violation_type</th><th scope=col>n</th><th scope=col>prop</th></tr></thead>\n",
       "<tbody>\n",
       "\t<tr><td>motor vehicle hazardous       </td><td>654413                        </td><td>0.7931144394                  </td></tr>\n",
       "\t<tr><td>NA                            </td><td> 77680                        </td><td>0.0941441103                  </td></tr>\n",
       "\t<tr><td>license/registration/insurance</td><td> 38589                        </td><td>0.0467678562                  </td></tr>\n",
       "\t<tr><td>commercial                    </td><td> 19147                        </td><td>0.0232051658                  </td></tr>\n",
       "\t<tr><td>equipment                     </td><td> 18161                        </td><td>0.0220101852                  </td></tr>\n",
       "\t<tr><td>other                         </td><td>  9380                        </td><td>0.0113680710                  </td></tr>\n",
       "\t<tr><td>motor vehicle serious         </td><td>  7440                        </td><td>0.0090168921                  </td></tr>\n",
       "\t<tr><td>non-motor vehicle             </td><td>   308                        </td><td>0.0003732799                  </td></tr>\n",
       "</tbody>\n",
       "</table>\n"
      ],
      "text/latex": [
       "\\begin{tabular}{r|lll}\n",
       " violation\\_type & n & prop\\\\\n",
       "\\hline\n",
       "\t motor vehicle hazardous        & 654413                         & 0.7931144394                  \\\\\n",
       "\t NA                             &  77680                         & 0.0941441103                  \\\\\n",
       "\t license/registration/insurance &  38589                         & 0.0467678562                  \\\\\n",
       "\t commercial                     &  19147                         & 0.0232051658                  \\\\\n",
       "\t equipment                      &  18161                         & 0.0220101852                  \\\\\n",
       "\t other                          &   9380                         & 0.0113680710                  \\\\\n",
       "\t motor vehicle serious          &   7440                         & 0.0090168921                  \\\\\n",
       "\t non-motor vehicle              &    308                         & 0.0003732799                  \\\\\n",
       "\\end{tabular}\n"
      ],
      "text/markdown": [
       "\n",
       "| violation_type | n | prop |\n",
       "|---|---|---|\n",
       "| motor vehicle hazardous        | 654413                         | 0.7931144394                   |\n",
       "| NA                             |  77680                         | 0.0941441103                   |\n",
       "| license/registration/insurance |  38589                         | 0.0467678562                   |\n",
       "| commercial                     |  19147                         | 0.0232051658                   |\n",
       "| equipment                      |  18161                         | 0.0220101852                   |\n",
       "| other                          |   9380                         | 0.0113680710                   |\n",
       "| motor vehicle serious          |   7440                         | 0.0090168921                   |\n",
       "| non-motor vehicle              |    308                         | 0.0003732799                   |\n",
       "\n"
      ],
      "text/plain": [
       "  violation_type                 n      prop        \n",
       "1 motor vehicle hazardous        654413 0.7931144394\n",
       "2 NA                              77680 0.0941441103\n",
       "3 license/registration/insurance  38589 0.0467678562\n",
       "4 commercial                      19147 0.0232051658\n",
       "5 equipment                       18161 0.0220101852\n",
       "6 other                            9380 0.0113680710\n",
       "7 motor vehicle serious            7440 0.0090168921\n",
       "8 non-motor vehicle                 308 0.0003732799"
      ]
     },
     "metadata": {},
     "output_type": "display_data"
    }
   ],
   "source": [
    "#Top violations in overall dataset\n",
    "data_clean %>% \n",
    "  count(violation_type) %>% \n",
    "  mutate(prop = n / sum(n)) %>%\n",
    "  arrange(desc(n))"
   ]
  },
  {
   "cell_type": "code",
   "execution_count": 26,
   "metadata": {},
   "outputs": [
    {
     "data": {
      "text/html": [
       "<table>\n",
       "<thead><tr><th scope=col>violation_type</th><th scope=col>n</th><th scope=col>prop</th></tr></thead>\n",
       "<tbody>\n",
       "\t<tr><td>motor vehicle hazardous       </td><td>599310                        </td><td>0.7969176966                  </td></tr>\n",
       "\t<tr><td>NA                            </td><td> 70936                        </td><td>0.0943253971                  </td></tr>\n",
       "\t<tr><td>license/registration/insurance</td><td> 34740                        </td><td>0.0461946585                  </td></tr>\n",
       "\t<tr><td>commercial                    </td><td> 16551                        </td><td>0.0220082842                  </td></tr>\n",
       "\t<tr><td>equipment                     </td><td> 15502                        </td><td>0.0206134023                  </td></tr>\n",
       "\t<tr><td>other                         </td><td>  8281                        </td><td>0.0110114556                  </td></tr>\n",
       "\t<tr><td>motor vehicle serious         </td><td>  6445                        </td><td>0.0085700799                  </td></tr>\n",
       "\t<tr><td>non-motor vehicle             </td><td>   270                        </td><td>0.0003590258                  </td></tr>\n",
       "</tbody>\n",
       "</table>\n"
      ],
      "text/latex": [
       "\\begin{tabular}{r|lll}\n",
       " violation\\_type & n & prop\\\\\n",
       "\\hline\n",
       "\t motor vehicle hazardous        & 599310                         & 0.7969176966                  \\\\\n",
       "\t NA                             &  70936                         & 0.0943253971                  \\\\\n",
       "\t license/registration/insurance &  34740                         & 0.0461946585                  \\\\\n",
       "\t commercial                     &  16551                         & 0.0220082842                  \\\\\n",
       "\t equipment                      &  15502                         & 0.0206134023                  \\\\\n",
       "\t other                          &   8281                         & 0.0110114556                  \\\\\n",
       "\t motor vehicle serious          &   6445                         & 0.0085700799                  \\\\\n",
       "\t non-motor vehicle              &    270                         & 0.0003590258                  \\\\\n",
       "\\end{tabular}\n"
      ],
      "text/markdown": [
       "\n",
       "| violation_type | n | prop |\n",
       "|---|---|---|\n",
       "| motor vehicle hazardous        | 599310                         | 0.7969176966                   |\n",
       "| NA                             |  70936                         | 0.0943253971                   |\n",
       "| license/registration/insurance |  34740                         | 0.0461946585                   |\n",
       "| commercial                     |  16551                         | 0.0220082842                   |\n",
       "| equipment                      |  15502                         | 0.0206134023                   |\n",
       "| other                          |   8281                         | 0.0110114556                   |\n",
       "| motor vehicle serious          |   6445                         | 0.0085700799                   |\n",
       "| non-motor vehicle              |    270                         | 0.0003590258                   |\n",
       "\n"
      ],
      "text/plain": [
       "  violation_type                 n      prop        \n",
       "1 motor vehicle hazardous        599310 0.7969176966\n",
       "2 NA                              70936 0.0943253971\n",
       "3 license/registration/insurance  34740 0.0461946585\n",
       "4 commercial                      16551 0.0220082842\n",
       "5 equipment                       15502 0.0206134023\n",
       "6 other                            8281 0.0110114556\n",
       "7 motor vehicle serious            6445 0.0085700799\n",
       "8 non-motor vehicle                 270 0.0003590258"
      ]
     },
     "metadata": {},
     "output_type": "display_data"
    }
   ],
   "source": [
    "#Top violations in overall dataset for white drivers\n",
    "data_clean_white <- data_clean %>% filter(subject_race == 'white')\n",
    "data_clean_white %>% \n",
    "  count(violation_type) %>% \n",
    "  mutate(prop = n / sum(n)) %>%\n",
    "  arrange(desc(n))"
   ]
  },
  {
   "cell_type": "code",
   "execution_count": 27,
   "metadata": {},
   "outputs": [
    {
     "data": {
      "text/html": [
       "<table>\n",
       "<thead><tr><th scope=col>violation_type</th><th scope=col>n</th><th scope=col>prop</th></tr></thead>\n",
       "<tbody>\n",
       "\t<tr><td>motor vehicle hazardous       </td><td>28460                         </td><td>0.7338077558                  </td></tr>\n",
       "\t<tr><td>NA                            </td><td> 4365                         </td><td>0.1125464109                  </td></tr>\n",
       "\t<tr><td>license/registration/insurance</td><td> 2374                         </td><td>0.0612108086                  </td></tr>\n",
       "\t<tr><td>equipment                     </td><td> 2037                         </td><td>0.0525216584                  </td></tr>\n",
       "\t<tr><td>other                         </td><td>  623                         </td><td>0.0160633251                  </td></tr>\n",
       "\t<tr><td>motor vehicle serious         </td><td>  497                         </td><td>0.0128145627                  </td></tr>\n",
       "\t<tr><td>commercial                    </td><td>  403                         </td><td>0.0103908828                  </td></tr>\n",
       "\t<tr><td>non-motor vehicle             </td><td>   25                         </td><td>0.0006445957                  </td></tr>\n",
       "</tbody>\n",
       "</table>\n"
      ],
      "text/latex": [
       "\\begin{tabular}{r|lll}\n",
       " violation\\_type & n & prop\\\\\n",
       "\\hline\n",
       "\t motor vehicle hazardous        & 28460                          & 0.7338077558                  \\\\\n",
       "\t NA                             &  4365                          & 0.1125464109                  \\\\\n",
       "\t license/registration/insurance &  2374                          & 0.0612108086                  \\\\\n",
       "\t equipment                      &  2037                          & 0.0525216584                  \\\\\n",
       "\t other                          &   623                          & 0.0160633251                  \\\\\n",
       "\t motor vehicle serious          &   497                          & 0.0128145627                  \\\\\n",
       "\t commercial                     &   403                          & 0.0103908828                  \\\\\n",
       "\t non-motor vehicle              &    25                          & 0.0006445957                  \\\\\n",
       "\\end{tabular}\n"
      ],
      "text/markdown": [
       "\n",
       "| violation_type | n | prop |\n",
       "|---|---|---|\n",
       "| motor vehicle hazardous        | 28460                          | 0.7338077558                   |\n",
       "| NA                             |  4365                          | 0.1125464109                   |\n",
       "| license/registration/insurance |  2374                          | 0.0612108086                   |\n",
       "| equipment                      |  2037                          | 0.0525216584                   |\n",
       "| other                          |   623                          | 0.0160633251                   |\n",
       "| motor vehicle serious          |   497                          | 0.0128145627                   |\n",
       "| commercial                     |   403                          | 0.0103908828                   |\n",
       "| non-motor vehicle              |    25                          | 0.0006445957                   |\n",
       "\n"
      ],
      "text/plain": [
       "  violation_type                 n     prop        \n",
       "1 motor vehicle hazardous        28460 0.7338077558\n",
       "2 NA                              4365 0.1125464109\n",
       "3 license/registration/insurance  2374 0.0612108086\n",
       "4 equipment                       2037 0.0525216584\n",
       "5 other                            623 0.0160633251\n",
       "6 motor vehicle serious            497 0.0128145627\n",
       "7 commercial                       403 0.0103908828\n",
       "8 non-motor vehicle                 25 0.0006445957"
      ]
     },
     "metadata": {},
     "output_type": "display_data"
    }
   ],
   "source": [
    "#Top violations in overall dataset for Native American drivers\n",
    "data_clean_na <- data_clean %>% filter(subject_race == 'indigenous')\n",
    "data_clean_na %>% \n",
    "  count(violation_type) %>% \n",
    "  mutate(prop = n / sum(n)) %>%\n",
    "  arrange(desc(n))"
   ]
  },
  {
   "cell_type": "code",
   "execution_count": 22,
   "metadata": {},
   "outputs": [
    {
     "data": {
      "text/html": [
       "<table>\n",
       "<thead><tr><th scope=col>violation_type</th><th scope=col>n</th><th scope=col>prop</th></tr></thead>\n",
       "<tbody>\n",
       "\t<tr><td>motor vehicle hazardous       </td><td>1311                          </td><td>0.5852678571                  </td></tr>\n",
       "\t<tr><td>license/registration/insurance</td><td> 325                          </td><td>0.1450892857                  </td></tr>\n",
       "\t<tr><td>NA                            </td><td> 297                          </td><td>0.1325892857                  </td></tr>\n",
       "\t<tr><td>equipment                     </td><td> 166                          </td><td>0.0741071429                  </td></tr>\n",
       "\t<tr><td>other                         </td><td>  69                          </td><td>0.0308035714                  </td></tr>\n",
       "\t<tr><td>motor vehicle serious         </td><td>  53                          </td><td>0.0236607143                  </td></tr>\n",
       "\t<tr><td>commercial                    </td><td>  18                          </td><td>0.0080357143                  </td></tr>\n",
       "\t<tr><td>non-motor vehicle             </td><td>   1                          </td><td>0.0004464286                  </td></tr>\n",
       "</tbody>\n",
       "</table>\n"
      ],
      "text/latex": [
       "\\begin{tabular}{r|lll}\n",
       " violation\\_type & n & prop\\\\\n",
       "\\hline\n",
       "\t motor vehicle hazardous        & 1311                           & 0.5852678571                  \\\\\n",
       "\t license/registration/insurance &  325                           & 0.1450892857                  \\\\\n",
       "\t NA                             &  297                           & 0.1325892857                  \\\\\n",
       "\t equipment                      &  166                           & 0.0741071429                  \\\\\n",
       "\t other                          &   69                           & 0.0308035714                  \\\\\n",
       "\t motor vehicle serious          &   53                           & 0.0236607143                  \\\\\n",
       "\t commercial                     &   18                           & 0.0080357143                  \\\\\n",
       "\t non-motor vehicle              &    1                           & 0.0004464286                  \\\\\n",
       "\\end{tabular}\n"
      ],
      "text/markdown": [
       "\n",
       "| violation_type | n | prop |\n",
       "|---|---|---|\n",
       "| motor vehicle hazardous        | 1311                           | 0.5852678571                   |\n",
       "| license/registration/insurance |  325                           | 0.1450892857                   |\n",
       "| NA                             |  297                           | 0.1325892857                   |\n",
       "| equipment                      |  166                           | 0.0741071429                   |\n",
       "| other                          |   69                           | 0.0308035714                   |\n",
       "| motor vehicle serious          |   53                           | 0.0236607143                   |\n",
       "| commercial                     |   18                           | 0.0080357143                   |\n",
       "| non-motor vehicle              |    1                           | 0.0004464286                   |\n",
       "\n"
      ],
      "text/plain": [
       "  violation_type                 n    prop        \n",
       "1 motor vehicle hazardous        1311 0.5852678571\n",
       "2 license/registration/insurance  325 0.1450892857\n",
       "3 NA                              297 0.1325892857\n",
       "4 equipment                       166 0.0741071429\n",
       "5 other                            69 0.0308035714\n",
       "6 motor vehicle serious            53 0.0236607143\n",
       "7 commercial                       18 0.0080357143\n",
       "8 non-motor vehicle                 1 0.0004464286"
      ]
     },
     "metadata": {},
     "output_type": "display_data"
    }
   ],
   "source": [
    "#Top violations for consent searches\n",
    "data_clean_consent <- data_clean %>% filter(consent_search_conducted == TRUE)\n",
    "data_clean_consent %>% \n",
    "  count(violation_type) %>% \n",
    "  mutate(prop = n / sum(n)) %>%\n",
    "  arrange(desc(n))"
   ]
  },
  {
   "cell_type": "code",
   "execution_count": 23,
   "metadata": {},
   "outputs": [
    {
     "data": {
      "text/html": [
       "<table>\n",
       "<thead><tr><th scope=col>violation_type</th><th scope=col>n</th><th scope=col>prop</th></tr></thead>\n",
       "<tbody>\n",
       "\t<tr><td>motor vehicle hazardous       </td><td>936                           </td><td>0.6007702182                  </td></tr>\n",
       "\t<tr><td>license/registration/insurance</td><td>217                           </td><td>0.1392811297                  </td></tr>\n",
       "\t<tr><td>NA                            </td><td>205                           </td><td>0.1315789474                  </td></tr>\n",
       "\t<tr><td>equipment                     </td><td>105                           </td><td>0.0673940950                  </td></tr>\n",
       "\t<tr><td>other                         </td><td> 47                           </td><td>0.0301668806                  </td></tr>\n",
       "\t<tr><td>motor vehicle serious         </td><td> 37                           </td><td>0.0237483954                  </td></tr>\n",
       "\t<tr><td>commercial                    </td><td> 10                           </td><td>0.0064184852                  </td></tr>\n",
       "\t<tr><td>non-motor vehicle             </td><td>  1                           </td><td>0.0006418485                  </td></tr>\n",
       "</tbody>\n",
       "</table>\n"
      ],
      "text/latex": [
       "\\begin{tabular}{r|lll}\n",
       " violation\\_type & n & prop\\\\\n",
       "\\hline\n",
       "\t motor vehicle hazardous        & 936                            & 0.6007702182                  \\\\\n",
       "\t license/registration/insurance & 217                            & 0.1392811297                  \\\\\n",
       "\t NA                             & 205                            & 0.1315789474                  \\\\\n",
       "\t equipment                      & 105                            & 0.0673940950                  \\\\\n",
       "\t other                          &  47                            & 0.0301668806                  \\\\\n",
       "\t motor vehicle serious          &  37                            & 0.0237483954                  \\\\\n",
       "\t commercial                     &  10                            & 0.0064184852                  \\\\\n",
       "\t non-motor vehicle              &   1                            & 0.0006418485                  \\\\\n",
       "\\end{tabular}\n"
      ],
      "text/markdown": [
       "\n",
       "| violation_type | n | prop |\n",
       "|---|---|---|\n",
       "| motor vehicle hazardous        | 936                            | 0.6007702182                   |\n",
       "| license/registration/insurance | 217                            | 0.1392811297                   |\n",
       "| NA                             | 205                            | 0.1315789474                   |\n",
       "| equipment                      | 105                            | 0.0673940950                   |\n",
       "| other                          |  47                            | 0.0301668806                   |\n",
       "| motor vehicle serious          |  37                            | 0.0237483954                   |\n",
       "| commercial                     |  10                            | 0.0064184852                   |\n",
       "| non-motor vehicle              |   1                            | 0.0006418485                   |\n",
       "\n"
      ],
      "text/plain": [
       "  violation_type                 n   prop        \n",
       "1 motor vehicle hazardous        936 0.6007702182\n",
       "2 license/registration/insurance 217 0.1392811297\n",
       "3 NA                             205 0.1315789474\n",
       "4 equipment                      105 0.0673940950\n",
       "5 other                           47 0.0301668806\n",
       "6 motor vehicle serious           37 0.0237483954\n",
       "7 commercial                      10 0.0064184852\n",
       "8 non-motor vehicle                1 0.0006418485"
      ]
     },
     "metadata": {},
     "output_type": "display_data"
    }
   ],
   "source": [
    "#Top violations for consent searches for white drivers\n",
    "data_clean_consent_white <- data_clean_consent %>% filter(subject_race == 'white')\n",
    "data_clean_consent_white %>% \n",
    "  count(violation_type) %>% \n",
    "  mutate(prop = n / sum(n)) %>%\n",
    "  arrange(desc(n))"
   ]
  },
  {
   "cell_type": "code",
   "execution_count": 24,
   "metadata": {},
   "outputs": [
    {
     "data": {
      "text/html": [
       "<table>\n",
       "<thead><tr><th scope=col>violation_type</th><th scope=col>n</th><th scope=col>prop</th></tr></thead>\n",
       "<tbody>\n",
       "\t<tr><td>motor vehicle hazardous       </td><td>182                           </td><td>0.46907216                    </td></tr>\n",
       "\t<tr><td>license/registration/insurance</td><td> 78                           </td><td>0.20103093                    </td></tr>\n",
       "\t<tr><td>equipment                     </td><td> 55                           </td><td>0.14175258                    </td></tr>\n",
       "\t<tr><td>NA                            </td><td> 48                           </td><td>0.12371134                    </td></tr>\n",
       "\t<tr><td>other                         </td><td> 16                           </td><td>0.04123711                    </td></tr>\n",
       "\t<tr><td>motor vehicle serious         </td><td>  9                           </td><td>0.02319588                    </td></tr>\n",
       "</tbody>\n",
       "</table>\n"
      ],
      "text/latex": [
       "\\begin{tabular}{r|lll}\n",
       " violation\\_type & n & prop\\\\\n",
       "\\hline\n",
       "\t motor vehicle hazardous        & 182                            & 0.46907216                    \\\\\n",
       "\t license/registration/insurance &  78                            & 0.20103093                    \\\\\n",
       "\t equipment                      &  55                            & 0.14175258                    \\\\\n",
       "\t NA                             &  48                            & 0.12371134                    \\\\\n",
       "\t other                          &  16                            & 0.04123711                    \\\\\n",
       "\t motor vehicle serious          &   9                            & 0.02319588                    \\\\\n",
       "\\end{tabular}\n"
      ],
      "text/markdown": [
       "\n",
       "| violation_type | n | prop |\n",
       "|---|---|---|\n",
       "| motor vehicle hazardous        | 182                            | 0.46907216                     |\n",
       "| license/registration/insurance |  78                            | 0.20103093                     |\n",
       "| equipment                      |  55                            | 0.14175258                     |\n",
       "| NA                             |  48                            | 0.12371134                     |\n",
       "| other                          |  16                            | 0.04123711                     |\n",
       "| motor vehicle serious          |   9                            | 0.02319588                     |\n",
       "\n"
      ],
      "text/plain": [
       "  violation_type                 n   prop      \n",
       "1 motor vehicle hazardous        182 0.46907216\n",
       "2 license/registration/insurance  78 0.20103093\n",
       "3 equipment                       55 0.14175258\n",
       "4 NA                              48 0.12371134\n",
       "5 other                           16 0.04123711\n",
       "6 motor vehicle serious            9 0.02319588"
      ]
     },
     "metadata": {},
     "output_type": "display_data"
    }
   ],
   "source": [
    "#Top violations for consent searches for Native American drivers\n",
    "data_clean_consent_na <- data_clean_consent %>% filter(subject_race == 'indigenous')\n",
    "data_clean_consent_na %>% \n",
    "  count(violation_type) %>% \n",
    "  mutate(prop = n / sum(n)) %>%\n",
    "  arrange(desc(n))"
   ]
  },
  {
   "cell_type": "code",
   "execution_count": null,
   "metadata": {},
   "outputs": [],
   "source": []
  }
 ],
 "metadata": {
  "kernelspec": {
   "display_name": "R",
   "language": "R",
   "name": "ir"
  },
  "language_info": {
   "codemirror_mode": "r",
   "file_extension": ".r",
   "mimetype": "text/x-r-source",
   "name": "R",
   "pygments_lexer": "r",
   "version": "3.6.1"
  }
 },
 "nbformat": 4,
 "nbformat_minor": 2
}
