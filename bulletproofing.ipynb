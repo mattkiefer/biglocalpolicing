{
 "cells": [
  {
   "cell_type": "markdown",
   "metadata": {},
   "source": [
    "# MONTANA DATA REVIEW\n",
    "\n",
    "#### Items needing fact checking are denoted in the draft by an \"FC\" comment. Check them here, denoting each with the sentence/fact you are checking in the draft. Update the related FC comment in the draft when you confirm or deny the finding.\n",
    "\n",
    "##### TO-DO's per Matt's review\n",
    "* TODO get all stops\n",
    "* TODO filter to consent searches\n",
    "* TODO group by race, get consent search rate (searches/stops)\n",
    "* TODO derive arrest rate for consent-searched NA, white drivers (arrests/searches)\n",
    "* TODO filter by geography (flathead, or the district it belongs to)\n",
    "* TODO rerun consent search rate for flathead\n",
    "* TODO etc"
   ]
  },
  {
   "cell_type": "markdown",
   "metadata": {},
   "source": [
    "### Setup"
   ]
  },
  {
   "cell_type": "code",
   "execution_count": 14,
   "metadata": {},
   "outputs": [],
   "source": [
    "# Libraries\n",
    "\n",
    "library(tidyverse)\n",
    "library(lubridate)"
   ]
  },
  {
   "cell_type": "code",
   "execution_count": 15,
   "metadata": {},
   "outputs": [],
   "source": [
    "# Parameters\n",
    "\n",
    "### File paths\n",
    "mt_path <- \"data/hp256wp2687_mt_statewide_2019_08_13.rds\"\n",
    "\n",
    "flathead_counties <- c(\n",
    "    'Flathead County', \n",
    "    'Lincoln County', \n",
    "    'Lake County', \n",
    "    'Mineral County', \n",
    "    'Missoula County', \n",
    "    'Ravalli County', \n",
    "    'Sanders County', \n",
    "    'Salish & Kootenai County'\n",
    "    )"
   ]
  },
  {
   "cell_type": "code",
   "execution_count": 43,
   "metadata": {},
   "outputs": [],
   "source": [
    "# Load Data\n",
    "\n",
    "data <-\n",
    "    mt_path %>%\n",
    "    read_rds()"
   ]
  },
  {
   "cell_type": "code",
   "execution_count": 17,
   "metadata": {},
   "outputs": [],
   "source": [
    "data <-\n",
    "    data %>%\n",
    "    mutate(\n",
    "        year = year(date)\n",
    "    )"
   ]
  },
  {
   "cell_type": "code",
   "execution_count": 18,
   "metadata": {},
   "outputs": [
    {
     "data": {
      "text/html": [
       "<table>\n",
       "<thead><tr><th scope=col>raw_row_number</th><th scope=col>date</th><th scope=col>time</th><th scope=col>location</th><th scope=col>lat</th><th scope=col>lng</th><th scope=col>county_name</th><th scope=col>subject_age</th><th scope=col>subject_race</th><th scope=col>subject_sex</th><th scope=col>...</th><th scope=col>reason_for_stop</th><th scope=col>vehicle_make</th><th scope=col>vehicle_model</th><th scope=col>vehicle_type</th><th scope=col>vehicle_registration_state</th><th scope=col>vehicle_year</th><th scope=col>raw_Race</th><th scope=col>raw_Ethnicity</th><th scope=col>raw_SearchType</th><th scope=col>year</th></tr></thead>\n",
       "<tbody>\n",
       "\t<tr><td>1                                </td><td>2009-01-01                       </td><td>02:10:53                         </td><td>US 89 N MM10 (SB)                </td><td>47.57274                         </td><td>-111.8029                        </td><td>Cascade County                   </td><td>16                               </td><td>white                            </td><td>female                           </td><td>...                              </td><td>--- - HIT AND RUN                </td><td>FORD                             </td><td>EXPLORER                         </td><td>SPORT UTILITY                    </td><td>MT                               </td><td>1994                             </td><td>W                                </td><td>N                                </td><td>NO SEARCH REQUESTED              </td><td>2009                             </td></tr>\n",
       "\t<tr><td>2                                </td><td>2009-01-02                       </td><td>11:34:19                         </td><td>HWY 93 SO AND ANNS LANE S/B      </td><td>46.76123                         </td><td>-114.0811                        </td><td>Missoula County                  </td><td>19                               </td><td>white                            </td><td>male                             </td><td>...                              </td><td>EXPIRED TAG ( - MONTHS OR LESS ) </td><td>GMC                              </td><td>TK                               </td><td>TRUCK                            </td><td>MT                               </td><td>1996                             </td><td>W                                </td><td>N                                </td><td>NO SEARCH REQUESTED              </td><td>2009                             </td></tr>\n",
       "\t<tr><td>3                                </td><td>2009-01-03                       </td><td>11:36:42                         </td><td>P007 HWY 93 MM 77 N/B            </td><td>46.69468                         </td><td>-114.0735                        </td><td>Missoula County                  </td><td>17                               </td><td>white                            </td><td>male                             </td><td>...                              </td><td>SPEED                            </td><td>GMC                              </td><td>YUKON                            </td><td>SPORT UTILITY                    </td><td>MT                               </td><td>1999                             </td><td>W                                </td><td>N                                </td><td>NO SEARCH REQUESTED              </td><td>2009                             </td></tr>\n",
       "\t<tr><td>4                                </td><td>2009-01-04                       </td><td>10:33:11                         </td><td>P007 HWY 93 MM 81 S/B            </td><td>46.72739                         </td><td>-114.0790                        </td><td>Missoula County                  </td><td>17                               </td><td>NA                               </td><td>female                           </td><td>...                              </td><td>SPEED                            </td><td>HOND                             </td><td>CR-V                             </td><td>SPORT UTILITY                    </td><td>MT                               </td><td>2002                             </td><td>W                                </td><td>NA                               </td><td>NA                               </td><td>2009                             </td></tr>\n",
       "\t<tr><td>5                                </td><td>2009-01-04                       </td><td>10:46:43                         </td><td>P007 HWY 93 MM 81 N/B            </td><td>46.72952                         </td><td>-114.0791                        </td><td>Missoula County                  </td><td>31                               </td><td>NA                               </td><td>male                             </td><td>...                              </td><td>SPEED                            </td><td>TOYT                             </td><td>TERCEL                           </td><td>SEDAN                            </td><td>MT                               </td><td>1992                             </td><td>I                                </td><td>NA                               </td><td>NA                               </td><td>2009                             </td></tr>\n",
       "\t<tr><td>6                                </td><td>2009-01-04                       </td><td>14:41:57                         </td><td>P007 HWY 93 MM 67 S/B            </td><td>46.53228                         </td><td>-114.1107                        </td><td>Ravalli County                   </td><td>20                               </td><td>NA                               </td><td>male                             </td><td>...                              </td><td>OTHER TAG/REGISTRATION VIOLATIONS</td><td>JEEP                             </td><td>CHE                              </td><td>SPORT UTILITY                    </td><td>MT                               </td><td>1998                             </td><td>W                                </td><td>NA                               </td><td>NA                               </td><td>2009                             </td></tr>\n",
       "</tbody>\n",
       "</table>\n"
      ],
      "text/latex": [
       "\\begin{tabular}{r|llllllllllllllllllllllllllllll}\n",
       " raw\\_row\\_number & date & time & location & lat & lng & county\\_name & subject\\_age & subject\\_race & subject\\_sex & ... & reason\\_for\\_stop & vehicle\\_make & vehicle\\_model & vehicle\\_type & vehicle\\_registration\\_state & vehicle\\_year & raw\\_Race & raw\\_Ethnicity & raw\\_SearchType & year\\\\\n",
       "\\hline\n",
       "\t 1                                 & 2009-01-01                        & 02:10:53                          & US 89 N MM10 (SB)                 & 47.57274                          & -111.8029                         & Cascade County                    & 16                                & white                             & female                            & ...                               & --- - HIT AND RUN                 & FORD                              & EXPLORER                          & SPORT UTILITY                     & MT                                & 1994                              & W                                 & N                                 & NO SEARCH REQUESTED               & 2009                             \\\\\n",
       "\t 2                                 & 2009-01-02                        & 11:34:19                          & HWY 93 SO AND ANNS LANE S/B       & 46.76123                          & -114.0811                         & Missoula County                   & 19                                & white                             & male                              & ...                               & EXPIRED TAG ( - MONTHS OR LESS )  & GMC                               & TK                                & TRUCK                             & MT                                & 1996                              & W                                 & N                                 & NO SEARCH REQUESTED               & 2009                             \\\\\n",
       "\t 3                                 & 2009-01-03                        & 11:36:42                          & P007 HWY 93 MM 77 N/B             & 46.69468                          & -114.0735                         & Missoula County                   & 17                                & white                             & male                              & ...                               & SPEED                             & GMC                               & YUKON                             & SPORT UTILITY                     & MT                                & 1999                              & W                                 & N                                 & NO SEARCH REQUESTED               & 2009                             \\\\\n",
       "\t 4                                 & 2009-01-04                        & 10:33:11                          & P007 HWY 93 MM 81 S/B             & 46.72739                          & -114.0790                         & Missoula County                   & 17                                & NA                                & female                            & ...                               & SPEED                             & HOND                              & CR-V                              & SPORT UTILITY                     & MT                                & 2002                              & W                                 & NA                                & NA                                & 2009                             \\\\\n",
       "\t 5                                 & 2009-01-04                        & 10:46:43                          & P007 HWY 93 MM 81 N/B             & 46.72952                          & -114.0791                         & Missoula County                   & 31                                & NA                                & male                              & ...                               & SPEED                             & TOYT                              & TERCEL                            & SEDAN                             & MT                                & 1992                              & I                                 & NA                                & NA                                & 2009                             \\\\\n",
       "\t 6                                 & 2009-01-04                        & 14:41:57                          & P007 HWY 93 MM 67 S/B             & 46.53228                          & -114.1107                         & Ravalli County                    & 20                                & NA                                & male                              & ...                               & OTHER TAG/REGISTRATION VIOLATIONS & JEEP                              & CHE                               & SPORT UTILITY                     & MT                                & 1998                              & W                                 & NA                                & NA                                & 2009                             \\\\\n",
       "\\end{tabular}\n"
      ],
      "text/markdown": [
       "\n",
       "| raw_row_number | date | time | location | lat | lng | county_name | subject_age | subject_race | subject_sex | ... | reason_for_stop | vehicle_make | vehicle_model | vehicle_type | vehicle_registration_state | vehicle_year | raw_Race | raw_Ethnicity | raw_SearchType | year |\n",
       "|---|---|---|---|---|---|---|---|---|---|---|---|---|---|---|---|---|---|---|---|---|\n",
       "| 1                                 | 2009-01-01                        | 02:10:53                          | US 89 N MM10 (SB)                 | 47.57274                          | -111.8029                         | Cascade County                    | 16                                | white                             | female                            | ...                               | --- - HIT AND RUN                 | FORD                              | EXPLORER                          | SPORT UTILITY                     | MT                                | 1994                              | W                                 | N                                 | NO SEARCH REQUESTED               | 2009                              |\n",
       "| 2                                 | 2009-01-02                        | 11:34:19                          | HWY 93 SO AND ANNS LANE S/B       | 46.76123                          | -114.0811                         | Missoula County                   | 19                                | white                             | male                              | ...                               | EXPIRED TAG ( - MONTHS OR LESS )  | GMC                               | TK                                | TRUCK                             | MT                                | 1996                              | W                                 | N                                 | NO SEARCH REQUESTED               | 2009                              |\n",
       "| 3                                 | 2009-01-03                        | 11:36:42                          | P007 HWY 93 MM 77 N/B             | 46.69468                          | -114.0735                         | Missoula County                   | 17                                | white                             | male                              | ...                               | SPEED                             | GMC                               | YUKON                             | SPORT UTILITY                     | MT                                | 1999                              | W                                 | N                                 | NO SEARCH REQUESTED               | 2009                              |\n",
       "| 4                                 | 2009-01-04                        | 10:33:11                          | P007 HWY 93 MM 81 S/B             | 46.72739                          | -114.0790                         | Missoula County                   | 17                                | NA                                | female                            | ...                               | SPEED                             | HOND                              | CR-V                              | SPORT UTILITY                     | MT                                | 2002                              | W                                 | NA                                | NA                                | 2009                              |\n",
       "| 5                                 | 2009-01-04                        | 10:46:43                          | P007 HWY 93 MM 81 N/B             | 46.72952                          | -114.0791                         | Missoula County                   | 31                                | NA                                | male                              | ...                               | SPEED                             | TOYT                              | TERCEL                            | SEDAN                             | MT                                | 1992                              | I                                 | NA                                | NA                                | 2009                              |\n",
       "| 6                                 | 2009-01-04                        | 14:41:57                          | P007 HWY 93 MM 67 S/B             | 46.53228                          | -114.1107                         | Ravalli County                    | 20                                | NA                                | male                              | ...                               | OTHER TAG/REGISTRATION VIOLATIONS | JEEP                              | CHE                               | SPORT UTILITY                     | MT                                | 1998                              | W                                 | NA                                | NA                                | 2009                              |\n",
       "\n"
      ],
      "text/plain": [
       "  raw_row_number date       time     location                    lat     \n",
       "1 1              2009-01-01 02:10:53 US 89 N MM10 (SB)           47.57274\n",
       "2 2              2009-01-02 11:34:19 HWY 93 SO AND ANNS LANE S/B 46.76123\n",
       "3 3              2009-01-03 11:36:42 P007 HWY 93 MM 77 N/B       46.69468\n",
       "4 4              2009-01-04 10:33:11 P007 HWY 93 MM 81 S/B       46.72739\n",
       "5 5              2009-01-04 10:46:43 P007 HWY 93 MM 81 N/B       46.72952\n",
       "6 6              2009-01-04 14:41:57 P007 HWY 93 MM 67 S/B       46.53228\n",
       "  lng       county_name     subject_age subject_race subject_sex ...\n",
       "1 -111.8029 Cascade County  16          white        female      ...\n",
       "2 -114.0811 Missoula County 19          white        male        ...\n",
       "3 -114.0735 Missoula County 17          white        male        ...\n",
       "4 -114.0790 Missoula County 17          NA           female      ...\n",
       "5 -114.0791 Missoula County 31          NA           male        ...\n",
       "6 -114.1107 Ravalli County  20          NA           male        ...\n",
       "  reason_for_stop                   vehicle_make vehicle_model vehicle_type \n",
       "1 --- - HIT AND RUN                 FORD         EXPLORER      SPORT UTILITY\n",
       "2 EXPIRED TAG ( - MONTHS OR LESS )  GMC          TK            TRUCK        \n",
       "3 SPEED                             GMC          YUKON         SPORT UTILITY\n",
       "4 SPEED                             HOND         CR-V          SPORT UTILITY\n",
       "5 SPEED                             TOYT         TERCEL        SEDAN        \n",
       "6 OTHER TAG/REGISTRATION VIOLATIONS JEEP         CHE           SPORT UTILITY\n",
       "  vehicle_registration_state vehicle_year raw_Race raw_Ethnicity\n",
       "1 MT                         1994         W        N            \n",
       "2 MT                         1996         W        N            \n",
       "3 MT                         1999         W        N            \n",
       "4 MT                         2002         W        NA           \n",
       "5 MT                         1992         I        NA           \n",
       "6 MT                         1998         W        NA           \n",
       "  raw_SearchType      year\n",
       "1 NO SEARCH REQUESTED 2009\n",
       "2 NO SEARCH REQUESTED 2009\n",
       "3 NO SEARCH REQUESTED 2009\n",
       "4 NA                  2009\n",
       "5 NA                  2009\n",
       "6 NA                  2009"
      ]
     },
     "metadata": {},
     "output_type": "display_data"
    }
   ],
   "source": [
    "head(data)"
   ]
  },
  {
   "cell_type": "code",
   "execution_count": 19,
   "metadata": {},
   "outputs": [
    {
     "data": {
      "text/html": [
       "<ol class=list-inline>\n",
       "\t<li>'raw_row_number'</li>\n",
       "\t<li>'date'</li>\n",
       "\t<li>'time'</li>\n",
       "\t<li>'location'</li>\n",
       "\t<li>'lat'</li>\n",
       "\t<li>'lng'</li>\n",
       "\t<li>'county_name'</li>\n",
       "\t<li>'subject_age'</li>\n",
       "\t<li>'subject_race'</li>\n",
       "\t<li>'subject_sex'</li>\n",
       "\t<li>'department_name'</li>\n",
       "\t<li>'type'</li>\n",
       "\t<li>'violation'</li>\n",
       "\t<li>'arrest_made'</li>\n",
       "\t<li>'citation_issued'</li>\n",
       "\t<li>'warning_issued'</li>\n",
       "\t<li>'outcome'</li>\n",
       "\t<li>'frisk_performed'</li>\n",
       "\t<li>'search_conducted'</li>\n",
       "\t<li>'search_basis'</li>\n",
       "\t<li>'reason_for_stop'</li>\n",
       "\t<li>'vehicle_make'</li>\n",
       "\t<li>'vehicle_model'</li>\n",
       "\t<li>'vehicle_type'</li>\n",
       "\t<li>'vehicle_registration_state'</li>\n",
       "\t<li>'vehicle_year'</li>\n",
       "\t<li>'raw_Race'</li>\n",
       "\t<li>'raw_Ethnicity'</li>\n",
       "\t<li>'raw_SearchType'</li>\n",
       "\t<li>'year'</li>\n",
       "</ol>\n"
      ],
      "text/latex": [
       "\\begin{enumerate*}\n",
       "\\item 'raw\\_row\\_number'\n",
       "\\item 'date'\n",
       "\\item 'time'\n",
       "\\item 'location'\n",
       "\\item 'lat'\n",
       "\\item 'lng'\n",
       "\\item 'county\\_name'\n",
       "\\item 'subject\\_age'\n",
       "\\item 'subject\\_race'\n",
       "\\item 'subject\\_sex'\n",
       "\\item 'department\\_name'\n",
       "\\item 'type'\n",
       "\\item 'violation'\n",
       "\\item 'arrest\\_made'\n",
       "\\item 'citation\\_issued'\n",
       "\\item 'warning\\_issued'\n",
       "\\item 'outcome'\n",
       "\\item 'frisk\\_performed'\n",
       "\\item 'search\\_conducted'\n",
       "\\item 'search\\_basis'\n",
       "\\item 'reason\\_for\\_stop'\n",
       "\\item 'vehicle\\_make'\n",
       "\\item 'vehicle\\_model'\n",
       "\\item 'vehicle\\_type'\n",
       "\\item 'vehicle\\_registration\\_state'\n",
       "\\item 'vehicle\\_year'\n",
       "\\item 'raw\\_Race'\n",
       "\\item 'raw\\_Ethnicity'\n",
       "\\item 'raw\\_SearchType'\n",
       "\\item 'year'\n",
       "\\end{enumerate*}\n"
      ],
      "text/markdown": [
       "1. 'raw_row_number'\n",
       "2. 'date'\n",
       "3. 'time'\n",
       "4. 'location'\n",
       "5. 'lat'\n",
       "6. 'lng'\n",
       "7. 'county_name'\n",
       "8. 'subject_age'\n",
       "9. 'subject_race'\n",
       "10. 'subject_sex'\n",
       "11. 'department_name'\n",
       "12. 'type'\n",
       "13. 'violation'\n",
       "14. 'arrest_made'\n",
       "15. 'citation_issued'\n",
       "16. 'warning_issued'\n",
       "17. 'outcome'\n",
       "18. 'frisk_performed'\n",
       "19. 'search_conducted'\n",
       "20. 'search_basis'\n",
       "21. 'reason_for_stop'\n",
       "22. 'vehicle_make'\n",
       "23. 'vehicle_model'\n",
       "24. 'vehicle_type'\n",
       "25. 'vehicle_registration_state'\n",
       "26. 'vehicle_year'\n",
       "27. 'raw_Race'\n",
       "28. 'raw_Ethnicity'\n",
       "29. 'raw_SearchType'\n",
       "30. 'year'\n",
       "\n",
       "\n"
      ],
      "text/plain": [
       " [1] \"raw_row_number\"             \"date\"                      \n",
       " [3] \"time\"                       \"location\"                  \n",
       " [5] \"lat\"                        \"lng\"                       \n",
       " [7] \"county_name\"                \"subject_age\"               \n",
       " [9] \"subject_race\"               \"subject_sex\"               \n",
       "[11] \"department_name\"            \"type\"                      \n",
       "[13] \"violation\"                  \"arrest_made\"               \n",
       "[15] \"citation_issued\"            \"warning_issued\"            \n",
       "[17] \"outcome\"                    \"frisk_performed\"           \n",
       "[19] \"search_conducted\"           \"search_basis\"              \n",
       "[21] \"reason_for_stop\"            \"vehicle_make\"              \n",
       "[23] \"vehicle_model\"              \"vehicle_type\"              \n",
       "[25] \"vehicle_registration_state\" \"vehicle_year\"              \n",
       "[27] \"raw_Race\"                   \"raw_Ethnicity\"             \n",
       "[29] \"raw_SearchType\"             \"year\"                      "
      ]
     },
     "metadata": {},
     "output_type": "display_data"
    }
   ],
   "source": [
    "data %>% colnames()"
   ]
  },
  {
   "cell_type": "code",
   "execution_count": 20,
   "metadata": {},
   "outputs": [
    {
     "name": "stderr",
     "output_type": "stream",
     "text": [
      "Warning message:\n",
      "\"Factor `search_basis` contains implicit NA, consider using `forcats::fct_explicit_na`\""
     ]
    },
    {
     "data": {
      "text/html": [
       "<table>\n",
       "<thead><tr><th scope=col>search_basis</th><th scope=col>n</th></tr></thead>\n",
       "<tbody>\n",
       "\t<tr><td>plain view    </td><td>   137        </td></tr>\n",
       "\t<tr><td>consent       </td><td>  2240        </td></tr>\n",
       "\t<tr><td>probable cause</td><td>    43        </td></tr>\n",
       "\t<tr><td>other         </td><td>   593        </td></tr>\n",
       "\t<tr><td>NA            </td><td>822105        </td></tr>\n",
       "</tbody>\n",
       "</table>\n"
      ],
      "text/latex": [
       "\\begin{tabular}{r|ll}\n",
       " search\\_basis & n\\\\\n",
       "\\hline\n",
       "\t plain view     &    137        \\\\\n",
       "\t consent        &   2240        \\\\\n",
       "\t probable cause &     43        \\\\\n",
       "\t other          &    593        \\\\\n",
       "\t NA             & 822105        \\\\\n",
       "\\end{tabular}\n"
      ],
      "text/markdown": [
       "\n",
       "| search_basis | n |\n",
       "|---|---|\n",
       "| plain view     |    137         |\n",
       "| consent        |   2240         |\n",
       "| probable cause |     43         |\n",
       "| other          |    593         |\n",
       "| NA             | 822105         |\n",
       "\n"
      ],
      "text/plain": [
       "  search_basis   n     \n",
       "1 plain view        137\n",
       "2 consent          2240\n",
       "3 probable cause     43\n",
       "4 other             593\n",
       "5 NA             822105"
      ]
     },
     "metadata": {},
     "output_type": "display_data"
    }
   ],
   "source": [
    "data %>% count(search_basis)"
   ]
  },
  {
   "cell_type": "markdown",
   "metadata": {},
   "source": [
    "### Review"
   ]
  },
  {
   "cell_type": "markdown",
   "metadata": {},
   "source": [
    "#### 1) Native American & White Consent Search Rate for 2010-2016"
   ]
  },
  {
   "cell_type": "markdown",
   "metadata": {},
   "source": [
    "SENTENCE: \"Between 2010 and 2016, officers searched 10 of every 1,000 Native American drivers they stopped — more than four times the rate at which they searched white drivers.\"\n",
    "\n",
    "CHECKING:\n",
    "* NA consent search rate\n",
    "* White consent search rate"
   ]
  },
  {
   "cell_type": "code",
   "execution_count": 21,
   "metadata": {},
   "outputs": [
    {
     "data": {
      "text/html": [
       "<table>\n",
       "<thead><tr><th scope=col>raw_Race</th><th scope=col>total_stops</th><th scope=col>consent_searches</th><th scope=col>consent_search_rate</th></tr></thead>\n",
       "<tbody>\n",
       "\t<tr><td>NA        </td><td>     8    </td><td>   0      </td><td>0.00000000</td></tr>\n",
       "\t<tr><td>A         </td><td>  6700    </td><td>  33      </td><td>0.49253731</td></tr>\n",
       "\t<tr><td>B         </td><td>  8806    </td><td>  93      </td><td>1.05609811</td></tr>\n",
       "\t<tr><td>I         </td><td> 38795    </td><td> 388      </td><td>1.00012888</td></tr>\n",
       "\t<tr><td>U         </td><td>  2634    </td><td>   2      </td><td>0.07593014</td></tr>\n",
       "\t<tr><td>W         </td><td>768175    </td><td>1724      </td><td>0.22442803</td></tr>\n",
       "</tbody>\n",
       "</table>\n"
      ],
      "text/latex": [
       "\\begin{tabular}{r|llll}\n",
       " raw\\_Race & total\\_stops & consent\\_searches & consent\\_search\\_rate\\\\\n",
       "\\hline\n",
       "\t NA         &      8     &    0       & 0.00000000\\\\\n",
       "\t A          &   6700     &   33       & 0.49253731\\\\\n",
       "\t B          &   8806     &   93       & 1.05609811\\\\\n",
       "\t I          &  38795     &  388       & 1.00012888\\\\\n",
       "\t U          &   2634     &    2       & 0.07593014\\\\\n",
       "\t W          & 768175     & 1724       & 0.22442803\\\\\n",
       "\\end{tabular}\n"
      ],
      "text/markdown": [
       "\n",
       "| raw_Race | total_stops | consent_searches | consent_search_rate |\n",
       "|---|---|---|---|\n",
       "| NA         |      8     |    0       | 0.00000000 |\n",
       "| A          |   6700     |   33       | 0.49253731 |\n",
       "| B          |   8806     |   93       | 1.05609811 |\n",
       "| I          |  38795     |  388       | 1.00012888 |\n",
       "| U          |   2634     |    2       | 0.07593014 |\n",
       "| W          | 768175     | 1724       | 0.22442803 |\n",
       "\n"
      ],
      "text/plain": [
       "  raw_Race total_stops consent_searches consent_search_rate\n",
       "1 NA            8         0             0.00000000         \n",
       "2 A          6700        33             0.49253731         \n",
       "3 B          8806        93             1.05609811         \n",
       "4 I         38795       388             1.00012888         \n",
       "5 U          2634         2             0.07593014         \n",
       "6 W        768175      1724             0.22442803         "
      ]
     },
     "metadata": {},
     "output_type": "display_data"
    }
   ],
   "source": [
    "one_data <- \n",
    "    data %>%\n",
    "    group_by(raw_Race) %>%\n",
    "    summarise(\n",
    "        total_stops = n(),\n",
    "        consent_searches = sum(search_basis == \"consent\", na.rm = TRUE),\n",
    "        consent_search_rate = (consent_searches/total_stops) * 100\n",
    "    )\n",
    "\n",
    "one_data"
   ]
  },
  {
   "cell_type": "code",
   "execution_count": 22,
   "metadata": {},
   "outputs": [],
   "source": [
    "one_na_csearch_rate <-\n",
    "    one_data %>%\n",
    "    filter(raw_Race == \"I\") %>%\n",
    "    pull(consent_search_rate) %>%\n",
    "    round(digits = 4)\n",
    "\n",
    "one_w_csearch_rate <-\n",
    "    one_data %>%\n",
    "    filter(raw_Race == \"W\") %>%\n",
    "    pull(consent_search_rate) %>%\n",
    "    round(digits = 4)"
   ]
  },
  {
   "cell_type": "markdown",
   "metadata": {},
   "source": [
    "#### Findings"
   ]
  },
  {
   "cell_type": "code",
   "execution_count": 23,
   "metadata": {},
   "outputs": [
    {
     "data": {
      "text/html": [
       "'Native American Consent Search Rate: 1.0001%'"
      ],
      "text/latex": [
       "'Native American Consent Search Rate: 1.0001\\%'"
      ],
      "text/markdown": [
       "'Native American Consent Search Rate: 1.0001%'"
      ],
      "text/plain": [
       "[1] \"Native American Consent Search Rate: 1.0001%\""
      ]
     },
     "metadata": {},
     "output_type": "display_data"
    },
    {
     "data": {
      "text/html": [
       "'White Consent Search Rate: 0.2244%'"
      ],
      "text/latex": [
       "'White Consent Search Rate: 0.2244\\%'"
      ],
      "text/markdown": [
       "'White Consent Search Rate: 0.2244%'"
      ],
      "text/plain": [
       "[1] \"White Consent Search Rate: 0.2244%\""
      ]
     },
     "metadata": {},
     "output_type": "display_data"
    },
    {
     "data": {
      "text/html": [
       "'Native American drivers are subjected to consent searches 4.5x more often than White drivers.'"
      ],
      "text/latex": [
       "'Native American drivers are subjected to consent searches 4.5x more often than White drivers.'"
      ],
      "text/markdown": [
       "'Native American drivers are subjected to consent searches 4.5x more often than White drivers.'"
      ],
      "text/plain": [
       "[1] \"Native American drivers are subjected to consent searches 4.5x more often than White drivers.\""
      ]
     },
     "metadata": {},
     "output_type": "display_data"
    }
   ],
   "source": [
    "paste0(\"Native American Consent Search Rate: \", one_na_csearch_rate, \"%\")\n",
    "paste0(\"White Consent Search Rate: \", one_w_csearch_rate, \"%\")\n",
    "\n",
    "paste0(\n",
    "    \"Native American drivers are subjected to consent searches \",\n",
    "    round(one_na_csearch_rate/one_w_csearch_rate, digits = 1), \n",
    "    \"x more often than White drivers.\"\n",
    ")"
   ]
  },
  {
   "cell_type": "markdown",
   "metadata": {},
   "source": [
    "#### 2) Change in Native American & White Consent Search Rate from 2010 to 2016"
   ]
  },
  {
   "cell_type": "markdown",
   "metadata": {},
   "source": [
    "SENTENCE: \"While search rates for Native American and white drivers were closer together in 2010, by 2016, the two search rates had diverged sharply: The search rate of Native American drivers across the state was six times the search rate of white drivers.\"\n",
    "\n",
    "CHECKING:\n",
    "* NA and White consent search rate in 2010\n",
    "* NA and White consent search rate in 2016"
   ]
  },
  {
   "cell_type": "code",
   "execution_count": 24,
   "metadata": {},
   "outputs": [
    {
     "data": {
      "text/html": [
       "<table>\n",
       "<thead><tr><th scope=col>year</th><th scope=col>raw_Race</th><th scope=col>total_stops</th><th scope=col>consent_searches</th><th scope=col>consent_search_rate</th></tr></thead>\n",
       "<tbody>\n",
       "\t<tr><td>2009     </td><td>I        </td><td>   913   </td><td>  2      </td><td>0.2190581</td></tr>\n",
       "\t<tr><td>2009     </td><td>W        </td><td> 17220   </td><td> 38      </td><td>0.2206736</td></tr>\n",
       "\t<tr><td>2010     </td><td>I        </td><td>  5702   </td><td> 12      </td><td>0.2104525</td></tr>\n",
       "\t<tr><td>2010     </td><td>W        </td><td>116418   </td><td>203      </td><td>0.1743717</td></tr>\n",
       "\t<tr><td>2011     </td><td>I        </td><td>  5113   </td><td> 21      </td><td>0.4107178</td></tr>\n",
       "\t<tr><td>2011     </td><td>W        </td><td>115694   </td><td>172      </td><td>0.1486680</td></tr>\n",
       "\t<tr><td>2012     </td><td>I        </td><td>  5035   </td><td> 17      </td><td>0.3376365</td></tr>\n",
       "\t<tr><td>2012     </td><td>W        </td><td>110193   </td><td>162      </td><td>0.1470148</td></tr>\n",
       "\t<tr><td>2013     </td><td>I        </td><td>  4812   </td><td> 29      </td><td>0.6026600</td></tr>\n",
       "\t<tr><td>2013     </td><td>W        </td><td>107109   </td><td>200      </td><td>0.1867257</td></tr>\n",
       "\t<tr><td>2014     </td><td>I        </td><td>  5344   </td><td>100      </td><td>1.8712575</td></tr>\n",
       "\t<tr><td>2014     </td><td>W        </td><td>101912   </td><td>309      </td><td>0.3032028</td></tr>\n",
       "\t<tr><td>2015     </td><td>I        </td><td>  6605   </td><td>105      </td><td>1.5897048</td></tr>\n",
       "\t<tr><td>2015     </td><td>W        </td><td>106086   </td><td>341      </td><td>0.3214373</td></tr>\n",
       "\t<tr><td>2016     </td><td>I        </td><td>  5271   </td><td>102      </td><td>1.9351167</td></tr>\n",
       "\t<tr><td>2016     </td><td>W        </td><td> 93532   </td><td>299      </td><td>0.3196767</td></tr>\n",
       "</tbody>\n",
       "</table>\n"
      ],
      "text/latex": [
       "\\begin{tabular}{r|lllll}\n",
       " year & raw\\_Race & total\\_stops & consent\\_searches & consent\\_search\\_rate\\\\\n",
       "\\hline\n",
       "\t 2009      & I         &    913    &   2       & 0.2190581\\\\\n",
       "\t 2009      & W         &  17220    &  38       & 0.2206736\\\\\n",
       "\t 2010      & I         &   5702    &  12       & 0.2104525\\\\\n",
       "\t 2010      & W         & 116418    & 203       & 0.1743717\\\\\n",
       "\t 2011      & I         &   5113    &  21       & 0.4107178\\\\\n",
       "\t 2011      & W         & 115694    & 172       & 0.1486680\\\\\n",
       "\t 2012      & I         &   5035    &  17       & 0.3376365\\\\\n",
       "\t 2012      & W         & 110193    & 162       & 0.1470148\\\\\n",
       "\t 2013      & I         &   4812    &  29       & 0.6026600\\\\\n",
       "\t 2013      & W         & 107109    & 200       & 0.1867257\\\\\n",
       "\t 2014      & I         &   5344    & 100       & 1.8712575\\\\\n",
       "\t 2014      & W         & 101912    & 309       & 0.3032028\\\\\n",
       "\t 2015      & I         &   6605    & 105       & 1.5897048\\\\\n",
       "\t 2015      & W         & 106086    & 341       & 0.3214373\\\\\n",
       "\t 2016      & I         &   5271    & 102       & 1.9351167\\\\\n",
       "\t 2016      & W         &  93532    & 299       & 0.3196767\\\\\n",
       "\\end{tabular}\n"
      ],
      "text/markdown": [
       "\n",
       "| year | raw_Race | total_stops | consent_searches | consent_search_rate |\n",
       "|---|---|---|---|---|\n",
       "| 2009      | I         |    913    |   2       | 0.2190581 |\n",
       "| 2009      | W         |  17220    |  38       | 0.2206736 |\n",
       "| 2010      | I         |   5702    |  12       | 0.2104525 |\n",
       "| 2010      | W         | 116418    | 203       | 0.1743717 |\n",
       "| 2011      | I         |   5113    |  21       | 0.4107178 |\n",
       "| 2011      | W         | 115694    | 172       | 0.1486680 |\n",
       "| 2012      | I         |   5035    |  17       | 0.3376365 |\n",
       "| 2012      | W         | 110193    | 162       | 0.1470148 |\n",
       "| 2013      | I         |   4812    |  29       | 0.6026600 |\n",
       "| 2013      | W         | 107109    | 200       | 0.1867257 |\n",
       "| 2014      | I         |   5344    | 100       | 1.8712575 |\n",
       "| 2014      | W         | 101912    | 309       | 0.3032028 |\n",
       "| 2015      | I         |   6605    | 105       | 1.5897048 |\n",
       "| 2015      | W         | 106086    | 341       | 0.3214373 |\n",
       "| 2016      | I         |   5271    | 102       | 1.9351167 |\n",
       "| 2016      | W         |  93532    | 299       | 0.3196767 |\n",
       "\n"
      ],
      "text/plain": [
       "   year raw_Race total_stops consent_searches consent_search_rate\n",
       "1  2009 I           913        2              0.2190581          \n",
       "2  2009 W         17220       38              0.2206736          \n",
       "3  2010 I          5702       12              0.2104525          \n",
       "4  2010 W        116418      203              0.1743717          \n",
       "5  2011 I          5113       21              0.4107178          \n",
       "6  2011 W        115694      172              0.1486680          \n",
       "7  2012 I          5035       17              0.3376365          \n",
       "8  2012 W        110193      162              0.1470148          \n",
       "9  2013 I          4812       29              0.6026600          \n",
       "10 2013 W        107109      200              0.1867257          \n",
       "11 2014 I          5344      100              1.8712575          \n",
       "12 2014 W        101912      309              0.3032028          \n",
       "13 2015 I          6605      105              1.5897048          \n",
       "14 2015 W        106086      341              0.3214373          \n",
       "15 2016 I          5271      102              1.9351167          \n",
       "16 2016 W         93532      299              0.3196767          "
      ]
     },
     "metadata": {},
     "output_type": "display_data"
    },
    {
     "data": {
      "text/html": [
       "<table>\n",
       "<thead><tr><th scope=col>year</th><th scope=col>I</th><th scope=col>W</th><th scope=col>na_to_white_search_proportion</th></tr></thead>\n",
       "<tbody>\n",
       "\t<tr><td>2009     </td><td>0.2190581</td><td>0.2206736</td><td>1.0      </td></tr>\n",
       "\t<tr><td>2010     </td><td>0.2104525</td><td>0.1743717</td><td>1.2      </td></tr>\n",
       "\t<tr><td>2011     </td><td>0.4107178</td><td>0.1486680</td><td>2.8      </td></tr>\n",
       "\t<tr><td>2012     </td><td>0.3376365</td><td>0.1470148</td><td>2.3      </td></tr>\n",
       "\t<tr><td>2013     </td><td>0.6026600</td><td>0.1867257</td><td>3.2      </td></tr>\n",
       "\t<tr><td>2014     </td><td>1.8712575</td><td>0.3032028</td><td>6.2      </td></tr>\n",
       "\t<tr><td>2015     </td><td>1.5897048</td><td>0.3214373</td><td>4.9      </td></tr>\n",
       "\t<tr><td>2016     </td><td>1.9351167</td><td>0.3196767</td><td>6.1      </td></tr>\n",
       "</tbody>\n",
       "</table>\n"
      ],
      "text/latex": [
       "\\begin{tabular}{r|llll}\n",
       " year & I & W & na\\_to\\_white\\_search\\_proportion\\\\\n",
       "\\hline\n",
       "\t 2009      & 0.2190581 & 0.2206736 & 1.0      \\\\\n",
       "\t 2010      & 0.2104525 & 0.1743717 & 1.2      \\\\\n",
       "\t 2011      & 0.4107178 & 0.1486680 & 2.8      \\\\\n",
       "\t 2012      & 0.3376365 & 0.1470148 & 2.3      \\\\\n",
       "\t 2013      & 0.6026600 & 0.1867257 & 3.2      \\\\\n",
       "\t 2014      & 1.8712575 & 0.3032028 & 6.2      \\\\\n",
       "\t 2015      & 1.5897048 & 0.3214373 & 4.9      \\\\\n",
       "\t 2016      & 1.9351167 & 0.3196767 & 6.1      \\\\\n",
       "\\end{tabular}\n"
      ],
      "text/markdown": [
       "\n",
       "| year | I | W | na_to_white_search_proportion |\n",
       "|---|---|---|---|\n",
       "| 2009      | 0.2190581 | 0.2206736 | 1.0       |\n",
       "| 2010      | 0.2104525 | 0.1743717 | 1.2       |\n",
       "| 2011      | 0.4107178 | 0.1486680 | 2.8       |\n",
       "| 2012      | 0.3376365 | 0.1470148 | 2.3       |\n",
       "| 2013      | 0.6026600 | 0.1867257 | 3.2       |\n",
       "| 2014      | 1.8712575 | 0.3032028 | 6.2       |\n",
       "| 2015      | 1.5897048 | 0.3214373 | 4.9       |\n",
       "| 2016      | 1.9351167 | 0.3196767 | 6.1       |\n",
       "\n"
      ],
      "text/plain": [
       "  year I         W         na_to_white_search_proportion\n",
       "1 2009 0.2190581 0.2206736 1.0                          \n",
       "2 2010 0.2104525 0.1743717 1.2                          \n",
       "3 2011 0.4107178 0.1486680 2.8                          \n",
       "4 2012 0.3376365 0.1470148 2.3                          \n",
       "5 2013 0.6026600 0.1867257 3.2                          \n",
       "6 2014 1.8712575 0.3032028 6.2                          \n",
       "7 2015 1.5897048 0.3214373 4.9                          \n",
       "8 2016 1.9351167 0.3196767 6.1                          "
      ]
     },
     "metadata": {},
     "output_type": "display_data"
    }
   ],
   "source": [
    "data %>%\n",
    "    group_by(year, raw_Race) %>%\n",
    "    filter(raw_Race %in% c(\"W\", \"I\"), !is.na(year)) %>%\n",
    "    summarise(\n",
    "        total_stops = n(),\n",
    "        consent_searches = sum(search_basis == \"consent\", na.rm = TRUE),\n",
    "        consent_search_rate = (consent_searches/total_stops) * 100\n",
    "    ) \n",
    "\n",
    "two_data <-\n",
    "    data %>%\n",
    "    group_by(year, raw_Race) %>%\n",
    "    filter(raw_Race %in% c(\"W\", \"I\"), !is.na(year)) %>%\n",
    "    summarise(\n",
    "        total_stops = n(),\n",
    "        consent_searches = sum(search_basis == \"consent\", na.rm = TRUE),\n",
    "        consent_search_rate = (consent_searches/total_stops) * 100\n",
    "    ) %>%\n",
    "    select(-total_stops, -consent_searches) %>%\n",
    "    spread(key = raw_Race, value = consent_search_rate) %>%\n",
    "    mutate(na_to_white_search_proportion = round(I/W, digits = 1))\n",
    "\n",
    "two_data"
   ]
  },
  {
   "cell_type": "markdown",
   "metadata": {},
   "source": [
    "#### Findings"
   ]
  },
  {
   "cell_type": "code",
   "execution_count": 25,
   "metadata": {},
   "outputs": [
    {
     "name": "stdout",
     "output_type": "stream",
     "text": [
      "[1] \"In 2009 Native Americans were searched at 1x the rate that white drivers were searched at.\"\n",
      "[1] \"In 2010 Native Americans were searched at 1.2x the rate that white drivers were searched at.\"\n",
      "[1] \"In 2011 Native Americans were searched at 2.8x the rate that white drivers were searched at.\"\n",
      "[1] \"In 2012 Native Americans were searched at 2.3x the rate that white drivers were searched at.\"\n",
      "[1] \"In 2013 Native Americans were searched at 3.2x the rate that white drivers were searched at.\"\n",
      "[1] \"In 2014 Native Americans were searched at 6.2x the rate that white drivers were searched at.\"\n",
      "[1] \"In 2015 Native Americans were searched at 4.9x the rate that white drivers were searched at.\"\n",
      "[1] \"In 2016 Native Americans were searched at 6.1x the rate that white drivers were searched at.\"\n"
     ]
    }
   ],
   "source": [
    "for (y in two_data$year) {\n",
    "    \n",
    "    two_na_csearch_rate <- two_data %>% filter(year == y) %>% pull(na_to_white_search_proportion)\n",
    "    \n",
    "    paste0(\"In \", y, \" Native Americans were searched at \", two_na_csearch_rate, \"x the rate that white drivers were searched at.\") %>% print()\n",
    "    \n",
    "}"
   ]
  },
  {
   "cell_type": "code",
   "execution_count": 26,
   "metadata": {},
   "outputs": [
    {
     "data": {
      "image/png": "[encoded data removed]",
      "text/plain": [
       "plot without title"
      ]
     },
     "metadata": {},
     "output_type": "display_data"
    }
   ],
   "source": [
    "two_data %>%\n",
    "    ggplot(aes(x = year, y = na_to_white_search_proportion)) +\n",
    "    geom_point() +\n",
    "    geom_line() +\n",
    "    theme_bw() +\n",
    "    scale_x_continuous(\n",
    "    labels = two_data$year %>% as.character(),\n",
    "    breaks = two_data$year\n",
    "    ) +\n",
    "    annotate(geom = \"text\", x = 2013, y = 5.5, label = \"Sudden Increase\\nin 2014\") +\n",
    "    scale_y_continuous(\n",
    "        labels = c(1:6) %>% as.character(),\n",
    "        breaks = c(1:6)\n",
    "    ) +\n",
    "    labs(\n",
    "        title = \"Increase in Relative Rate at Which Native American Drivers\\nare Searched in Montana\",\n",
    "        x = \"Year\",\n",
    "        y = \"Relative Number of Native American Drivers Subjected To\\nConsent Searches for Every White Driver Searched\"\n",
    "    )"
   ]
  },
  {
   "cell_type": "markdown",
   "metadata": {},
   "source": [
    "#### 3) Native American and White Consent Search Rate On and Near Flathead Indian Reservation"
   ]
  },
  {
   "cell_type": "markdown",
   "metadata": {},
   "source": [
    "SENTENCE: \"In the highway patrol districts covering the Flathead Indian Reservation, a 1,900-square-mile expanse near the western border of the state, officers searched 30 of every 1,000 Native American drivers they stopped but only three of every 1,000 white drivers.\"\n",
    "\n",
    "CHECKING:\n",
    "* NA and White consent search rate in counties in/surrounding Flathead Indian Reservation"
   ]
  },
  {
   "cell_type": "code",
   "execution_count": 27,
   "metadata": {},
   "outputs": [
    {
     "data": {
      "text/html": [
       "<table>\n",
       "<thead><tr><th scope=col>raw_Race</th><th scope=col>total_stops</th><th scope=col>consent_searches</th><th scope=col>consent_search_rate</th></tr></thead>\n",
       "<tbody>\n",
       "\t<tr><td>I        </td><td>  7143   </td><td>209      </td><td>2.9259415</td></tr>\n",
       "\t<tr><td>W        </td><td>214210   </td><td>553      </td><td>0.2581579</td></tr>\n",
       "</tbody>\n",
       "</table>\n"
      ],
      "text/latex": [
       "\\begin{tabular}{r|llll}\n",
       " raw\\_Race & total\\_stops & consent\\_searches & consent\\_search\\_rate\\\\\n",
       "\\hline\n",
       "\t I         &   7143    & 209       & 2.9259415\\\\\n",
       "\t W         & 214210    & 553       & 0.2581579\\\\\n",
       "\\end{tabular}\n"
      ],
      "text/markdown": [
       "\n",
       "| raw_Race | total_stops | consent_searches | consent_search_rate |\n",
       "|---|---|---|---|\n",
       "| I         |   7143    | 209       | 2.9259415 |\n",
       "| W         | 214210    | 553       | 0.2581579 |\n",
       "\n"
      ],
      "text/plain": [
       "  raw_Race total_stops consent_searches consent_search_rate\n",
       "1 I          7143      209              2.9259415          \n",
       "2 W        214210      553              0.2581579          "
      ]
     },
     "metadata": {},
     "output_type": "display_data"
    }
   ],
   "source": [
    "three_data <-\n",
    "    data %>%\n",
    "    group_by(raw_Race) %>%\n",
    "    filter(raw_Race %in% c(\"W\", \"I\"), county_name %in% flathead_counties) %>%\n",
    "    summarise(\n",
    "        total_stops = n(),\n",
    "        consent_searches = sum(search_basis == \"consent\", na.rm = TRUE),\n",
    "        consent_search_rate = (consent_searches/total_stops) * 100\n",
    "    )\n",
    "\n",
    "three_data"
   ]
  },
  {
   "cell_type": "code",
   "execution_count": 28,
   "metadata": {},
   "outputs": [],
   "source": [
    "three_na_csearch_rate <-\n",
    "    three_data %>%\n",
    "    filter(raw_Race == \"I\") %>%\n",
    "    pull(consent_search_rate) %>%\n",
    "    round(digits = 4)\n",
    "\n",
    "three_w_csearch_rate <-\n",
    "    three_data %>%\n",
    "    filter(raw_Race == \"W\") %>%\n",
    "    pull(consent_search_rate) %>%\n",
    "    round(digits = 4)"
   ]
  },
  {
   "cell_type": "markdown",
   "metadata": {},
   "source": [
    "#### Findings"
   ]
  },
  {
   "cell_type": "code",
   "execution_count": 29,
   "metadata": {},
   "outputs": [
    {
     "data": {
      "text/html": [
       "'Native American Consent Search Rate Around Flathead: 2.9259%'"
      ],
      "text/latex": [
       "'Native American Consent Search Rate Around Flathead: 2.9259\\%'"
      ],
      "text/markdown": [
       "'Native American Consent Search Rate Around Flathead: 2.9259%'"
      ],
      "text/plain": [
       "[1] \"Native American Consent Search Rate Around Flathead: 2.9259%\""
      ]
     },
     "metadata": {},
     "output_type": "display_data"
    },
    {
     "data": {
      "text/html": [
       "'White Consent Search Rate Around Flathead: 0.2582%'"
      ],
      "text/latex": [
       "'White Consent Search Rate Around Flathead: 0.2582\\%'"
      ],
      "text/markdown": [
       "'White Consent Search Rate Around Flathead: 0.2582%'"
      ],
      "text/plain": [
       "[1] \"White Consent Search Rate Around Flathead: 0.2582%\""
      ]
     },
     "metadata": {},
     "output_type": "display_data"
    },
    {
     "data": {
      "text/html": [
       "'Native American drivers are subjected to consent searches 11.3x more often than White drivers around Flathead Indian Reservation.'"
      ],
      "text/latex": [
       "'Native American drivers are subjected to consent searches 11.3x more often than White drivers around Flathead Indian Reservation.'"
      ],
      "text/markdown": [
       "'Native American drivers are subjected to consent searches 11.3x more often than White drivers around Flathead Indian Reservation.'"
      ],
      "text/plain": [
       "[1] \"Native American drivers are subjected to consent searches 11.3x more often than White drivers around Flathead Indian Reservation.\""
      ]
     },
     "metadata": {},
     "output_type": "display_data"
    }
   ],
   "source": [
    "paste0(\"Native American Consent Search Rate Around Flathead: \", three_na_csearch_rate, \"%\")\n",
    "paste0(\"White Consent Search Rate Around Flathead: \", three_w_csearch_rate, \"%\")\n",
    "\n",
    "paste0(\n",
    "    \"Native American drivers are subjected to consent searches \",\n",
    "    round(three_na_csearch_rate/three_w_csearch_rate, digits = 1), \n",
    "    \"x more often than White drivers around Flathead Indian Reservation.\"\n",
    ")"
   ]
  },
  {
   "cell_type": "markdown",
   "metadata": {},
   "source": [
    "### 4) Proportion of Data Made up by Native Americans\n",
    "\n",
    "SENTENCE: \"Native American drivers made up less than 5% of Montana Highway Patrol traffic stops but more than 17% of consent searches in the state.\"\n",
    "\n",
    "CHECKING:\n",
    "* Proportion of Native Americans in the stops data\n",
    "* Proportion of Native Americans in the consent search data"
   ]
  },
  {
   "cell_type": "code",
   "execution_count": 49,
   "metadata": {},
   "outputs": [
    {
     "data": {
      "text/html": [
       "<table>\n",
       "<thead><tr><th scope=col>raw_Race</th><th scope=col>n</th><th scope=col>prop_stops</th></tr></thead>\n",
       "<tbody>\n",
       "\t<tr><td>NA          </td><td>     8      </td><td>9.917278e-06</td></tr>\n",
       "\t<tr><td>A           </td><td>  6588      </td><td>8.166878e-03</td></tr>\n",
       "\t<tr><td>B           </td><td>  8655      </td><td>1.072925e-02</td></tr>\n",
       "\t<tr><td>I           </td><td> 37882      </td><td>4.696079e-02</td></tr>\n",
       "\t<tr><td>U           </td><td>  2596      </td><td>3.218157e-03</td></tr>\n",
       "\t<tr><td>W           </td><td>750944      </td><td>9.309150e-01</td></tr>\n",
       "</tbody>\n",
       "</table>\n"
      ],
      "text/latex": [
       "\\begin{tabular}{r|lll}\n",
       " raw\\_Race & n & prop\\_stops\\\\\n",
       "\\hline\n",
       "\t NA           &      8       & 9.917278e-06\\\\\n",
       "\t A            &   6588       & 8.166878e-03\\\\\n",
       "\t B            &   8655       & 1.072925e-02\\\\\n",
       "\t I            &  37882       & 4.696079e-02\\\\\n",
       "\t U            &   2596       & 3.218157e-03\\\\\n",
       "\t W            & 750944       & 9.309150e-01\\\\\n",
       "\\end{tabular}\n"
      ],
      "text/markdown": [
       "\n",
       "| raw_Race | n | prop_stops |\n",
       "|---|---|---|\n",
       "| NA           |      8       | 9.917278e-06 |\n",
       "| A            |   6588       | 8.166878e-03 |\n",
       "| B            |   8655       | 1.072925e-02 |\n",
       "| I            |  37882       | 4.696079e-02 |\n",
       "| U            |   2596       | 3.218157e-03 |\n",
       "| W            | 750944       | 9.309150e-01 |\n",
       "\n"
      ],
      "text/plain": [
       "  raw_Race n      prop_stops  \n",
       "1 NA            8 9.917278e-06\n",
       "2 A          6588 8.166878e-03\n",
       "3 B          8655 1.072925e-02\n",
       "4 I         37882 4.696079e-02\n",
       "5 U          2596 3.218157e-03\n",
       "6 W        750944 9.309150e-01"
      ]
     },
     "metadata": {},
     "output_type": "display_data"
    }
   ],
   "source": [
    "#Proportion of each race in the stops data\n",
    "data <- filter(data, year(date) > 2009)\n",
    "data %>% \n",
    "  count(raw_Race) %>% \n",
    "  mutate(prop_stops = n / sum(n))"
   ]
  },
  {
   "cell_type": "code",
   "execution_count": 36,
   "metadata": {},
   "outputs": [
    {
     "data": {
      "text/html": [
       "<table>\n",
       "<thead><tr><th scope=col>raw_Race</th><th scope=col>n</th><th scope=col>prop_consent</th></tr></thead>\n",
       "<tbody>\n",
       "\t<tr><td>A           </td><td>  31        </td><td>0.0141101502</td></tr>\n",
       "\t<tr><td>B           </td><td>  92        </td><td>0.0418752845</td></tr>\n",
       "\t<tr><td>I           </td><td> 386        </td><td>0.1756941284</td></tr>\n",
       "\t<tr><td>U           </td><td>   2        </td><td>0.0009103323</td></tr>\n",
       "\t<tr><td>W           </td><td>1686        </td><td>0.7674101047</td></tr>\n",
       "</tbody>\n",
       "</table>\n"
      ],
      "text/latex": [
       "\\begin{tabular}{r|lll}\n",
       " raw\\_Race & n & prop\\_consent\\\\\n",
       "\\hline\n",
       "\t A            &   31         & 0.0141101502\\\\\n",
       "\t B            &   92         & 0.0418752845\\\\\n",
       "\t I            &  386         & 0.1756941284\\\\\n",
       "\t U            &    2         & 0.0009103323\\\\\n",
       "\t W            & 1686         & 0.7674101047\\\\\n",
       "\\end{tabular}\n"
      ],
      "text/markdown": [
       "\n",
       "| raw_Race | n | prop_consent |\n",
       "|---|---|---|\n",
       "| A            |   31         | 0.0141101502 |\n",
       "| B            |   92         | 0.0418752845 |\n",
       "| I            |  386         | 0.1756941284 |\n",
       "| U            |    2         | 0.0009103323 |\n",
       "| W            | 1686         | 0.7674101047 |\n",
       "\n"
      ],
      "text/plain": [
       "  raw_Race n    prop_consent\n",
       "1 A          31 0.0141101502\n",
       "2 B          92 0.0418752845\n",
       "3 I         386 0.1756941284\n",
       "4 U           2 0.0009103323\n",
       "5 W        1686 0.7674101047"
      ]
     },
     "metadata": {},
     "output_type": "display_data"
    }
   ],
   "source": [
    "#Proportion of each race after filtering to just consent searches\n",
    "\n",
    "consent_searches_data <- data %>% filter(search_basis == 'consent')\n",
    "consent_searches_data %>% \n",
    "  count(raw_Race) %>% \n",
    "  mutate(prop_consent = n / sum(n))"
   ]
  },
  {
   "cell_type": "markdown",
   "metadata": {},
   "source": [
    "### 5) Arrest Rates\n",
    "\n",
    "SENTENCE: \"An analysis of the 500 arrests made following consent searches found a higher arrest rate for Native American drivers than white drivers. Three of every ten Native American drivers subject to a consent search were arrested, compared to only two of every ten white drivers subject to a consent search.\"\n",
    "\n",
    "CHECKING:\n",
    "* Arrest Rate for Native American drivers who were consent searched\n",
    "* Arrest Rate for white drivers who were consent searched"
   ]
  },
  {
   "cell_type": "code",
   "execution_count": 33,
   "metadata": {},
   "outputs": [
    {
     "data": {
      "text/html": [
       "<table>\n",
       "<thead><tr><th scope=col>raw_Race</th><th scope=col>arrest_rate</th></tr></thead>\n",
       "<tbody>\n",
       "\t<tr><td>A         </td><td>0.06060606</td></tr>\n",
       "\t<tr><td>B         </td><td>0.12903226</td></tr>\n",
       "\t<tr><td>I         </td><td>0.31958763</td></tr>\n",
       "\t<tr><td>U         </td><td>0.50000000</td></tr>\n",
       "\t<tr><td>W         </td><td>0.21461717</td></tr>\n",
       "</tbody>\n",
       "</table>\n"
      ],
      "text/latex": [
       "\\begin{tabular}{r|ll}\n",
       " raw\\_Race & arrest\\_rate\\\\\n",
       "\\hline\n",
       "\t A          & 0.06060606\\\\\n",
       "\t B          & 0.12903226\\\\\n",
       "\t I          & 0.31958763\\\\\n",
       "\t U          & 0.50000000\\\\\n",
       "\t W          & 0.21461717\\\\\n",
       "\\end{tabular}\n"
      ],
      "text/markdown": [
       "\n",
       "| raw_Race | arrest_rate |\n",
       "|---|---|\n",
       "| A          | 0.06060606 |\n",
       "| B          | 0.12903226 |\n",
       "| I          | 0.31958763 |\n",
       "| U          | 0.50000000 |\n",
       "| W          | 0.21461717 |\n",
       "\n"
      ],
      "text/plain": [
       "  raw_Race arrest_rate\n",
       "1 A        0.06060606 \n",
       "2 B        0.12903226 \n",
       "3 I        0.31958763 \n",
       "4 U        0.50000000 \n",
       "5 W        0.21461717 "
      ]
     },
     "metadata": {},
     "output_type": "display_data"
    }
   ],
   "source": [
    "consent_searches_data %>% \n",
    "  group_by(raw_Race) %>% \n",
    "  summarize(\n",
    "    arrest_rate = mean(arrest_made, na.rm = T),\n",
    "  )"
   ]
  },
  {
   "cell_type": "markdown",
   "metadata": {},
   "source": [
    "### 6) Consent Search Rate Around Flathead\n",
    "\n",
    "SENTENCE: \"Two patrol districts — District 1 and District 6 — bisect the Flathead Indian Reservation. Between 2010 and 2016, the search rate for Native American drivers in those districts was three times higher than the statewide search rate for Native American drivers. Meanwhile, officers searched white drivers travelling in the same territory at a rate consistent with the statewide trend.\"\n",
    "\n",
    "CHECKING:\n",
    "* Statewide consent search rate for Native American drivers\n",
    "* Consent search rate for Native American drivers around Flathead\n",
    "* Statewide consent search rate for white drivers\n",
    "* Consent search rate for white drivvers around Flathead"
   ]
  },
  {
   "cell_type": "code",
   "execution_count": 50,
   "metadata": {},
   "outputs": [
    {
     "data": {
      "text/html": [
       "<table>\n",
       "<thead><tr><th scope=col>raw_Race</th><th scope=col>total_stops</th><th scope=col>consent_searches</th><th scope=col>consent_search_rate</th></tr></thead>\n",
       "<tbody>\n",
       "\t<tr><td>NA         </td><td>     8     </td><td>   0       </td><td>0.000000000</td></tr>\n",
       "\t<tr><td>A          </td><td>  6588     </td><td>  31       </td><td>0.004705525</td></tr>\n",
       "\t<tr><td>B          </td><td>  8655     </td><td>  92       </td><td>0.010629694</td></tr>\n",
       "\t<tr><td>I          </td><td> 37882     </td><td> 386       </td><td>0.010189536</td></tr>\n",
       "\t<tr><td>U          </td><td>  2596     </td><td>   2       </td><td>0.000770416</td></tr>\n",
       "\t<tr><td>W          </td><td>750944     </td><td>1686       </td><td>0.002245174</td></tr>\n",
       "</tbody>\n",
       "</table>\n"
      ],
      "text/latex": [
       "\\begin{tabular}{r|llll}\n",
       " raw\\_Race & total\\_stops & consent\\_searches & consent\\_search\\_rate\\\\\n",
       "\\hline\n",
       "\t NA          &      8      &    0        & 0.000000000\\\\\n",
       "\t A           &   6588      &   31        & 0.004705525\\\\\n",
       "\t B           &   8655      &   92        & 0.010629694\\\\\n",
       "\t I           &  37882      &  386        & 0.010189536\\\\\n",
       "\t U           &   2596      &    2        & 0.000770416\\\\\n",
       "\t W           & 750944      & 1686        & 0.002245174\\\\\n",
       "\\end{tabular}\n"
      ],
      "text/markdown": [
       "\n",
       "| raw_Race | total_stops | consent_searches | consent_search_rate |\n",
       "|---|---|---|---|\n",
       "| NA          |      8      |    0        | 0.000000000 |\n",
       "| A           |   6588      |   31        | 0.004705525 |\n",
       "| B           |   8655      |   92        | 0.010629694 |\n",
       "| I           |  37882      |  386        | 0.010189536 |\n",
       "| U           |   2596      |    2        | 0.000770416 |\n",
       "| W           | 750944      | 1686        | 0.002245174 |\n",
       "\n"
      ],
      "text/plain": [
       "  raw_Race total_stops consent_searches consent_search_rate\n",
       "1 NA            8         0             0.000000000        \n",
       "2 A          6588        31             0.004705525        \n",
       "3 B          8655        92             0.010629694        \n",
       "4 I         37882       386             0.010189536        \n",
       "5 U          2596         2             0.000770416        \n",
       "6 W        750944      1686             0.002245174        "
      ]
     },
     "metadata": {},
     "output_type": "display_data"
    }
   ],
   "source": [
    "#Statewide consent search rate for all races\n",
    "\n",
    "data %>%\n",
    "group_by(raw_Race) %>%\n",
    "summarize(\n",
    "    total_stops = n(),\n",
    "    consent_searches = sum(search_basis == \"consent\", na.rm = T),\n",
    "    consent_search_rate = (consent_searches/total_stops)\n",
    ")"
   ]
  },
  {
   "cell_type": "code",
   "execution_count": 51,
   "metadata": {},
   "outputs": [
    {
     "data": {
      "text/html": [
       "<table>\n",
       "<thead><tr><th scope=col>raw_Race</th><th scope=col>total_stops</th><th scope=col>consent_searches</th><th scope=col>consent_search_rate</th></tr></thead>\n",
       "<tbody>\n",
       "\t<tr><td>NA         </td><td>     2     </td><td>  0        </td><td>0.000000000</td></tr>\n",
       "\t<tr><td>A          </td><td>  1347     </td><td>  7        </td><td>0.005196733</td></tr>\n",
       "\t<tr><td>B          </td><td>  1361     </td><td> 21        </td><td>0.015429831</td></tr>\n",
       "\t<tr><td>I          </td><td>  6883     </td><td>208        </td><td>0.030219381</td></tr>\n",
       "\t<tr><td>U          </td><td>   537     </td><td>  2        </td><td>0.003724395</td></tr>\n",
       "\t<tr><td>W          </td><td>208580     </td><td>549        </td><td>0.002632084</td></tr>\n",
       "</tbody>\n",
       "</table>\n"
      ],
      "text/latex": [
       "\\begin{tabular}{r|llll}\n",
       " raw\\_Race & total\\_stops & consent\\_searches & consent\\_search\\_rate\\\\\n",
       "\\hline\n",
       "\t NA          &      2      &   0         & 0.000000000\\\\\n",
       "\t A           &   1347      &   7         & 0.005196733\\\\\n",
       "\t B           &   1361      &  21         & 0.015429831\\\\\n",
       "\t I           &   6883      & 208         & 0.030219381\\\\\n",
       "\t U           &    537      &   2         & 0.003724395\\\\\n",
       "\t W           & 208580      & 549         & 0.002632084\\\\\n",
       "\\end{tabular}\n"
      ],
      "text/markdown": [
       "\n",
       "| raw_Race | total_stops | consent_searches | consent_search_rate |\n",
       "|---|---|---|---|\n",
       "| NA          |      2      |   0         | 0.000000000 |\n",
       "| A           |   1347      |   7         | 0.005196733 |\n",
       "| B           |   1361      |  21         | 0.015429831 |\n",
       "| I           |   6883      | 208         | 0.030219381 |\n",
       "| U           |    537      |   2         | 0.003724395 |\n",
       "| W           | 208580      | 549         | 0.002632084 |\n",
       "\n"
      ],
      "text/plain": [
       "  raw_Race total_stops consent_searches consent_search_rate\n",
       "1 NA            2        0              0.000000000        \n",
       "2 A          1347        7              0.005196733        \n",
       "3 B          1361       21              0.015429831        \n",
       "4 I          6883      208              0.030219381        \n",
       "5 U           537        2              0.003724395        \n",
       "6 W        208580      549              0.002632084        "
      ]
     },
     "metadata": {},
     "output_type": "display_data"
    }
   ],
   "source": [
    "#Flathead consent search rate for all races\n",
    "\n",
    "flat_head_data <- data %>% filter(county_name %in% flathead_counties)\n",
    "\n",
    "flat_head_data %>%\n",
    "group_by(raw_Race) %>%\n",
    "summarize(\n",
    "    total_stops = n(),\n",
    "    consent_searches = sum(search_basis == \"consent\", na.rm = T),\n",
    "    consent_search_rate = (consent_searches/total_stops)\n",
    ")"
   ]
  },
  {
   "cell_type": "code",
   "execution_count": null,
   "metadata": {},
   "outputs": [],
   "source": []
  }
 ],
 "metadata": {
  "kernelspec": {
   "display_name": "R",
   "language": "R",
   "name": "ir"
  },
  "language_info": {
   "codemirror_mode": "r",
   "file_extension": ".r",
   "mimetype": "text/x-r-source",
   "name": "R",
   "pygments_lexer": "r",
   "version": "3.6.1"
  }
 },
 "nbformat": 4,
 "nbformat_minor": 4
}
