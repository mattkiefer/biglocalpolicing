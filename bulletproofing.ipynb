###########
# MONTANA #
###########

#TODO get all stops

#TODO filter to consent searches

#TODO group by race, get consent search rate (searches/stops)

#TODO derive arrest rate for consent-searched NA, white drivers (arrests/searches)

#TODO filter by geography (flathead, or the district it belongs to)

#TODO rerun consent search rate for flathead

#TODO etc
